{
 "cells": [
  {
   "cell_type": "code",
   "execution_count": 1,
   "metadata": {},
   "outputs": [],
   "source": [
    "import envpool\n",
    "# import gymnasium as gym\n",
    "import gym"
   ]
  },
  {
   "cell_type": "code",
   "execution_count": 2,
   "metadata": {},
   "outputs": [],
   "source": [
    "import argparse\n",
    "import os\n",
    "import random\n",
    "import time\n",
    "from collections import deque\n",
    "from distutils.util import strtobool"
   ]
  },
  {
   "cell_type": "code",
   "execution_count": 3,
   "metadata": {},
   "outputs": [
    {
     "name": "stderr",
     "output_type": "stream",
     "text": [
      "/mnt/harddisk1/anaconda3/envs/darl2/lib/python3.9/site-packages/torch/utils/tensorboard/__init__.py:4: DeprecationWarning: distutils Version classes are deprecated. Use packaging.version instead.\n",
      "  if not hasattr(tensorboard, \"__version__\") or LooseVersion(\n"
     ]
    }
   ],
   "source": [
    "import numpy as np\n",
    "import torch\n",
    "import torch.nn as nn\n",
    "import torch.optim as optim\n",
    "from torch.distributions.categorical import Categorical\n",
    "from torch.utils.tensorboard import SummaryWriter"
   ]
  },
  {
   "cell_type": "code",
   "execution_count": 4,
   "metadata": {},
   "outputs": [
    {
     "data": {
      "text/plain": [
       "<bound method EnvRegistry.make_dm of <envpool.registration.EnvRegistry object at 0x7ffa56cee220>>"
      ]
     },
     "execution_count": 4,
     "metadata": {},
     "output_type": "execute_result"
    }
   ],
   "source": [
    "envpool.make_dm"
   ]
  },
  {
   "cell_type": "code",
   "execution_count": 5,
   "metadata": {},
   "outputs": [],
   "source": [
    "classic_control_envs = [\n",
    " 'CartPole-v0',\n",
    " 'CartPole-v1',\n",
    " 'MountainCar-v0',\n",
    " 'MountainCarContinuous-v0',\n",
    " 'Pendulum-v0',\n",
    " 'Pendulum-v1',\n",
    " 'Acrobot-v1',\n",
    " ]"
   ]
  },
  {
   "cell_type": "code",
   "execution_count": 6,
   "metadata": {},
   "outputs": [],
   "source": [
    "box2d_envs = [\n",
    "'BipedalWalker-v3',\n",
    " 'BipedalWalkerHardcore-v3',\n",
    " 'LunarLander-v2',\n",
    " 'LunarLanderContinuous-v2',\n",
    "]"
   ]
  },
  {
   "cell_type": "code",
   "execution_count": 7,
   "metadata": {},
   "outputs": [],
   "source": [
    "dmc_envs = [\n",
    "'AcrobotSwingup-v1',\n",
    " 'AcrobotSwingupSparse-v1',\n",
    " 'BallInCupCatch-v1',\n",
    "'CartpoleBalance-v1',\n",
    " 'CartpoleBalanceSparse-v1',\n",
    " 'CartpoleSwingup-v1',\n",
    " 'CartpoleSwingupSparse-v1',\n",
    " 'CartpoleThreePoles-v1',\n",
    " 'CartpoleTwoPoles-v1',\n",
    "  'CheetahRun-v1',\n",
    " 'FingerSpin-v1',\n",
    " 'FingerTurnEasy-v1',\n",
    " 'FingerTurnHard-v1',\n",
    " 'FishSwim-v1',\n",
    " 'FishUpright-v1',\n",
    " 'HopperHop-v1',\n",
    " 'HopperStand-v1',\n",
    " 'HumanoidRun-v1',\n",
    " 'HumanoidRunPureState-v1',\n",
    " 'HumanoidStand-v1',\n",
    " 'HumanoidWalk-v1',\n",
    " 'HumanoidCMURun-v1',\n",
    " 'HumanoidCMUStand-v1',\n",
    " 'ManipulatorBringBall-v1',\n",
    " 'ManipulatorBringPeg-v1',\n",
    " 'ManipulatorInsertBall-v1',\n",
    " 'ManipulatorInsertPeg-v1',\n",
    " 'PendulumSwingup-v1',\n",
    " 'PointMassEasy-v1',\n",
    " 'PointMassHard-v1',\n",
    " 'ReacherEasy-v1',\n",
    " 'ReacherHard-v1',\n",
    " 'SwimmerSwimmer6-v1',\n",
    " 'SwimmerSwimmer15-v1',\n",
    " 'WalkerRun-v1',\n",
    " 'WalkerStand-v1',\n",
    " 'WalkerWalk-v1',\n",
    "]"
   ]
  },
  {
   "cell_type": "code",
   "execution_count": 8,
   "metadata": {},
   "outputs": [],
   "source": [
    "mujoco_envs = [\n",
    " 'Ant-v4',\n",
    " 'HalfCheetah-v4',\n",
    " 'Hopper-v4',\n",
    " 'Humanoid-v4',\n",
    " 'HumanoidStandup-v4',\n",
    " 'InvertedDoublePendulum-v4',\n",
    " 'InvertedPendulum-v4',\n",
    " 'Pusher-v4',\n",
    " 'Reacher-v4',\n",
    " 'Swimmer-v4',\n",
    " 'Walker2d-v4',\n",
    "]"
   ]
  },
  {
   "cell_type": "code",
   "execution_count": 9,
   "metadata": {},
   "outputs": [],
   "source": [
    "image_envs = [\n",
    "'Adventure-v5',\n",
    " 'AirRaid-v5',\n",
    " 'Alien-v5',\n",
    " 'Amidar-v5',\n",
    " 'Assault-v5',\n",
    " 'Asterix-v5',\n",
    " 'Asteroids-v5',\n",
    " 'Atlantis-v5',\n",
    " 'Atlantis2-v5',\n",
    " 'Backgammon-v5',\n",
    " 'BankHeist-v5',\n",
    " 'BasicMath-v5',\n",
    " 'BattleZone-v5',\n",
    " 'BeamRider-v5',\n",
    " 'Berzerk-v5',\n",
    " 'Blackjack-v5',\n",
    " 'Bowling-v5',\n",
    " 'Boxing-v5',\n",
    " 'Breakout-v5',\n",
    " 'Carnival-v5',\n",
    " 'Casino-v5',\n",
    " 'Centipede-v5',\n",
    " 'ChopperCommand-v5',\n",
    " 'CrazyClimber-v5',\n",
    " 'Crossbow-v5',\n",
    " 'Darkchambers-v5',\n",
    " 'Defender-v5',\n",
    " 'DemonAttack-v5',\n",
    " 'DonkeyKong-v5',\n",
    " 'DoubleDunk-v5',\n",
    " 'Earthworld-v5',\n",
    " 'ElevatorAction-v5',\n",
    " 'Enduro-v5',\n",
    " 'Entombed-v5',\n",
    " 'Et-v5',\n",
    " 'FishingDerby-v5',\n",
    " 'FlagCapture-v5',\n",
    " 'Freeway-v5',\n",
    " 'Frogger-v5',\n",
    " 'Frostbite-v5',\n",
    " 'Galaxian-v5',\n",
    " 'Gopher-v5',\n",
    " 'Gravitar-v5',\n",
    " 'Hangman-v5',\n",
    " 'HauntedHouse-v5',\n",
    " 'Hero-v5',\n",
    " 'HumanCannonball-v5',\n",
    " 'IceHockey-v5',\n",
    " 'Jamesbond-v5',\n",
    " 'JourneyEscape-v5',\n",
    " 'Kaboom-v5',\n",
    " 'Kangaroo-v5',\n",
    " 'KeystoneKapers-v5',\n",
    " 'KingKong-v5',\n",
    " 'Klax-v5',\n",
    " 'Koolaid-v5',\n",
    " 'Krull-v5',\n",
    " 'KungFuMaster-v5',\n",
    " 'LaserGates-v5',\n",
    " 'LostLuggage-v5',\n",
    " 'MarioBros-v5',\n",
    " 'MiniatureGolf-v5',\n",
    " 'MontezumaRevenge-v5',\n",
    " 'MrDo-v5',\n",
    " 'MsPacman-v5',\n",
    " 'NameThisGame-v5',\n",
    " 'Othello-v5',\n",
    " 'Pacman-v5',\n",
    " 'Phoenix-v5',\n",
    " 'Pitfall-v5',\n",
    " 'Pitfall2-v5',\n",
    " 'Pong-v5',\n",
    " 'Pooyan-v5',\n",
    " 'PrivateEye-v5',\n",
    " 'Qbert-v5',\n",
    " 'Riverraid-v5',\n",
    " 'RoadRunner-v5',\n",
    " 'Robotank-v5',\n",
    " 'Seaquest-v5',\n",
    " 'SirLancelot-v5',\n",
    " 'Skiing-v5',\n",
    " 'Solaris-v5',\n",
    " 'SpaceInvaders-v5',\n",
    " 'SpaceWar-v5',\n",
    " 'StarGunner-v5',\n",
    " 'Superman-v5',\n",
    " 'Surround-v5',\n",
    " 'Tennis-v5',\n",
    " 'Tetris-v5',\n",
    " 'TicTacToe3d-v5',\n",
    " 'TimePilot-v5',\n",
    " 'Trondead-v5',\n",
    " 'Turmoil-v5',\n",
    " 'Tutankham-v5',\n",
    " 'UpNDown-v5',\n",
    " 'Venture-v5',\n",
    " 'VideoCheckers-v5',\n",
    " 'VideoChess-v5',\n",
    " 'VideoCube-v5',\n",
    " 'VideoPinball-v5',\n",
    " 'WizardOfWor-v5',\n",
    " 'WordZapper-v5',\n",
    " 'YarsRevenge-v5',\n",
    " 'Zaxxon-v5',\n",
    " 'CarRacing-v2',\n",
    "]"
   ]
  },
  {
   "cell_type": "code",
   "execution_count": 10,
   "metadata": {},
   "outputs": [],
   "source": [
    "procgen_envs = [\n",
    "'BigfishEasy-v0',\n",
    " 'BigfishHard-v0',\n",
    " 'BossfightEasy-v0',\n",
    " 'BossfightHard-v0',\n",
    " 'CaveflyerEasy-v0',\n",
    " 'CaveflyerHard-v0',\n",
    " 'CaveflyerMemory-v0',\n",
    " 'ChaserEasy-v0',\n",
    " 'ChaserHard-v0',\n",
    " 'ChaserExtreme-v0',\n",
    " 'ClimberEasy-v0',\n",
    " 'ClimberHard-v0',\n",
    " 'CoinrunEasy-v0',\n",
    " 'CoinrunHard-v0',\n",
    " 'DodgeballEasy-v0',\n",
    " 'DodgeballHard-v0',\n",
    " 'DodgeballExtreme-v0',\n",
    " 'DodgeballMemory-v0',\n",
    " 'FruitbotEasy-v0',\n",
    " 'FruitbotHard-v0',\n",
    " 'HeistEasy-v0',\n",
    " 'HeistHard-v0',\n",
    " 'HeistMemory-v0',\n",
    " 'JumperEasy-v0',\n",
    " 'JumperHard-v0',\n",
    " 'JumperMemory-v0',\n",
    " 'LeaperEasy-v0',\n",
    " 'LeaperHard-v0',\n",
    " 'LeaperExtreme-v0',\n",
    " 'MazeEasy-v0',\n",
    " 'MazeHard-v0',\n",
    " 'MazeMemory-v0',\n",
    " 'MinerEasy-v0',\n",
    " 'MinerHard-v0',\n",
    " 'MinerMemory-v0',\n",
    " 'NinjaEasy-v0',\n",
    " 'NinjaHard-v0',\n",
    " 'PlunderEasy-v0',\n",
    " 'PlunderHard-v0',\n",
    " 'StarpilotEasy-v0',\n",
    " 'StarpilotHard-v0',\n",
    " 'StarpilotExtreme-v0',\n",
    "  'Catch-v0',\n",
    "]"
   ]
  },
  {
   "cell_type": "code",
   "execution_count": 11,
   "metadata": {},
   "outputs": [],
   "source": [
    "toy_envs = [ 'FrozenLake-v1',\n",
    " 'FrozenLake8x8-v1',\n",
    " 'Taxi-v3',\n",
    " 'NChain-v0',\n",
    " 'CliffWalking-v0',\n",
    " 'Blackjack-v1',]"
   ]
  },
  {
   "cell_type": "code",
   "execution_count": 12,
   "metadata": {},
   "outputs": [],
   "source": [
    "vis_doom_envs = ['D1Basic-v1',\n",
    " 'D2Navigation-v1',\n",
    " 'D3Battle-v1',\n",
    " 'D4Battle2-v1',\n",
    " 'Basic-v1',\n",
    " 'Cig-v1',\n",
    " 'DeadlyCorridor-v1',\n",
    " 'Deathmatch-v1',\n",
    " 'DefendTheCenter-v1',\n",
    " 'DefendTheLine-v1',\n",
    " 'HealthGathering-v1',\n",
    " 'HealthGatheringSupreme-v1',\n",
    " 'MultiDuel-v1',\n",
    " 'MyWayHome-v1',\n",
    " 'PredictPosition-v1',\n",
    " 'RocketBasic-v1',\n",
    " 'SimplerBasic-v1',\n",
    " 'TakeCover-v1',\n",
    " 'VizdoomCustom-v1']"
   ]
  },
  {
   "cell_type": "code",
   "execution_count": 13,
   "metadata": {},
   "outputs": [
    {
     "data": {
      "text/plain": [
       "54"
      ]
     },
     "execution_count": 13,
     "metadata": {},
     "output_type": "execute_result"
    }
   ],
   "source": [
    "lst = [\n",
    "  # \n",
    "  'CartPole-v1',\n",
    " 'MountainCar-v0',\n",
    " 'MountainCarContinuous-v0',\n",
    " 'Pendulum-v1',\n",
    " 'Acrobot-v1',\n",
    "  # box2d\n",
    "  'BipedalWalker-v3',\n",
    " 'BipedalWalkerHardcore-v3',\n",
    " 'LunarLander-v2',\n",
    " 'LunarLanderContinuous-v2',\n",
    " # mujoco\n",
    " 'Ant-v4',\n",
    " 'HalfCheetah-v4',\n",
    " 'Hopper-v4',\n",
    " 'Humanoid-v4',\n",
    " 'HumanoidStandup-v4',\n",
    " 'InvertedDoublePendulum-v4',\n",
    " 'InvertedPendulum-v4',\n",
    " 'Pusher-v4',\n",
    " 'Reacher-v4',\n",
    " 'Swimmer-v4',\n",
    " 'Walker2d-v4',\n",
    " # dmc\n",
    "'AcrobotSwingup-v1',\n",
    "#  'AcrobotSwingupSparse-v1',\n",
    " 'BallInCupCatch-v1',\n",
    "'CartpoleBalance-v1',\n",
    "#  'CartpoleBalanceSparse-v1',\n",
    " 'CartpoleSwingup-v1',\n",
    "#  'CartpoleSwingupSparse-v1',\n",
    " 'CartpoleThreePoles-v1',\n",
    " 'CartpoleTwoPoles-v1',\n",
    "  'CheetahRun-v1',\n",
    " 'FingerSpin-v1',\n",
    " 'FingerTurnEasy-v1',\n",
    " 'FingerTurnHard-v1',\n",
    " 'FishSwim-v1',\n",
    " 'FishUpright-v1',\n",
    " 'HopperHop-v1',\n",
    " 'HopperStand-v1',\n",
    " 'HumanoidRun-v1',\n",
    " 'HumanoidRunPureState-v1',\n",
    " 'HumanoidStand-v1',\n",
    " 'HumanoidWalk-v1',\n",
    " 'HumanoidCMURun-v1',\n",
    " 'HumanoidCMUStand-v1',\n",
    " 'ManipulatorBringBall-v1',\n",
    " 'ManipulatorBringPeg-v1',\n",
    " 'ManipulatorInsertBall-v1',\n",
    " 'ManipulatorInsertPeg-v1',\n",
    " 'PendulumSwingup-v1',\n",
    " 'PointMassEasy-v1',\n",
    " 'PointMassHard-v1',\n",
    " 'ReacherEasy-v1',\n",
    " 'ReacherHard-v1',\n",
    " 'SwimmerSwimmer6-v1',\n",
    " 'SwimmerSwimmer15-v1',\n",
    " 'WalkerRun-v1',\n",
    " 'WalkerStand-v1',\n",
    " 'WalkerWalk-v1', ]\n",
    "len(lst)"
   ]
  },
  {
   "cell_type": "code",
   "execution_count": 14,
   "metadata": {},
   "outputs": [
    {
     "data": {
      "text/plain": [
       "['Adventure-v5',\n",
       " 'AirRaid-v5',\n",
       " 'Alien-v5',\n",
       " 'Amidar-v5',\n",
       " 'Assault-v5',\n",
       " 'Asterix-v5',\n",
       " 'Asteroids-v5',\n",
       " 'Atlantis-v5',\n",
       " 'Atlantis2-v5',\n",
       " 'Backgammon-v5',\n",
       " 'BankHeist-v5',\n",
       " 'BasicMath-v5',\n",
       " 'BattleZone-v5',\n",
       " 'BeamRider-v5',\n",
       " 'Berzerk-v5',\n",
       " 'Blackjack-v5',\n",
       " 'Bowling-v5',\n",
       " 'Boxing-v5',\n",
       " 'Breakout-v5',\n",
       " 'Carnival-v5',\n",
       " 'Casino-v5',\n",
       " 'Centipede-v5',\n",
       " 'ChopperCommand-v5',\n",
       " 'CrazyClimber-v5',\n",
       " 'Crossbow-v5',\n",
       " 'Darkchambers-v5',\n",
       " 'Defender-v5',\n",
       " 'DemonAttack-v5',\n",
       " 'DonkeyKong-v5',\n",
       " 'DoubleDunk-v5',\n",
       " 'Earthworld-v5',\n",
       " 'ElevatorAction-v5',\n",
       " 'Enduro-v5',\n",
       " 'Entombed-v5',\n",
       " 'Et-v5',\n",
       " 'FishingDerby-v5',\n",
       " 'FlagCapture-v5',\n",
       " 'Freeway-v5',\n",
       " 'Frogger-v5',\n",
       " 'Frostbite-v5',\n",
       " 'Galaxian-v5',\n",
       " 'Gopher-v5',\n",
       " 'Gravitar-v5',\n",
       " 'Hangman-v5',\n",
       " 'HauntedHouse-v5',\n",
       " 'Hero-v5',\n",
       " 'HumanCannonball-v5',\n",
       " 'IceHockey-v5',\n",
       " 'Jamesbond-v5',\n",
       " 'JourneyEscape-v5',\n",
       " 'Kaboom-v5',\n",
       " 'Kangaroo-v5',\n",
       " 'KeystoneKapers-v5',\n",
       " 'KingKong-v5',\n",
       " 'Klax-v5',\n",
       " 'Koolaid-v5',\n",
       " 'Krull-v5',\n",
       " 'KungFuMaster-v5',\n",
       " 'LaserGates-v5',\n",
       " 'LostLuggage-v5',\n",
       " 'MarioBros-v5',\n",
       " 'MiniatureGolf-v5',\n",
       " 'MontezumaRevenge-v5',\n",
       " 'MrDo-v5',\n",
       " 'MsPacman-v5',\n",
       " 'NameThisGame-v5',\n",
       " 'Othello-v5',\n",
       " 'Pacman-v5',\n",
       " 'Phoenix-v5',\n",
       " 'Pitfall-v5',\n",
       " 'Pitfall2-v5',\n",
       " 'Pong-v5',\n",
       " 'Pooyan-v5',\n",
       " 'PrivateEye-v5',\n",
       " 'Qbert-v5',\n",
       " 'Riverraid-v5',\n",
       " 'RoadRunner-v5',\n",
       " 'Robotank-v5',\n",
       " 'Seaquest-v5',\n",
       " 'SirLancelot-v5',\n",
       " 'Skiing-v5',\n",
       " 'Solaris-v5',\n",
       " 'SpaceInvaders-v5',\n",
       " 'SpaceWar-v5',\n",
       " 'StarGunner-v5',\n",
       " 'Superman-v5',\n",
       " 'Surround-v5',\n",
       " 'Tennis-v5',\n",
       " 'Tetris-v5',\n",
       " 'TicTacToe3d-v5',\n",
       " 'TimePilot-v5',\n",
       " 'Trondead-v5',\n",
       " 'Turmoil-v5',\n",
       " 'Tutankham-v5',\n",
       " 'UpNDown-v5',\n",
       " 'Venture-v5',\n",
       " 'VideoCheckers-v5',\n",
       " 'VideoChess-v5',\n",
       " 'VideoCube-v5',\n",
       " 'VideoPinball-v5',\n",
       " 'WizardOfWor-v5',\n",
       " 'WordZapper-v5',\n",
       " 'YarsRevenge-v5',\n",
       " 'Zaxxon-v5',\n",
       " 'CarRacing-v2',\n",
       " 'BipedalWalker-v3',\n",
       " 'BipedalWalkerHardcore-v3',\n",
       " 'LunarLander-v2',\n",
       " 'LunarLanderContinuous-v2',\n",
       " 'CartPole-v0',\n",
       " 'CartPole-v1',\n",
       " 'Pendulum-v0',\n",
       " 'Pendulum-v1',\n",
       " 'MountainCar-v0',\n",
       " 'MountainCarContinuous-v0',\n",
       " 'Acrobot-v1',\n",
       " 'AcrobotSwingup-v1',\n",
       " 'AcrobotSwingupSparse-v1',\n",
       " 'BallInCupCatch-v1',\n",
       " 'CartpoleBalance-v1',\n",
       " 'CartpoleBalanceSparse-v1',\n",
       " 'CartpoleSwingup-v1',\n",
       " 'CartpoleSwingupSparse-v1',\n",
       " 'CartpoleThreePoles-v1',\n",
       " 'CartpoleTwoPoles-v1',\n",
       " 'CheetahRun-v1',\n",
       " 'FingerSpin-v1',\n",
       " 'FingerTurnEasy-v1',\n",
       " 'FingerTurnHard-v1',\n",
       " 'FishSwim-v1',\n",
       " 'FishUpright-v1',\n",
       " 'HopperHop-v1',\n",
       " 'HopperStand-v1',\n",
       " 'HumanoidRun-v1',\n",
       " 'HumanoidRunPureState-v1',\n",
       " 'HumanoidStand-v1',\n",
       " 'HumanoidWalk-v1',\n",
       " 'HumanoidCMURun-v1',\n",
       " 'HumanoidCMUStand-v1',\n",
       " 'ManipulatorBringBall-v1',\n",
       " 'ManipulatorBringPeg-v1',\n",
       " 'ManipulatorInsertBall-v1',\n",
       " 'ManipulatorInsertPeg-v1',\n",
       " 'PendulumSwingup-v1',\n",
       " 'PointMassEasy-v1',\n",
       " 'PointMassHard-v1',\n",
       " 'ReacherEasy-v1',\n",
       " 'ReacherHard-v1',\n",
       " 'SwimmerSwimmer6-v1',\n",
       " 'SwimmerSwimmer15-v1',\n",
       " 'WalkerRun-v1',\n",
       " 'WalkerStand-v1',\n",
       " 'WalkerWalk-v1',\n",
       " 'Ant-v3',\n",
       " 'Ant-v4',\n",
       " 'HalfCheetah-v3',\n",
       " 'HalfCheetah-v4',\n",
       " 'Hopper-v3',\n",
       " 'Hopper-v4',\n",
       " 'Humanoid-v3',\n",
       " 'Humanoid-v4',\n",
       " 'HumanoidStandup-v2',\n",
       " 'HumanoidStandup-v4',\n",
       " 'InvertedDoublePendulum-v2',\n",
       " 'InvertedDoublePendulum-v4',\n",
       " 'InvertedPendulum-v2',\n",
       " 'InvertedPendulum-v4',\n",
       " 'Pusher-v2',\n",
       " 'Pusher-v4',\n",
       " 'Reacher-v2',\n",
       " 'Reacher-v4',\n",
       " 'Swimmer-v3',\n",
       " 'Swimmer-v4',\n",
       " 'Walker2d-v3',\n",
       " 'Walker2d-v4',\n",
       " 'BigfishEasy-v0',\n",
       " 'BigfishHard-v0',\n",
       " 'BossfightEasy-v0',\n",
       " 'BossfightHard-v0',\n",
       " 'CaveflyerEasy-v0',\n",
       " 'CaveflyerHard-v0',\n",
       " 'CaveflyerMemory-v0',\n",
       " 'ChaserEasy-v0',\n",
       " 'ChaserHard-v0',\n",
       " 'ChaserExtreme-v0',\n",
       " 'ClimberEasy-v0',\n",
       " 'ClimberHard-v0',\n",
       " 'CoinrunEasy-v0',\n",
       " 'CoinrunHard-v0',\n",
       " 'DodgeballEasy-v0',\n",
       " 'DodgeballHard-v0',\n",
       " 'DodgeballExtreme-v0',\n",
       " 'DodgeballMemory-v0',\n",
       " 'FruitbotEasy-v0',\n",
       " 'FruitbotHard-v0',\n",
       " 'HeistEasy-v0',\n",
       " 'HeistHard-v0',\n",
       " 'HeistMemory-v0',\n",
       " 'JumperEasy-v0',\n",
       " 'JumperHard-v0',\n",
       " 'JumperMemory-v0',\n",
       " 'LeaperEasy-v0',\n",
       " 'LeaperHard-v0',\n",
       " 'LeaperExtreme-v0',\n",
       " 'MazeEasy-v0',\n",
       " 'MazeHard-v0',\n",
       " 'MazeMemory-v0',\n",
       " 'MinerEasy-v0',\n",
       " 'MinerHard-v0',\n",
       " 'MinerMemory-v0',\n",
       " 'NinjaEasy-v0',\n",
       " 'NinjaHard-v0',\n",
       " 'PlunderEasy-v0',\n",
       " 'PlunderHard-v0',\n",
       " 'StarpilotEasy-v0',\n",
       " 'StarpilotHard-v0',\n",
       " 'StarpilotExtreme-v0',\n",
       " 'Catch-v0',\n",
       " 'FrozenLake-v1',\n",
       " 'FrozenLake8x8-v1',\n",
       " 'Taxi-v3',\n",
       " 'NChain-v0',\n",
       " 'CliffWalking-v0',\n",
       " 'Blackjack-v1',\n",
       " 'D1Basic-v1',\n",
       " 'D2Navigation-v1',\n",
       " 'D3Battle-v1',\n",
       " 'D4Battle2-v1',\n",
       " 'Basic-v1',\n",
       " 'Cig-v1',\n",
       " 'DeadlyCorridor-v1',\n",
       " 'Deathmatch-v1',\n",
       " 'DefendTheCenter-v1',\n",
       " 'DefendTheLine-v1',\n",
       " 'HealthGathering-v1',\n",
       " 'HealthGatheringSupreme-v1',\n",
       " 'MultiDuel-v1',\n",
       " 'MyWayHome-v1',\n",
       " 'PredictPosition-v1',\n",
       " 'RocketBasic-v1',\n",
       " 'SimplerBasic-v1',\n",
       " 'TakeCover-v1',\n",
       " 'VizdoomCustom-v1']"
      ]
     },
     "execution_count": 14,
     "metadata": {},
     "output_type": "execute_result"
    }
   ],
   "source": [
    "envpool.list_all_envs()"
   ]
  },
  {
   "cell_type": "code",
   "execution_count": 15,
   "metadata": {},
   "outputs": [],
   "source": [
    "num_envs = 96\n",
    "batch_size = 48"
   ]
  },
  {
   "cell_type": "code",
   "execution_count": 16,
   "metadata": {},
   "outputs": [
    {
     "ename": "NameError",
     "evalue": "name 'make_ba' is not defined",
     "output_type": "error",
     "traceback": [
      "\u001b[0;31m---------------------------------------------------------------------------\u001b[0m",
      "\u001b[0;31mNameError\u001b[0m                                 Traceback (most recent call last)",
      "Cell \u001b[0;32mIn[16], line 1\u001b[0m\n\u001b[0;32m----> 1\u001b[0m envs \u001b[39m=\u001b[39m make_ba\n",
      "\u001b[0;31mNameError\u001b[0m: name 'make_ba' is not defined"
     ]
    }
   ],
   "source": [
    "envs = make_ba"
   ]
  },
  {
   "cell_type": "code",
   "execution_count": null,
   "metadata": {},
   "outputs": [],
   "source": [
    "aspace = envs.action_space"
   ]
  },
  {
   "cell_type": "code",
   "execution_count": null,
   "metadata": {},
   "outputs": [
    {
     "data": {
      "text/plain": [
       "array([-1., -1., -1., -1., -1., -1.])"
      ]
     },
     "execution_count": 18,
     "metadata": {},
     "output_type": "execute_result"
    }
   ],
   "source": [
    "aspace.low"
   ]
  },
  {
   "cell_type": "code",
   "execution_count": null,
   "metadata": {},
   "outputs": [],
   "source": [
    "# envs.async_reset()"
   ]
  },
  {
   "cell_type": "code",
   "execution_count": null,
   "metadata": {},
   "outputs": [],
   "source": [
    "# obs, rew, terminated, truncated, info = envs.recv()\n"
   ]
  },
  {
   "cell_type": "code",
   "execution_count": null,
   "metadata": {},
   "outputs": [],
   "source": [
    "# print(obs.shape)\n",
    "# print(rew.shape)\n",
    "# print(terminated.shape)\n",
    "# print(truncated.shape)\n",
    "# print(info)\n"
   ]
  },
  {
   "cell_type": "code",
   "execution_count": null,
   "metadata": {},
   "outputs": [],
   "source": [
    "# print(type(obs))"
   ]
  },
  {
   "cell_type": "code",
   "execution_count": null,
   "metadata": {},
   "outputs": [],
   "source": [
    "# envs.send(action, env_id)   \n"
   ]
  },
  {
   "cell_type": "code",
   "execution_count": null,
   "metadata": {},
   "outputs": [],
   "source": [
    "# obs, rew, terminated, truncated, info = envs.recv()"
   ]
  },
  {
   "cell_type": "code",
   "execution_count": null,
   "metadata": {},
   "outputs": [],
   "source": [
    "# print(obs.shape)\n",
    "# print(rew.shape)\n",
    "# print(terminated.shape)\n",
    "# print(truncated.shape)\n",
    "# print(info)\n"
   ]
  },
  {
   "cell_type": "code",
   "execution_count": null,
   "metadata": {},
   "outputs": [],
   "source": [
    "# total_rewards = 0\n",
    "# for step in range(0, 1000):\n",
    "#     obs, rew, terminated, truncated, info = envs.recv()\n",
    "#     env_id = info[\"env_id\"]\n",
    "#     total_rewards += rew\n",
    "#     action =- np.random.randn(48, 6) \n",
    "#     envs.send(action, env_id)   "
   ]
  },
  {
   "cell_type": "code",
   "execution_count": null,
   "metadata": {},
   "outputs": [],
   "source": [
    "# total_rewards"
   ]
  },
  {
   "cell_type": "code",
   "execution_count": 24,
   "metadata": {},
   "outputs": [
    {
     "data": {
      "text/plain": [
       "{'defaults': [{'sac': 'sac'}, {'nn': 'nn'}, {'ccnn_img': 'ccnn_img'}, {'ccnn_seq': 'ccnn_seq'}, '_self_'], 'hydra': {'run': {'dir': 'outputs/${now:%Y-%m-%d/%H-%M-%S}'}}, 'experiment': {'seed': 42, 'num_envs': 1, 'total_timesteps': 10000000, 'save_ckpt': False, 'num_checkpoints': 20, 'print_interval': 100, 'stop_after_epochs': 500, 'capture_video': False, 'device': 4, 'cuda': True, 'torch_deterministic': True, 'resume': False, 'resume_update_idx': 0, 'resume_dir': 'None', 'env_ids': ['CartPole-v1', 'Pendulum-v1', 'Acrobot-v1', 'BipedalWalker-v3', 'LunarLander-v2', 'HalfCheetah-v4', 'Ant-v4', 'Hopper-v4', 'Walker2d-v4']}, 'evaluation': {'eval_seed': 3142, 'every': 2, 'num_eval': 5, 'num_test_envs': 5}, 'wandb': {'mode': 'online', 'project': 'DomainAgnosticRL', 'entity': None, 'name': None, 'group': None, 'tags': None, 'notes': None}, 'paths': {'dir': 'outputs/${now:%Y-%m-%d/%H-%M-%S}', 'log': 'outputs/${now:%Y-%m-%d/%H-%M-%S}/runs', 'video': 'outputs/${now:%Y-%m-%d/%H-%M-%S}/videos', 'checkpoints': 'outputs/${now:%Y-%m-%d/%H-%M-%S}/checkpoints', 'src': 'outputs/${now:%Y-%m-%d/%H-%M-%S}/src', 'scripts': 'outputs/${now:%Y-%m-%d/%H-%M-%S}/scripts'}, 'nn': {'actor_critic': {'use_mlp': True, 'use_transformer': True, 'encoder_net_1d': 'rnn', 'encoder_net_2d': 'cnn', 'decoder_net': 'rnn', 'd_model': 256, 'activation': 'tanh', 'optimizer': 'adam', 'gradient_visualization': True, 'input_to_hidden': 'pooling', 'hidden_to_output': 'bmm', 'multivariate_normal': False}, 'mlp': {'depth': 2, 'hidden_dim': 256, 'expansion_factor': 128, 'dropout': 0.0, 'activation': 'gelu'}, 'transformer': {'dropout': 0.0, 'dim_feedforward': 256, 'num_heads': 1, 'num_encoder_layers': 2, 'activation': 'gelu'}, 'cnn': {'kernel_size': 3, 'stride': 1, 'num_layers': 5, 'mid_channels': 64}, 'rnn': {'final_activation': 'identity', 'num_layers': 2, 'bias': True}, 's4': {'d_state': 128, 'lr': 0.0001, 'num_layers': 3, 'dropout': 0.2, 'final_activation': 'identity', 'initializer': 'uniform'}, 'weight_decay': {'actor': 0.0, 'critic': 0.0}}, 'sac': {'actor_encoder_lr': 0.0001, 'actor_decoder_lr': 0.0001, 'critic_encoder_lr': 0.0005, 'critic_decoder_lr': 0.0005, 'actor_encoder_weight_decay': 0.0, 'critic_encoder_weight_decay': 0.0, 'actor_decoder_weight_decay': 0.0, 'critic_decoder_weight_decay': 0.0, 'buffer_size': 1000000, 'batch_size': 256, 'policy_freq': 2, 'target_freq': 1, 'noise_clip': 0.5, 'alpha': 0.2, 'autotune': True, 'learning_starts': 5000, 'anneal_lr': False, 'max_grad_norm': 5.0, 'const_coef': 0.0, 'gamma': 0.99, 'tau': 0.005}, 'ccnn_seq': {'net': {'type': 'ResNet', 'no_hidden': 64, 'no_blocks': 2, 'no_stages': -1, 'data_dim': 2, 'dropout': 0.1, 'dropout_in': 0.0, 'dropout_type': 'Dropout2d', 'norm': 'BatchNorm', 'nonlinearity': 'GELU', 'block_width_factors': [0.0], 'block': {'type': 'S4', 'prenorm': True}, 'prenorm': True, 'downsampling': [], 'downsampling_size': -1}, 'kernel': {'type': 'MAGNet', 'bias': True, 'no_hidden': 64, 'no_layers': 2, 'omega_0': 2085.433586112234, 'input_scale': 0.0, 'size': 33, 'chang_initialize': True, 'norm': 'Identity', 'nonlinearity': 'Identity', 'init_spatial_value': 1.0, 'num_edges': -1, 'bottleneck_factor': -1}, 'mask': {'type': 'gaussian', 'init_value': 0.75, 'threshold': 0.1, 'temperature': 0, 'dynamic_cropping': True, 'learn_mean': False}, 'conv': {'bias': True, 'causal': False, 'type': 'SeparableFlexConv', 'use_fft': False, 'padding': 'same', 'stride': 1, 'cache': False}}, 'ccnn_img': {'net': {'type': 'ResNet', 'no_hidden': 32, 'no_blocks': 2, 'no_stages': -1, 'data_dim': 1, 'dropout': 0.1, 'dropout_in': 0.0, 'dropout_type': 'Dropout1d', 'norm': 'BatchNorm', 'nonlinearity': 'GELU', 'block_width_factors': [0.0], 'block': {'type': 'S4', 'prenorm': True}, 'prenorm': True, 'downsampling': [], 'downsampling_size': -1}, 'kernel': {'type': 'MAGNet', 'bias': True, 'no_hidden': 32, 'no_layers': 2, 'omega_0': 976.781, 'input_scale': 0.0, 'size': 33, 'chang_initialize': True, 'norm': 'Identity', 'nonlinearity': 'Identity', 'init_spatial_value': 1.0, 'num_edges': -1, 'bottleneck_factor': -1}, 'mask': {'type': 'gaussian', 'init_value': 0.075, 'threshold': 0.1, 'temperature': 0, 'dynamic_cropping': True, 'learn_mean': False}, 'conv': {'bias': True, 'causal': True, 'type': 'SeparableFlexConv', 'use_fft': True, 'padding': 'same', 'stride': 1, 'cache': False}}}"
      ]
     },
     "execution_count": 24,
     "metadata": {},
     "output_type": "execute_result"
    }
   ],
   "source": [
    "from omegaconf import OmegaConf\n",
    "\n",
    "cfg_path = \"/home/kukjin/Projects/DARL_transformer/configs/sac_trainer.yaml\"\n",
    "nn_cfg_path = \"/home/kukjin/Projects/DARL_transformer/configs/nn/nn.yaml\"\n",
    "sac_cfg_path = \"/home/kukjin/Projects/DARL_transformer/configs/sac/sac.yaml\"\n",
    "ccnn_cfg_img_path = \"/home/kukjin/Projects/DARL_transformer/configs/ccnn_img/ccnn_img.yaml\"\n",
    "ccnn_cfg_seq_path = \"/home/kukjin/Projects/DARL_transformer/configs/ccnn_seq/ccnn_seq.yaml\"\n",
    "\n",
    "cfg = OmegaConf.load(cfg_path)\n",
    "nn_cfg = OmegaConf.load(nn_cfg_path)\n",
    "sac_cfg = OmegaConf.load(sac_cfg_path)\n",
    "ccnn_seq_cfg = OmegaConf.load(ccnn_cfg_img_path)\n",
    "ccnn_img_cfg = OmegaConf.load(ccnn_cfg_seq_path)\n",
    "\n",
    "cfg.nn = nn_cfg\n",
    "cfg.sac = sac_cfg\n",
    "cfg.ccnn_seq = ccnn_seq_cfg\n",
    "cfg.ccnn_img = ccnn_img_cfg\n",
    "\n",
    "cfg"
   ]
  },
  {
   "cell_type": "code",
   "execution_count": 17,
   "metadata": {},
   "outputs": [],
   "source": [
    "from modules.utils import set_seed, make_batched_env"
   ]
  },
  {
   "cell_type": "code",
   "execution_count": 18,
   "metadata": {},
   "outputs": [
    {
     "ename": "NameError",
     "evalue": "name 'cfg' is not defined",
     "output_type": "error",
     "traceback": [
      "\u001b[0;31m---------------------------------------------------------------------------\u001b[0m",
      "\u001b[0;31mNameError\u001b[0m                                 Traceback (most recent call last)",
      "Cell \u001b[0;32mIn[18], line 1\u001b[0m\n\u001b[0;32m----> 1\u001b[0m train_envs \u001b[39m=\u001b[39m make_batched_env(\u001b[39m0\u001b[39m, \u001b[39m\"\u001b[39m\u001b[39mCartPole-v1\u001b[39m\u001b[39m\"\u001b[39m, cfg, mode\u001b[39m=\u001b[39m\u001b[39m'\u001b[39m\u001b[39mtrain\u001b[39m\u001b[39m'\u001b[39m)\n",
      "\u001b[0;31mNameError\u001b[0m: name 'cfg' is not defined"
     ]
    }
   ],
   "source": [
    "train_envs = make_batched_env(0, \"CartPole-v1\", cfg, mode='train')\n"
   ]
  },
  {
   "cell_type": "code",
   "execution_count": null,
   "metadata": {},
   "outputs": [],
   "source": [
    "obs = train_envs.reset()"
   ]
  },
  {
   "cell_type": "code",
   "execution_count": 19,
   "metadata": {},
   "outputs": [
    {
     "ename": "NameError",
     "evalue": "name 'obs' is not defined",
     "output_type": "error",
     "traceback": [
      "\u001b[0;31m---------------------------------------------------------------------------\u001b[0m",
      "\u001b[0;31mNameError\u001b[0m                                 Traceback (most recent call last)",
      "Cell \u001b[0;32mIn[19], line 1\u001b[0m\n\u001b[0;32m----> 1\u001b[0m obs\u001b[39m.\u001b[39mshape\n",
      "\u001b[0;31mNameError\u001b[0m: name 'obs' is not defined"
     ]
    }
   ],
   "source": [
    "obs.shape"
   ]
  },
  {
   "cell_type": "code",
   "execution_count": null,
   "metadata": {},
   "outputs": [
    {
     "data": {
      "text/plain": [
       "array([1])"
      ]
     },
     "execution_count": 23,
     "metadata": {},
     "output_type": "execute_result"
    }
   ],
   "source": [
    "action = np.array([train_envs.action_space.sample()])\n",
    "action"
   ]
  },
  {
   "cell_type": "code",
   "execution_count": null,
   "metadata": {},
   "outputs": [],
   "source": [
    "next_obs, reward, done, info = train_envs.step(action)"
   ]
  },
  {
   "cell_type": "code",
   "execution_count": 20,
   "metadata": {},
   "outputs": [
    {
     "ename": "NameError",
     "evalue": "name 'done' is not defined",
     "output_type": "error",
     "traceback": [
      "\u001b[0;31m---------------------------------------------------------------------------\u001b[0m",
      "\u001b[0;31mNameError\u001b[0m                                 Traceback (most recent call last)",
      "Cell \u001b[0;32mIn[20], line 1\u001b[0m\n\u001b[0;32m----> 1\u001b[0m done\n",
      "\u001b[0;31mNameError\u001b[0m: name 'done' is not defined"
     ]
    }
   ],
   "source": [
    "done"
   ]
  },
  {
   "cell_type": "code",
   "execution_count": 21,
   "metadata": {},
   "outputs": [
    {
     "ename": "NameError",
     "evalue": "name 'info' is not defined",
     "output_type": "error",
     "traceback": [
      "\u001b[0;31m---------------------------------------------------------------------------\u001b[0m",
      "\u001b[0;31mNameError\u001b[0m                                 Traceback (most recent call last)",
      "Cell \u001b[0;32mIn[21], line 1\u001b[0m\n\u001b[0;32m----> 1\u001b[0m info\n",
      "\u001b[0;31mNameError\u001b[0m: name 'info' is not defined"
     ]
    }
   ],
   "source": [
    "info"
   ]
  },
  {
   "cell_type": "code",
   "execution_count": 22,
   "metadata": {},
   "outputs": [
    {
     "ename": "NameError",
     "evalue": "name 'done' is not defined",
     "output_type": "error",
     "traceback": [
      "\u001b[0;31m---------------------------------------------------------------------------\u001b[0m",
      "\u001b[0;31mNameError\u001b[0m                                 Traceback (most recent call last)",
      "Cell \u001b[0;32mIn[22], line 1\u001b[0m\n\u001b[0;32m----> 1\u001b[0m \u001b[39mwhile\u001b[39;00m \u001b[39mnot\u001b[39;00m done:\n\u001b[1;32m      2\u001b[0m     next_obs, reward, done, info \u001b[39m=\u001b[39m train_envs\u001b[39m.\u001b[39mstep(action)\n",
      "\u001b[0;31mNameError\u001b[0m: name 'done' is not defined"
     ]
    }
   ],
   "source": [
    "while not done:\n",
    "    next_obs, reward, done, info = train_envs.step(action)"
   ]
  },
  {
   "cell_type": "code",
   "execution_count": 23,
   "metadata": {},
   "outputs": [
    {
     "ename": "NameError",
     "evalue": "name 'done' is not defined",
     "output_type": "error",
     "traceback": [
      "\u001b[0;31m---------------------------------------------------------------------------\u001b[0m",
      "\u001b[0;31mNameError\u001b[0m                                 Traceback (most recent call last)",
      "Cell \u001b[0;32mIn[23], line 1\u001b[0m\n\u001b[0;32m----> 1\u001b[0m done\n",
      "\u001b[0;31mNameError\u001b[0m: name 'done' is not defined"
     ]
    }
   ],
   "source": [
    "done"
   ]
  },
  {
   "cell_type": "code",
   "execution_count": 29,
   "metadata": {},
   "outputs": [
    {
     "data": {
      "text/plain": [
       "{'env_id': array([0], dtype=int32),\n",
       " 'players': {'env_id': array([0], dtype=int32)},\n",
       " 'TimeLimit.truncated': array([False]),\n",
       " 'elapsed_step': array([10], dtype=int32),\n",
       " 'r': array([10.], dtype=float32),\n",
       " 'l': array([10], dtype=int32)}"
      ]
     },
     "execution_count": 29,
     "metadata": {},
     "output_type": "execute_result"
    }
   ],
   "source": [
    "info"
   ]
  },
  {
   "cell_type": "code",
   "execution_count": 30,
   "metadata": {},
   "outputs": [
    {
     "data": {
      "text/plain": [
       "array([[ 2.02353746,  1.58320824, -2.03221809, -1.64123075]])"
      ]
     },
     "execution_count": 30,
     "metadata": {},
     "output_type": "execute_result"
    }
   ],
   "source": [
    "next_obs"
   ]
  },
  {
   "cell_type": "code",
   "execution_count": 39,
   "metadata": {},
   "outputs": [
    {
     "name": "stderr",
     "output_type": "stream",
     "text": [
      "/mnt/harddisk1/anaconda3/envs/darl2/lib/python3.9/site-packages/gym/core.py:329: DeprecationWarning: \u001b[33mWARN: Initializing wrapper in old step API which returns one bool instead of two. It is recommended to set `new_step_api=True` to use new step API. This will be the default behaviour in future.\u001b[0m\n",
      "  deprecation(\n",
      "/mnt/harddisk1/anaconda3/envs/darl2/lib/python3.9/site-packages/gym/wrappers/step_api_compatibility.py:39: DeprecationWarning: \u001b[33mWARN: Initializing environment in old step API which returns one bool instead of two. It is recommended to set `new_step_api=True` to use new step API. This will be the default behaviour in future.\u001b[0m\n",
      "  deprecation(\n",
      "/mnt/harddisk1/anaconda3/envs/darl2/lib/python3.9/site-packages/gym/vector/vector_env.py:56: DeprecationWarning: \u001b[33mWARN: Initializing vector env in old step API which returns one bool array instead of two. It is recommended to set `new_step_api=True` to use new step API. This will be the default behaviour in future.\u001b[0m\n",
      "  deprecation(\n"
     ]
    }
   ],
   "source": [
    "from modules.utils import make_env\n",
    "import gym \n",
    "\n",
    "envs = gym.vector.SyncVectorEnv([make_env(cfg, 'CartPole-v1', idx=0, evaluation=False) for i in range(2)])"
   ]
  },
  {
   "cell_type": "code",
   "execution_count": 40,
   "metadata": {},
   "outputs": [
    {
     "data": {
      "text/plain": [
       "'1.23.5'"
      ]
     },
     "execution_count": 40,
     "metadata": {},
     "output_type": "execute_result"
    }
   ],
   "source": [
    "np.__version__"
   ]
  },
  {
   "cell_type": "code",
   "execution_count": 41,
   "metadata": {},
   "outputs": [
    {
     "data": {
      "text/plain": [
       "SyncVectorEnv(2)"
      ]
     },
     "execution_count": 41,
     "metadata": {},
     "output_type": "execute_result"
    }
   ],
   "source": [
    "envs"
   ]
  },
  {
   "cell_type": "code",
   "execution_count": 42,
   "metadata": {},
   "outputs": [],
   "source": [
    "obs = envs.reset()"
   ]
  },
  {
   "cell_type": "code",
   "execution_count": 43,
   "metadata": {},
   "outputs": [
    {
     "data": {
      "text/plain": [
       "array([[-2.2251571e-04,  3.3074312e-04,  7.5834185e-05,  5.0558316e-05],\n",
       "       [-3.2398480e-04, -2.2660602e-04,  2.5068814e-04,  1.4974874e-04]],\n",
       "      dtype=float32)"
      ]
     },
     "execution_count": 43,
     "metadata": {},
     "output_type": "execute_result"
    }
   ],
   "source": [
    "obs"
   ]
  },
  {
   "cell_type": "code",
   "execution_count": 49,
   "metadata": {},
   "outputs": [
    {
     "data": {
      "text/plain": [
       "array([1, 0])"
      ]
     },
     "execution_count": 49,
     "metadata": {},
     "output_type": "execute_result"
    }
   ],
   "source": [
    "action = np.array([envs.single_action_space.sample()for i in range(2)])\n",
    "action"
   ]
  },
  {
   "cell_type": "code",
   "execution_count": 50,
   "metadata": {},
   "outputs": [],
   "source": [
    "next_obs, reward, done, info = envs.step(action)"
   ]
  },
  {
   "cell_type": "code",
   "execution_count": 51,
   "metadata": {},
   "outputs": [
    {
     "data": {
      "text/plain": [
       "array([False, False])"
      ]
     },
     "execution_count": 51,
     "metadata": {},
     "output_type": "execute_result"
    }
   ],
   "source": [
    "done"
   ]
  },
  {
   "cell_type": "code",
   "execution_count": 52,
   "metadata": {},
   "outputs": [
    {
     "data": {
      "text/plain": [
       "{}"
      ]
     },
     "execution_count": 52,
     "metadata": {},
     "output_type": "execute_result"
    }
   ],
   "source": [
    "info"
   ]
  },
  {
   "cell_type": "code",
   "execution_count": 56,
   "metadata": {},
   "outputs": [
    {
     "data": {
      "text/plain": [
       "'0.25.1'"
      ]
     },
     "execution_count": 56,
     "metadata": {},
     "output_type": "execute_result"
    }
   ],
   "source": [
    "gym.__version__"
   ]
  },
  {
   "cell_type": "code",
   "execution_count": 54,
   "metadata": {},
   "outputs": [
    {
     "name": "stdout",
     "output_type": "stream",
     "text": [
      "{'episode': array([None, {'r': 9.0, 'l': 9, 't': 123.405781}], dtype=object), '_episode': array([False,  True]), 'final_observation': array([None, array([-1.97899846, -1.56777388,  1.99848512,  1.61185734])],\n",
      "      dtype=object), '_final_observation': array([False,  True])}\n",
      "{'episode': array([{'r': 10.0, 'l': 10, 't': 123.411076}, None], dtype=object), '_episode': array([ True, False]), 'final_observation': array([array([ 1.99973084,  1.58265535, -2.03060651, -1.63937563]), None],\n",
      "      dtype=object), '_final_observation': array([ True, False])}\n",
      "{'episode': array([{'r': 8.0, 'l': 8, 't': 123.421983},\n",
      "       {'r': 9.0, 'l': 9, 't': 123.420482}], dtype=object), '_episode': array([ True,  True]), 'final_observation': array([array([ 1.67000423,  1.12898201, -1.68792071, -1.27861417]),\n",
      "       array([-1.42158335, -1.58141554,  1.72738386,  1.54252334])],\n",
      "      dtype=object), '_final_observation': array([ True,  True])}\n",
      "{'episode': array([{'r': 8.0, 'l': 8, 't': 123.421983},\n",
      "       {'r': 9.0, 'l': 9, 't': 123.420482}], dtype=object), '_episode': array([ True,  True]), 'final_observation': array([array([ 1.67000423,  1.12898201, -1.68792071, -1.27861417]),\n",
      "       array([-1.42158335, -1.58141554,  1.72738386,  1.54252334])],\n",
      "      dtype=object), '_final_observation': array([ True,  True])}\n",
      "{'episode': array([None, {'r': 9.0, 'l': 9, 't': 123.434123}], dtype=object), '_episode': array([False,  True]), 'final_observation': array([None, array([-1.90114958, -1.58126378,  2.21375539,  1.6608229 ])],\n",
      "      dtype=object), '_final_observation': array([False,  True])}\n",
      "{'episode': array([{'r': 10.0, 'l': 10, 't': 123.438211}, None], dtype=object), '_episode': array([ True, False]), 'final_observation': array([array([ 2.21010983,  1.71822009, -1.78304547, -1.69632983]), None],\n",
      "      dtype=object), '_final_observation': array([ True, False])}\n",
      "{'episode': array([{'r': 9.0, 'l': 9, 't': 123.44994},\n",
      "       {'r': 10.0, 'l': 10, 't': 123.448173}], dtype=object), '_episode': array([ True,  True]), 'final_observation': array([array([ 1.39654814,  1.39558043, -1.69774937, -1.51973679]),\n",
      "       array([-1.81056997, -1.7712551 ,  1.75323816,  1.75145795])],\n",
      "      dtype=object), '_final_observation': array([ True,  True])}\n",
      "{'episode': array([{'r': 9.0, 'l': 9, 't': 123.44994},\n",
      "       {'r': 10.0, 'l': 10, 't': 123.448173}], dtype=object), '_episode': array([ True,  True]), 'final_observation': array([array([ 1.39654814,  1.39558043, -1.69774937, -1.51973679]),\n",
      "       array([-1.81056997, -1.7712551 ,  1.75323816,  1.75145795])],\n",
      "      dtype=object), '_final_observation': array([ True,  True])}\n",
      "{'episode': array([{'r': 9.0, 'l': 9, 't': 123.459809}, None], dtype=object), '_episode': array([ True, False]), 'final_observation': array([array([ 0.97660997,  1.41433328, -1.93800783, -1.53447496]), None],\n",
      "      dtype=object), '_final_observation': array([ True, False])}\n",
      "{'episode': array([None, {'r': 10.0, 'l': 10, 't': 123.459629}], dtype=object), '_episode': array([False,  True]), 'final_observation': array([None, array([-2.08536837, -1.70318673,  1.82619052,  1.73216958])],\n",
      "      dtype=object), '_final_observation': array([False,  True])}\n",
      "{'episode': array([{'r': 9.0, 'l': 9, 't': 123.470132}, None], dtype=object), '_episode': array([ True, False]), 'final_observation': array([array([ 0.94389104,  1.43482358, -1.91309651, -1.59490104]), None],\n",
      "      dtype=object), '_final_observation': array([ True, False])}\n",
      "{'episode': array([None, {'r': 10.0, 'l': 10, 't': 123.470494}], dtype=object), '_episode': array([False,  True]), 'final_observation': array([None, array([-2.43988406, -1.7005381 ,  2.04781432,  1.78909604])],\n",
      "      dtype=object), '_final_observation': array([False,  True])}\n",
      "{'episode': array([{'r': 8.0, 'l': 8, 't': 123.478156}, None], dtype=object), '_episode': array([ True, False]), 'final_observation': array([array([ 1.66677631,  1.20621191, -1.80722421, -1.29727436]), None],\n",
      "      dtype=object), '_final_observation': array([ True, False])}\n",
      "{'episode': array([None, {'r': 11.0, 'l': 11, 't': 123.481327}], dtype=object), '_episode': array([False,  True]), 'final_observation': array([None, array([-1.84875664, -1.89156605,  2.1952706 ,  1.94691129])],\n",
      "      dtype=object), '_final_observation': array([False,  True])}\n",
      "{'episode': array([{'r': 11.0, 'l': 11, 't': 123.488281}, None], dtype=object), '_episode': array([ True, False]), 'final_observation': array([array([ 2.28264864,  2.06908631, -2.34162133, -2.06458243]), None],\n",
      "      dtype=object), '_final_observation': array([ True, False])}\n",
      "{'episode': array([None, {'r': 9.0, 'l': 9, 't': 123.488714}], dtype=object), '_episode': array([False,  True]), 'final_observation': array([None, array([-1.26066688, -1.30237743,  1.82439843,  1.45862069])],\n",
      "      dtype=object), '_final_observation': array([False,  True])}\n",
      "{'episode': array([{'r': 10.0, 'l': 10, 't': 123.49585}, None], dtype=object), '_episode': array([ True, False]), 'final_observation': array([array([ 1.96078952,  1.68231288, -2.16906642, -1.8009707 ]), None],\n",
      "      dtype=object), '_final_observation': array([ True, False])}\n",
      "{'episode': array([None, {'r': 9.0, 'l': 9, 't': 123.495429}], dtype=object), '_episode': array([False,  True]), 'final_observation': array([None, array([-2.04214985, -1.33611779,  2.12592404,  1.56032952])],\n",
      "      dtype=object), '_final_observation': array([False,  True])}\n",
      "{'episode': array([{'r': 8.0, 'l': 8, 't': 123.502149}, None], dtype=object), '_episode': array([ True, False]), 'final_observation': array([array([ 1.48649704,  1.20344187, -1.8130317 , -1.26919665]), None],\n",
      "      dtype=object), '_final_observation': array([ True, False])}\n",
      "{'episode': array([None, {'r': 10.0, 'l': 10, 't': 123.503069}], dtype=object), '_episode': array([False,  True]), 'final_observation': array([None, array([-2.79281337, -1.73534621,  1.65615654,  1.63244761])],\n",
      "      dtype=object), '_final_observation': array([False,  True])}\n"
     ]
    }
   ],
   "source": [
    "for i in range(100):\n",
    "    next_obs, reward, done, info = envs.step(action)\n",
    "    for d in done:\n",
    "        if d:\n",
    "            print(info)\n",
    "    "
   ]
  },
  {
   "cell_type": "code",
   "execution_count": 57,
   "metadata": {},
   "outputs": [
    {
     "data": {
      "text/plain": [
       "(2, 4)"
      ]
     },
     "execution_count": 57,
     "metadata": {},
     "output_type": "execute_result"
    }
   ],
   "source": [
    "next_obs.shape"
   ]
  },
  {
   "cell_type": "code",
   "execution_count": 55,
   "metadata": {},
   "outputs": [
    {
     "data": {
      "text/plain": [
       "{}"
      ]
     },
     "execution_count": 55,
     "metadata": {},
     "output_type": "execute_result"
    }
   ],
   "source": [
    "info"
   ]
  },
  {
   "cell_type": "code",
   "execution_count": 38,
   "metadata": {},
   "outputs": [
    {
     "data": {
      "text/plain": [
       "{'episode': array([{'r': 9.0, 'l': 9, 't': 87.609964}], dtype=object),\n",
       " '_episode': array([ True]),\n",
       " 'final_observation': array([array([ 1.97739346,  1.56827127, -1.99502061, -1.61416257])],\n",
       "       dtype=object),\n",
       " '_final_observation': array([ True])}"
      ]
     },
     "execution_count": 38,
     "metadata": {},
     "output_type": "execute_result"
    }
   ],
   "source": [
    "info"
   ]
  },
  {
   "cell_type": "code",
   "execution_count": 37,
   "metadata": {},
   "outputs": [
    {
     "data": {
      "text/plain": [
       "array([[-0.953111  , -1.3369913 ,  0.59857225,  1.3254138 ]],\n",
       "      dtype=float32)"
      ]
     },
     "execution_count": 37,
     "metadata": {},
     "output_type": "execute_result"
    }
   ],
   "source": [
    "next_obs"
   ]
  },
  {
   "cell_type": "code",
   "execution_count": 12,
   "metadata": {},
   "outputs": [],
   "source": [
    "env_id = info[\"env_id\"]"
   ]
  },
  {
   "cell_type": "code",
   "execution_count": 13,
   "metadata": {},
   "outputs": [
    {
     "data": {
      "text/plain": [
       "array([12, 46, 11,  0,  1,  9,  2, 44,  7,  3,  4, 10, 18, 45,  5,  6,  8,\n",
       "       22, 32, 17, 31, 15, 43, 21, 16, 33, 26, 14, 41, 27, 48, 40, 38, 13,\n",
       "       36, 25, 42, 23, 24, 35, 37, 39, 29, 20, 19, 28, 34, 30],\n",
       "      dtype=int32)"
      ]
     },
     "execution_count": 13,
     "metadata": {},
     "output_type": "execute_result"
    }
   ],
   "source": [
    "env_id"
   ]
  },
  {
   "cell_type": "code",
   "execution_count": 14,
   "metadata": {},
   "outputs": [
    {
     "data": {
      "text/plain": [
       "(6,)"
      ]
     },
     "execution_count": 14,
     "metadata": {},
     "output_type": "execute_result"
    }
   ],
   "source": [
    "envs.action_space.shape"
   ]
  },
  {
   "cell_type": "code",
   "execution_count": null,
   "metadata": {},
   "outputs": [],
   "source": []
  },
  {
   "cell_type": "code",
   "execution_count": 24,
   "metadata": {},
   "outputs": [
    {
     "data": {
      "text/plain": [
       "(48,)"
      ]
     },
     "execution_count": 24,
     "metadata": {},
     "output_type": "execute_result"
    }
   ],
   "source": [
    "action = np.random.randint(num_discrete, size=len(env_id))\n",
    "action.shape"
   ]
  },
  {
   "cell_type": "code",
   "execution_count": 29,
   "metadata": {},
   "outputs": [
    {
     "data": {
      "text/plain": [
       "(48, 6)"
      ]
     },
     "execution_count": 29,
     "metadata": {},
     "output_type": "execute_result"
    }
   ],
   "source": [
    "action = np.random.randn(batch_size, 6)\n",
    "action.shape"
   ]
  },
  {
   "cell_type": "code",
   "execution_count": null,
   "metadata": {},
   "outputs": [
    {
     "ename": "",
     "evalue": "",
     "output_type": "error",
     "traceback": [
      "\u001b[1;31mCanceled future for execute_request message before replies were done"
     ]
    },
    {
     "ename": "",
     "evalue": "",
     "output_type": "error",
     "traceback": [
      "\u001b[1;31m현재 셀 또는 이전 셀에서 코드를 실행하는 동안 Kernel이 충돌했습니다. 셀의 코드를 검토하여 오류의 가능한 원인을 식별하세요. 자세한 내용을 보려면 <a href='https://aka.ms/vscodeJupyterKernelCrash'> 여기 </a> 를 클릭하세요. 자세한 내용은 Jupyter <a href='command:jupyter.viewOutput'>로그</a>를 참조하세요."
     ]
    }
   ],
   "source": [
    "next_obs, reward, done, info = envs.step(action)"
   ]
  },
  {
   "cell_type": "code",
   "execution_count": 18,
   "metadata": {},
   "outputs": [],
   "source": [
    "timestep = envs.recv()"
   ]
  },
  {
   "cell_type": "code",
   "execution_count": 38,
   "metadata": {},
   "outputs": [
    {
     "data": {
      "text/plain": [
       "(array([[-2.75850446e-02,  4.51912027e-02,  5.99013531e-01,\n",
       "         -6.25943275e-01, -2.33137660e-01,  7.37281991e-01,\n",
       "         -6.04216535e-01,  1.01188626e-01, -2.01178381e-02,\n",
       "         -9.58564003e-01, -6.88572682e-01,  2.46636450e+00,\n",
       "          1.40208049e+00,  2.61078729e-01, -1.19076639e+00,\n",
       "          9.34845213e-01,  1.01417438e+00],\n",
       "        [-6.58746098e-02, -3.24351743e-02, -3.86323775e-01,\n",
       "          4.25289630e-02, -4.27119728e-01,  1.44880784e-01,\n",
       "         -3.86953896e-01,  3.93412291e-01, -2.34852801e-01,\n",
       "         -1.35083835e+00,  7.53410677e-02, -3.01407919e+00,\n",
       "         -1.82718418e+00,  7.22767407e-01,  1.19283306e+00,\n",
       "         -9.09645525e-01,  3.36173270e+00],\n",
       "        [ 2.28402885e-02,  7.17677297e-02,  5.59843555e-01,\n",
       "         -6.24382018e-01, -4.19593209e-01,  5.24821574e-01,\n",
       "          5.26942752e-02,  5.29925367e-01,  3.50279461e-01,\n",
       "         -1.45252789e+00, -2.84421767e-01,  1.33070514e+00,\n",
       "          5.90828324e-01,  3.05266272e-01,  4.25040298e+00,\n",
       "          2.94943580e+00, -2.94707300e-02],\n",
       "        [-1.34484560e-01,  3.31525338e-02, -1.09939171e-01,\n",
       "          5.36656783e-01, -1.06644617e-01, -7.68529179e-01,\n",
       "         -3.43898182e-01,  3.87146535e-01, -2.33731329e-01,\n",
       "         -1.36755518e+00,  1.02875081e+00,  1.53370797e+00,\n",
       "          1.81504701e+00, -3.88813740e-01, -9.10212521e+00,\n",
       "         -4.89222026e+00,  1.51980563e+00],\n",
       "        [-3.34870024e-02, -2.57658315e-02,  3.41579951e-01,\n",
       "          8.68159102e-02,  6.00201307e-01,  2.84383295e-01,\n",
       "          3.34417338e-01, -5.25620347e-01,  4.36625136e-01,\n",
       "         -1.25806241e+00, -1.01411358e+00,  3.65278744e+00,\n",
       "          1.87498846e+00,  2.45774107e+00,  2.44438004e+00,\n",
       "          2.07614104e+00,  7.82528789e-01],\n",
       "        [-5.49182343e-02,  2.01156500e-01, -5.60377116e-01,\n",
       "         -7.13241861e-02, -4.22275699e-01, -7.93361634e-01,\n",
       "         -3.69949879e-01, -2.33701041e-01, -2.27715812e-01,\n",
       "         -1.05155915e+00,  1.60920614e+00,  6.21426568e-01,\n",
       "         -5.31435380e+00,  3.58473089e-01, -5.54837207e+00,\n",
       "         -4.11581454e+00, -2.60578490e+00],\n",
       "        [-9.94188341e-02,  1.19743566e-01, -4.95916944e-01,\n",
       "         -2.68658345e-01, -4.39695416e-01,  1.36465410e-01,\n",
       "         -2.53154575e-01, -5.28237372e-01, -3.57841820e-01,\n",
       "         -7.57986625e-01,  1.79561888e+00, -6.08970188e+00,\n",
       "         -5.28663051e+00,  1.15940772e+00,  9.86102468e-01,\n",
       "         -9.04797511e-01,  6.62035660e-01],\n",
       "        [ 8.43980529e-03, -1.71647215e-01,  6.17468299e-01,\n",
       "          6.17966769e-01, -3.84555904e-01,  2.78856372e-01,\n",
       "          3.83061779e-01, -5.21932484e-01,  4.10836879e-01,\n",
       "         -1.20490481e+00, -1.02078468e+00,  4.46939437e+00,\n",
       "          3.60266856e+00,  7.05252796e-01,  2.53986260e+00,\n",
       "          1.96206025e+00,  6.69142738e-01],\n",
       "        [-2.49727770e-02, -6.07034009e-02,  5.58544835e-01,\n",
       "          5.81365944e-01, -1.48405913e-01,  3.24769695e-01,\n",
       "          4.01488625e-01, -5.38894130e-01,  1.68868371e-01,\n",
       "         -1.37578335e+00, -1.02092166e+00,  6.00854897e+00,\n",
       "          3.81161804e+00,  1.74389208e+00,  1.52377661e+00,\n",
       "          1.09792512e+00,  7.19057289e-01],\n",
       "        [-7.67009318e-02, -1.26162688e-01, -4.24952180e-01,\n",
       "          3.79472581e-01, -5.02018270e-02, -1.28633089e-01,\n",
       "          5.03866438e-01,  1.56292544e-01, -3.90069908e-02,\n",
       "         -1.22474507e+00, -2.17669337e-01, -1.99114298e+00,\n",
       "         -7.45404560e-01, -6.13902757e-01,  5.21964236e-01,\n",
       "          1.98958049e+00,  2.01365195e+00],\n",
       "        [-1.10019678e-02,  3.24484551e-02,  7.75963451e-03,\n",
       "         -1.08894700e-01,  4.14883023e-01, -1.23332926e-02,\n",
       "         -6.12123220e-01, -2.08279556e-01,  5.07505555e-02,\n",
       "         -1.34427316e+00,  1.17834082e-01,  8.16189102e-01,\n",
       "          5.66646097e-01,  9.71750163e-01, -2.61888256e+00,\n",
       "         -4.05881865e+00, -2.70906207e+00],\n",
       "        [-1.00411547e-01, -1.01126943e-01,  5.41406769e-01,\n",
       "          2.07044406e-01, -4.11462328e-01, -6.90225545e-01,\n",
       "          1.21243195e-02, -2.19789328e-01, -8.72490555e-02,\n",
       "         -1.64418838e+00,  1.63594782e-01,  4.95735948e+00,\n",
       "          2.42116744e+00,  8.13535939e-01, -7.98327664e+00,\n",
       "         -3.60126187e+00, -3.44238380e+00],\n",
       "        [-7.38287878e-02,  3.41558874e-02, -4.75506843e-01,\n",
       "          9.43589377e-02, -1.63502765e-01, -3.48680899e-02,\n",
       "          1.00823523e-01, -9.17063379e-03, -4.61088306e-01,\n",
       "         -3.30834594e-01, -8.76832382e-01, -3.12522524e+00,\n",
       "         -2.04526685e+00, -1.10222763e+00, -5.66730050e-01,\n",
       "          8.19359701e-01,  1.78437965e-01],\n",
       "        [-6.28040272e-02, -6.74876724e-02, -4.69425145e-01,\n",
       "         -3.87121400e-01, -1.44968926e-01,  6.07429112e-01,\n",
       "          5.32138620e-01, -2.59234612e-01,  1.03958486e-01,\n",
       "         -1.59071889e+00,  5.66386676e-02, -5.48699558e+00,\n",
       "         -4.24799671e+00, -1.27922887e+00,  7.63913336e+00,\n",
       "          6.93530765e+00,  6.11022417e-01],\n",
       "        [ 3.76295630e-02,  1.32633829e-01,  1.04342923e-01,\n",
       "         -3.84658036e-01,  2.02574488e-01, -5.82467638e-01,\n",
       "          5.01052862e-02,  2.37102954e-01, -1.19999187e-01,\n",
       "         -1.03191118e+00,  5.43833675e-01, -5.63612443e-01,\n",
       "         -6.75540758e-01,  8.75763383e-02, -3.45521266e+00,\n",
       "         -9.53125691e-01,  2.31288849e+00],\n",
       "        [-1.49093628e-01, -1.01800828e-01,  2.18275633e-01,\n",
       "          5.97797715e-01, -4.37119140e-01, -1.58284496e-01,\n",
       "         -8.66043502e-02,  2.60846234e-01, -3.25576801e-01,\n",
       "         -1.06927940e+00,  6.13664382e-02,  2.01025081e+00,\n",
       "          2.09882843e+00,  1.14103091e+00, -2.75908553e+00,\n",
       "         -1.38786735e+00,  1.26795880e+00],\n",
       "        [-9.31164417e-02,  8.62861051e-02,  5.00070078e-01,\n",
       "         -5.94651950e-01, -4.27577288e-01,  2.62911335e-01,\n",
       "         -6.29985758e-01, -5.41097232e-01,  1.84852263e-01,\n",
       "         -6.52650279e-01,  9.65228136e-01,  1.43332069e+00,\n",
       "         -2.99971162e-01,  7.68874197e-01,  8.11084296e-01,\n",
       "         -2.97384571e+00,  4.65304952e-01],\n",
       "        [-8.20937514e-02, -2.46266425e-03,  5.88029529e-01,\n",
       "         -3.41784641e-01,  1.93815511e-01,  2.69734217e-01,\n",
       "          1.39410283e-02,  1.12322736e-01,  3.66438005e-01,\n",
       "         -1.09162572e+00, -8.48384690e-01,  2.34594832e+00,\n",
       "          8.84137204e-01,  1.34155989e+00,  1.96203006e+00,\n",
       "          9.86077665e-01,  1.80331131e+00],\n",
       "        [-1.33247880e-01, -7.42729818e-02, -2.44531432e-01,\n",
       "          6.12727726e-01,  6.35497735e-01,  5.97968324e-01,\n",
       "         -5.99415201e-01, -5.34540047e-02,  1.50565605e-01,\n",
       "         -1.10740768e+00, -9.09308594e-02, -3.29326305e-01,\n",
       "          1.15602914e+00,  1.24295005e+00,  3.26232600e+00,\n",
       "         -8.44794588e-01, -1.95135515e-01],\n",
       "        [-9.74158592e-02,  7.31139363e-02,  7.72047844e-02,\n",
       "          5.49560637e-01,  6.34590646e-01, -7.01832766e-01,\n",
       "         -5.75451085e-02,  3.15166080e-02, -2.87158875e-01,\n",
       "         -1.60188671e+00,  2.38103063e-01,  3.28453576e+00,\n",
       "          2.67558230e+00,  2.20086609e+00, -5.99508346e+00,\n",
       "         -2.84004668e+00, -8.33033919e-01],\n",
       "        [-3.27600032e-02,  8.10221135e-02,  3.58263312e-02,\n",
       "         -2.79634797e-01, -3.56279980e-01,  1.55050860e-01,\n",
       "         -6.19632571e-01, -2.55682537e-01,  5.24011016e-02,\n",
       "         -1.00674076e+00,  2.34689194e-01, -2.05843369e-01,\n",
       "         -1.60426081e-01, -8.29317753e-01, -2.42887339e-03,\n",
       "         -2.65285261e+00, -2.35955448e+00],\n",
       "        [-3.59023943e-02,  3.80910487e-02, -4.16356264e-02,\n",
       "         -2.06298505e-01,  6.15580311e-01,  1.40023131e-01,\n",
       "          5.77086763e-01, -1.19191597e-01,  3.08614189e-01,\n",
       "         -9.78894199e-01, -3.32414904e-01, -5.77397209e-01,\n",
       "         -6.21117466e-01,  9.94145517e-01,  3.57154130e+00,\n",
       "          4.08100379e+00,  7.17324861e-01],\n",
       "        [-1.02602951e-01,  1.45512568e-01,  1.99773773e-03,\n",
       "         -1.66555955e-01,  3.24551628e-01, -1.76877855e-01,\n",
       "         -5.50466031e-01, -5.34627181e-01,  1.16911289e-01,\n",
       "         -6.59564791e-01,  1.03167661e+00,  1.85003107e+00,\n",
       "          2.48752805e-01,  3.18859862e+00, -3.90814712e+00,\n",
       "         -4.47843113e+00, -1.32860656e+00],\n",
       "        [-1.41914347e-01, -1.11442436e-01,  3.89211115e-01,\n",
       "          6.15408277e-01,  6.26353560e-01,  6.48912186e-01,\n",
       "          2.04575543e-01,  5.29690618e-01,  6.29996767e-01,\n",
       "         -1.66978066e+00, -9.58990872e-01,  3.89082137e+00,\n",
       "          3.53206474e+00,  2.75028060e+00,  5.98133807e+00,\n",
       "          4.32005816e+00,  2.07813424e-01],\n",
       "        [-3.61485333e-02, -2.13682256e-01,  6.70279685e-01,\n",
       "          5.15183060e-01, -2.55591722e-01,  5.60010715e-01,\n",
       "         -3.21480450e-02,  5.50451284e-01,  5.18884052e-01,\n",
       "         -1.28980884e+00, -1.31483948e+00,  5.96151158e+00,\n",
       "          3.61830912e+00,  1.44506046e+00,  3.04335445e+00,\n",
       "          1.40077746e+00,  4.36116174e+00],\n",
       "        [-1.01475694e-01,  7.74015443e-02,  4.78143846e-01,\n",
       "         -2.44845770e-01,  5.24486556e-01,  7.33635353e-01,\n",
       "         -6.09794535e-01,  5.67120643e-01,  7.66200094e-01,\n",
       "         -3.85842453e-01,  2.20818495e-01,  3.52611233e+00,\n",
       "         -1.14341190e-01,  4.40218929e+00, -6.66413748e-01,\n",
       "          1.99318529e+00, -8.95868441e-01],\n",
       "        [-1.37985282e-01, -5.07684704e-02, -2.88231926e-01,\n",
       "          2.08300501e-01, -3.92780575e-01,  6.83902334e-01,\n",
       "          6.67138332e-02, -4.23410870e-02,  2.30496707e-01,\n",
       "         -1.08379240e+00,  1.31159026e+00, -3.20108188e+00,\n",
       "         -7.16153954e-01, -2.76023934e+00,  5.64177561e+00,\n",
       "          3.95217699e+00,  9.12765928e-01],\n",
       "        [-1.47730803e-01, -1.13709792e-01,  6.20061363e-01,\n",
       "          1.64558077e-01, -2.10787690e-01,  3.63403075e-01,\n",
       "          7.13442996e-02,  5.39408206e-01,  5.17895189e-01,\n",
       "         -1.21962213e+00, -1.04319127e+00,  4.45820259e+00,\n",
       "          2.26871591e+00,  1.33502136e+00,  3.06915311e+00,\n",
       "          2.15491311e+00, -3.57017653e-01],\n",
       "        [-1.08300761e-01, -4.51244848e-02, -8.49953608e-03,\n",
       "          6.53293544e-01,  5.09346262e-01,  6.56574562e-01,\n",
       "          5.36952048e-01,  5.06615833e-01,  5.74909711e-01,\n",
       "         -1.58559048e+00, -2.26686356e-01, -1.95034796e-01,\n",
       "          1.69453063e+00,  1.53547865e+00,  7.87132427e+00,\n",
       "          6.62770394e+00,  5.30186016e+00],\n",
       "        [-1.04204205e-01,  2.39113648e-01, -5.04896891e-01,\n",
       "         -3.36136019e-01,  3.80715505e-01, -4.60532580e-01,\n",
       "         -5.57291050e-01,  1.47352880e-01, -6.62233367e-01,\n",
       "         -7.07593770e-01,  2.55643875e+00, -4.46323746e+00,\n",
       "         -4.21077528e+00, -6.68254589e-01, -5.05720490e+00,\n",
       "         -4.01319389e+00, -3.83368729e-01],\n",
       "        [-1.15198380e-01,  1.88666602e-01, -5.70347867e-01,\n",
       "         -3.52467520e-01, -1.31044581e-01, -8.12277882e-01,\n",
       "         -1.25577835e-01,  4.90937453e-01, -7.81864545e-01,\n",
       "         -1.31571149e+00,  1.03457779e+00, -4.60214631e+00,\n",
       "         -3.13369549e+00, -1.66550955e+00, -5.33669849e+00,\n",
       "         -2.48971592e+00,  3.09108781e+00],\n",
       "        [-4.00884709e-03, -1.29071991e-01, -5.43878061e-01,\n",
       "          6.56710969e-01,  4.18550315e-02,  5.46138995e-02,\n",
       "          5.44126100e-01, -5.44993583e-01,  2.37081011e-01,\n",
       "         -1.12629916e+00, -3.19610874e-01, -2.24778989e+00,\n",
       "         -2.81171530e-01, -5.49736581e-01,  2.80696868e+00,\n",
       "          2.89377778e+00,  6.36576515e-01],\n",
       "        [ 2.80621286e-03, -1.76831225e-01,  1.79686664e-01,\n",
       "          6.29803810e-01, -4.20507646e-01,  1.77190271e-01,\n",
       "          3.94217175e-01, -9.46597864e-02,  2.31737091e-01,\n",
       "         -9.90195195e-01, -5.29468456e-01,  2.12028842e+00,\n",
       "          2.27430335e+00,  4.57894216e-01,  2.33129412e+00,\n",
       "          2.65172646e+00,  4.77235198e-01],\n",
       "        [-4.97067775e-02, -5.48069553e-03,  8.43942136e-02,\n",
       "         -1.66498693e-01, -4.35744326e-02, -1.72070157e-01,\n",
       "          3.32780011e-01,  3.24852370e-01,  2.32660391e-01,\n",
       "          9.34257705e-02,  7.15659359e-02,  6.56488796e-01,\n",
       "         -6.03388828e-01,  1.20834681e+00,  7.30801953e-01,\n",
       "         -2.07634537e+00,  1.90111837e+00],\n",
       "        [ 7.91483442e-03,  7.37990542e-02,  2.37477228e-01,\n",
       "         -4.39320558e-01,  5.96219708e-02,  7.39394209e-01,\n",
       "         -1.66397653e-01, -3.92641498e-01,  1.39674050e-01,\n",
       "         -1.03224405e+00, -1.41812088e-01, -6.22951295e-02,\n",
       "         -5.09423547e-01,  4.17023490e-01,  2.24457070e+00,\n",
       "          3.19154885e+00, -2.08706828e+00],\n",
       "        [-8.40483385e-02, -9.78163092e-02, -5.60475212e-01,\n",
       "          1.33127906e-01,  1.24047136e-02, -1.94094676e-01,\n",
       "          4.16546770e-01,  4.84066182e-01, -4.29201792e-01,\n",
       "         -6.07940167e-01, -1.77928142e+00, -3.72853725e+00,\n",
       "         -2.45994127e+00, -8.26586594e-01, -1.48087612e-01,\n",
       "          1.86252109e+00,  4.28068975e+00],\n",
       "        [-1.25210878e-01, -1.33325590e-01,  2.98175999e-01,\n",
       "          6.08400852e-01, -7.64534084e-02, -3.33640295e-01,\n",
       "          3.26800325e-01,  5.11660053e-01, -2.05616068e-01,\n",
       "         -6.15408959e-01, -9.68352569e-01,  4.10843267e+00,\n",
       "          2.93188547e+00,  1.46046462e+00, -2.76635568e+00,\n",
       "          3.69521344e-02,  4.68558135e+00],\n",
       "        [-1.25487412e-01, -1.06697782e-01, -5.54175823e-01,\n",
       "          5.69770351e-01, -4.26461336e-01,  7.03128198e-01,\n",
       "         -6.40992601e-01, -7.13754168e-02,  1.07404591e-01,\n",
       "         -8.28798812e-01,  3.46796871e-01,  5.81399831e-01,\n",
       "         -2.10829022e+00,  6.66663472e-01,  4.74774717e+00,\n",
       "          1.91631480e-01, -6.62571850e-02],\n",
       "        [-1.00328447e-01,  1.83034697e-02, -4.91807589e-01,\n",
       "         -5.09718891e-01, -3.94467244e-01, -1.93675294e-01,\n",
       "          2.39202316e-01, -3.42521906e-01, -1.05406122e+00,\n",
       "         -7.87941834e-01, -1.12930131e+00, -5.65322330e+00,\n",
       "         -4.09395107e+00, -1.92993827e+00, -1.00034215e+00,\n",
       "          1.51179550e+00, -2.44767346e+00],\n",
       "        [-5.19969033e-02,  9.78319198e-02,  5.45739654e-01,\n",
       "         -6.68723167e-01,  5.93832963e-01, -5.38812302e-01,\n",
       "          8.63851611e-02,  5.21372187e-01, -4.60181911e-01,\n",
       "         -8.66492727e-01, -3.38382412e-01,  1.98846819e+00,\n",
       "          7.87407434e-01,  1.29053579e+00, -4.06614961e+00,\n",
       "         -1.52251548e+00, -6.58967324e-01],\n",
       "        [ 8.67759719e-03,  4.76383445e-02, -5.50523807e-01,\n",
       "         -1.86889153e-01,  6.14183263e-01, -5.41264193e-01,\n",
       "          1.18638240e-01,  5.31986272e-01, -3.87942863e-01,\n",
       "         -8.28102443e-01,  1.08217511e+00, -2.12023241e-02,\n",
       "         -4.41796156e+00, -7.00007077e-01, -4.23908202e+00,\n",
       "         -1.60373065e+00, -1.03134476e+00],\n",
       "        [-8.30744116e-02,  8.41660152e-02,  1.62692017e-01,\n",
       "         -4.24818682e-01, -4.35110230e-01, -7.72370107e-01,\n",
       "          1.92987792e-01,  5.34185943e-01, -3.55603408e-01,\n",
       "         -1.12995132e+00,  8.30080269e-01,  3.20449243e-02,\n",
       "         -9.04943880e-02,  1.01521930e+00, -5.51158950e+00,\n",
       "         -1.41798998e+00, -1.09974189e+00],\n",
       "        [-9.58455073e-02,  3.95158205e-03,  5.69784064e-01,\n",
       "          3.29106384e-01, -4.09776072e-01, -6.99692224e-01,\n",
       "          1.87074351e-01, -5.30706452e-01, -4.57296784e-02,\n",
       "         -1.57011801e+00,  1.04877970e-01,  5.79729127e+00,\n",
       "          2.89917012e+00,  1.67848684e+00, -7.32033545e+00,\n",
       "         -2.35147007e+00, -4.74090556e+00],\n",
       "        [-7.91467782e-02,  7.66808119e-02, -1.66618700e-01,\n",
       "         -8.35312029e-02,  6.13570247e-01,  7.40021604e-01,\n",
       "         -2.37699076e-01, -5.38570495e-01,  2.52579290e-01,\n",
       "         -5.29143003e-01,  1.45848763e+00, -1.73787655e+00,\n",
       "         -1.71756404e-01,  6.55270862e-01,  2.18554122e+00,\n",
       "          4.02331203e+00,  8.47257656e-01],\n",
       "        [-1.32563903e-01, -3.92591446e-02, -3.53866398e-01,\n",
       "          3.45571259e-01,  6.81937083e-01,  6.58749067e-01,\n",
       "          5.57645146e-01, -5.20378803e-01,  5.63790680e-01,\n",
       "         -1.08061655e+00,  1.02400355e+00, -2.33624673e+00,\n",
       "          2.12995356e+00,  1.57450555e+00,  7.73881910e+00,\n",
       "          6.59043778e+00, -3.00148472e+00],\n",
       "        [ 1.67000697e-02,  1.90720321e-01, -1.53051894e-01,\n",
       "         -2.09743829e-01,  6.37923711e-01, -7.80009439e-01,\n",
       "         -4.98159575e-01,  5.14757420e-01, -1.71326460e-01,\n",
       "         -1.18096413e+00,  1.26096776e+00,  3.86641544e-01,\n",
       "          3.92064455e-01,  1.26939460e+00, -8.05940481e+00,\n",
       "         -4.86465059e+00, -1.13626457e+00],\n",
       "        [-9.54196384e-02, -3.96433488e-02,  1.22539114e-02,\n",
       "          1.32484475e-01, -1.34402945e-01,  2.45238169e-01,\n",
       "         -3.55116456e-01, -5.36288457e-01,  4.05136956e-02,\n",
       "         -1.03936230e+00, -3.56989130e-01,  1.53420811e+00,\n",
       "          1.17534137e+00,  1.63980332e-01,  1.12112239e-01,\n",
       "         -2.35309595e+00,  3.77864513e-01],\n",
       "        [ 1.54486971e-02,  1.14133392e-01, -3.48630915e-01,\n",
       "         -4.06526254e-02, -4.25932720e-01, -3.10689769e-01,\n",
       "         -6.18929576e-01,  5.04124740e-01, -5.14632292e-01,\n",
       "         -1.16013074e+00,  7.74517646e-01, -3.19934312e+00,\n",
       "         -1.56996807e+00,  6.61928222e-01, -3.92312462e+00,\n",
       "         -4.22954891e+00,  2.84356530e+00]]),\n",
       " array([-0.6176252 , -0.5245876 , -0.13915542, -0.8714467 ,  0.33971426,\n",
       "        -1.3178453 , -0.9816045 ,  0.2220052 , -0.14363506, -0.34678683,\n",
       "        -0.22347456, -1.4730331 , -0.6099394 , -0.55143446, -0.31157357,\n",
       "        -1.0619273 , -0.80369127,  0.21135385, -0.6355445 , -0.9571688 ,\n",
       "        -0.16317287,  0.05275573, -0.26891255,  0.07677121, -0.13187742,\n",
       "         0.2357762 ,  0.0858024 ,  0.12643872, -0.21192664, -1.3648739 ,\n",
       "        -1.495625  , -0.28904065, -0.02394494,  0.1829261 ,  0.17389725,\n",
       "        -1.7773559 , -0.48482725, -1.1316409 , -1.3745587 , -1.0742573 ,\n",
       "        -1.8849005 , -1.3392841 , -0.67712706, -0.09391855, -0.91366744,\n",
       "        -1.3847586 , -0.18974079, -1.1327255 ], dtype=float32),\n",
       " array([False, False, False, False, False, False, False, False, False,\n",
       "        False, False, False, False, False, False, False, False, False,\n",
       "        False, False, False, False, False, False, False, False, False,\n",
       "        False, False, False, False, False, False, False, False, False,\n",
       "        False, False, False, False, False, False, False, False, False,\n",
       "        False, False, False]),\n",
       " array([False, False, False, False, False, False, False, False, False,\n",
       "        False, False, False, False, False, False, False, False, False,\n",
       "        False, False, False, False, False, False, False, False, False,\n",
       "        False, False, False, False, False, False, False, False, False,\n",
       "        False, False, False, False, False, False, False, False, False,\n",
       "        False, False, False]),\n",
       " {'env_id': array([53, 45, 52, 92, 54, 51, 49, 56, 95, 58, 94, 93, 89, 71, 80, 50, 55,\n",
       "         72, 68, 73, 65, 64, 87, 57, 63, 59, 84, 91, 90, 75, 82, 61, 66, 62,\n",
       "         69, 81, 70, 60, 78, 67, 77, 83, 74, 76, 85, 79, 86, 88],\n",
       "        dtype=int32),\n",
       "  'players': {'env_id': array([53, 45, 52, 92, 54, 51, 49, 56, 95, 58, 94, 93, 89, 71, 80, 50, 55,\n",
       "          72, 68, 73, 65, 64, 87, 57, 63, 59, 84, 91, 90, 75, 82, 61, 66, 62,\n",
       "          69, 81, 70, 60, 78, 67, 77, 83, 74, 76, 85, 79, 86, 88],\n",
       "         dtype=int32)},\n",
       "  'reward_run': array([ 0.43831197, -0.29232615,  0.58133955, -0.55480168,  0.60532336,\n",
       "         -0.85923245, -0.41007655,  0.61894133,  0.41691988, -0.18059178,\n",
       "          0.04697127, -0.12080784, -0.52080322,  0.16746778, -0.19468033,\n",
       "         -0.36412019,  0.40743272,  0.57688636,  0.13180216, -0.44128881,\n",
       "          0.13067195,  0.33662946,  0.03919702,  0.80851226,  0.82682371,\n",
       "          1.11306841,  0.26390328,  0.74897572,  0.66157879, -0.83651484,\n",
       "         -1.05729495,  0.09574143,  0.28694118,  0.27119988,  0.42449556,\n",
       "         -0.61640779, -0.18918417, -0.0144591 , -1.09977732, -0.35295727,\n",
       "         -0.78289752, -0.4968262 , -0.01270676,  0.42765908,  0.53264535,\n",
       "         -0.41832394,  0.11298824, -0.70390635]),\n",
       "  'reward_ctrl': array([-1.05593714, -0.23226145, -0.72049496, -0.31664507, -0.26560909,\n",
       "         -0.45861293, -0.57152798, -0.39693613, -0.56055495, -0.16619503,\n",
       "         -0.27044583, -1.3522252 , -0.08913616, -0.71890222, -0.11689323,\n",
       "         -0.69780709, -1.21112397, -0.36553251, -0.76734662, -0.51588003,\n",
       "         -0.29384482, -0.28387373, -0.30810958, -0.73174105, -0.95870114,\n",
       "         -0.87729221, -0.17810088, -0.622537  , -0.87350543, -0.52835899,\n",
       "         -0.43833003, -0.38478208, -0.31088612, -0.08827377, -0.25059831,\n",
       "         -1.16094812, -0.2956431 , -1.1171818 , -0.27478139, -0.72130003,\n",
       "         -1.10200289, -0.8424579 , -0.66442029, -0.52157764, -1.44631277,\n",
       "         -0.96643464, -0.30272902, -0.42881914]),\n",
       "  'x_position': array([ 0.14479396, -0.00480629,  0.01080195, -0.08267613,  0.01445691,\n",
       "         -0.1580573 , -0.12066161,  0.06566658,  0.11331359, -0.06569141,\n",
       "          0.04721432,  0.0641071 , -0.05444203, -0.05993363, -0.00915423,\n",
       "         -0.03654122,  0.00459   ,  0.02443278,  0.07202836, -0.08873261,\n",
       "         -0.07315947,  0.03864024,  0.08314934,  0.04053437,  0.17900137,\n",
       "          0.17148399,  0.00604011,  0.00429796, -0.03115768, -0.15337588,\n",
       "         -0.00766406, -0.02291848,  0.04621007,  0.00246389,  0.08835491,\n",
       "         -0.0742192 ,  0.07021054,  0.09070869, -0.17264623, -0.08230879,\n",
       "         -0.04148083, -0.08544147,  0.01028217,  0.08799444,  0.0334774 ,\n",
       "         -0.06347027,  0.02893937, -0.07130609]),\n",
       "  'x_velocity': array([ 0.43831197, -0.29232615,  0.58133955, -0.55480168,  0.60532336,\n",
       "         -0.85923245, -0.41007655,  0.61894133,  0.41691988, -0.18059178,\n",
       "          0.04697127, -0.12080784, -0.52080322,  0.16746778, -0.19468033,\n",
       "         -0.36412019,  0.40743272,  0.57688636,  0.13180216, -0.44128881,\n",
       "          0.13067195,  0.33662946,  0.03919702,  0.80851226,  0.82682371,\n",
       "          1.11306841,  0.26390328,  0.74897572,  0.66157879, -0.83651484,\n",
       "         -1.05729495,  0.09574143,  0.28694118,  0.27119988,  0.42449556,\n",
       "         -0.61640779, -0.18918417, -0.0144591 , -1.09977732, -0.35295727,\n",
       "         -0.78289752, -0.4968262 , -0.01270676,  0.42765908,  0.53264535,\n",
       "         -0.41832394,  0.11298824, -0.70390635]),\n",
       "  'elapsed_step': array([2, 2, 2, 2, 2, 2, 2, 2, 2, 2, 2, 2, 2, 2, 2, 2, 2, 2, 2, 2, 2, 2,\n",
       "         2, 2, 2, 2, 2, 2, 2, 2, 2, 2, 2, 2, 2, 2, 2, 2, 2, 2, 2, 2, 2, 2,\n",
       "         2, 2, 2, 2], dtype=int32)})"
      ]
     },
     "execution_count": 38,
     "metadata": {},
     "output_type": "execute_result"
    }
   ],
   "source": [
    "timestep"
   ]
  },
  {
   "cell_type": "code",
   "execution_count": 35,
   "metadata": {},
   "outputs": [
    {
     "name": "stdout",
     "output_type": "stream",
     "text": [
      "(48, 17)\n",
      "(48,)\n",
      "(48,)\n",
      "(48,)\n",
      "{'env_id': array([26, 28, 39, 31, 44, 36, 35, 41, 45, 42, 56, 43, 53, 55, 50, 52, 66,\n",
      "       58, 57, 67, 68, 77, 88, 78, 83, 80, 79, 85, 94, 95, 76, 91, 69, 71,\n",
      "       75, 82, 74, 70, 90, 89, 81, 86, 92, 93, 84, 87, 72, 73],\n",
      "      dtype=int32), 'players': {'env_id': array([26, 28, 39, 31, 44, 36, 35, 41, 45, 42, 56, 43, 53, 55, 50, 52, 66,\n",
      "       58, 57, 67, 68, 77, 88, 78, 83, 80, 79, 85, 94, 95, 76, 91, 69, 71,\n",
      "       75, 82, 74, 70, 90, 89, 81, 86, 92, 93, 84, 87, 72, 73],\n",
      "      dtype=int32)}, 'reward_run': array([0., 0., 0., 0., 0., 0., 0., 0., 0., 0., 0., 0., 0., 0., 0., 0., 0.,\n",
      "       0., 0., 0., 0., 0., 0., 0., 0., 0., 0., 0., 0., 0., 0., 0., 0., 0.,\n",
      "       0., 0., 0., 0., 0., 0., 0., 0., 0., 0., 0., 0., 0., 0.]), 'reward_ctrl': array([-0., -0., -0., -0., -0., -0., -0., -0., -0., -0., -0., -0., -0.,\n",
      "       -0., -0., -0., -0., -0., -0., -0., -0., -0., -0., -0., -0., -0.,\n",
      "       -0., -0., -0., -0., -0., -0., -0., -0., -0., -0., -0., -0., -0.,\n",
      "       -0., -0., -0., -0., -0., -0., -0., -0., -0.]), 'x_position': array([0., 0., 0., 0., 0., 0., 0., 0., 0., 0., 0., 0., 0., 0., 0., 0., 0.,\n",
      "       0., 0., 0., 0., 0., 0., 0., 0., 0., 0., 0., 0., 0., 0., 0., 0., 0.,\n",
      "       0., 0., 0., 0., 0., 0., 0., 0., 0., 0., 0., 0., 0., 0.]), 'x_velocity': array([0., 0., 0., 0., 0., 0., 0., 0., 0., 0., 0., 0., 0., 0., 0., 0., 0.,\n",
      "       0., 0., 0., 0., 0., 0., 0., 0., 0., 0., 0., 0., 0., 0., 0., 0., 0.,\n",
      "       0., 0., 0., 0., 0., 0., 0., 0., 0., 0., 0., 0., 0., 0.]), 'elapsed_step': array([0, 0, 0, 0, 0, 0, 0, 0, 0, 0, 0, 0, 0, 0, 0, 0, 0, 0, 0, 0, 0, 0,\n",
      "       0, 0, 0, 0, 0, 0, 0, 0, 0, 0, 0, 0, 0, 0, 0, 0, 0, 0, 0, 0, 0, 0,\n",
      "       0, 0, 0, 0], dtype=int32)}\n"
     ]
    }
   ],
   "source": [
    "print(next_obs.shape)\n",
    "print(reward.shape)\n",
    "print(terminated.shape)\n",
    "print(truncated.shape)\n",
    "print(info)\n",
    "env_id = info['env_id']\n",
    "\n"
   ]
  },
  {
   "cell_type": "code",
   "execution_count": 7,
   "metadata": {},
   "outputs": [
    {
     "data": {
      "text/plain": [
       "Box(-1.0, 1.0, (6,), float64)"
      ]
     },
     "execution_count": 7,
     "metadata": {},
     "output_type": "execute_result"
    }
   ],
   "source": [
    "envs.action_space"
   ]
  },
  {
   "cell_type": "code",
   "execution_count": 8,
   "metadata": {},
   "outputs": [],
   "source": [
    "actions = np.stack([envs.action_space.sample() for i in range(num_envs)])"
   ]
  },
  {
   "cell_type": "code",
   "execution_count": 9,
   "metadata": {},
   "outputs": [
    {
     "data": {
      "text/plain": [
       "(96, 6)"
      ]
     },
     "execution_count": 9,
     "metadata": {},
     "output_type": "execute_result"
    }
   ],
   "source": [
    "actions.shape"
   ]
  },
  {
   "cell_type": "code",
   "execution_count": 10,
   "metadata": {},
   "outputs": [],
   "source": [
    "envs.num_envs = num_envs\n",
    "envs.single_action_space = envs.action_space\n",
    "envs.single_observation_space = envs.observation_space"
   ]
  },
  {
   "cell_type": "code",
   "execution_count": 11,
   "metadata": {},
   "outputs": [],
   "source": [
    "obs, info = envs.reset()"
   ]
  },
  {
   "cell_type": "code",
   "execution_count": 12,
   "metadata": {},
   "outputs": [
    {
     "data": {
      "text/plain": [
       "array([[-0.06331304,  0.0559382 ,  0.01937003, -0.01083345, -0.08000502,\n",
       "        -0.00815022, -0.03325828, -0.07142664, -0.04826188,  0.01641648,\n",
       "         0.02330952,  0.01179946,  0.14623781,  0.15387149, -0.24391058,\n",
       "         0.06034413, -0.0251044 ],\n",
       "       [ 0.08193413,  0.06468624, -0.02558732,  0.09565195,  0.08663149,\n",
       "        -0.02088608, -0.03870237, -0.05387886,  0.02371703,  0.2275385 ,\n",
       "        -0.16784505, -0.11577671,  0.08786311,  0.07599991,  0.1007009 ,\n",
       "        -0.1083888 ,  0.1400508 ],\n",
       "       [ 0.03684346,  0.08346798, -0.05901319,  0.09793726,  0.0437633 ,\n",
       "        -0.08249156, -0.02118757, -0.0899881 , -0.06478368, -0.05519389,\n",
       "        -0.07100642,  0.09528173, -0.09723472,  0.04562799,  0.28555246,\n",
       "         0.0698644 ,  0.05275544],\n",
       "       [-0.09364504,  0.0255701 , -0.06311626, -0.04072481, -0.04860649,\n",
       "         0.03598501, -0.04348796,  0.08336848,  0.05486146, -0.12175255,\n",
       "         0.01550792,  0.14191162, -0.04170158, -0.04204625, -0.06476628,\n",
       "         0.15115428, -0.05835171],\n",
       "       [-0.07941705, -0.07024545, -0.06557349,  0.06220728, -0.08505173,\n",
       "        -0.09098943,  0.02242643,  0.01896572, -0.06247754, -0.04418554,\n",
       "        -0.00187369, -0.02871886,  0.00719906,  0.05869124,  0.09868377,\n",
       "         0.18268553, -0.03039473],\n",
       "       [-0.04670575,  0.03875537, -0.07835765,  0.09266631, -0.02073392,\n",
       "        -0.00408642,  0.04940916, -0.00960752,  0.0853269 ,  0.03440219,\n",
       "        -0.08737157,  0.11945649, -0.00089102,  0.15910985,  0.02149438,\n",
       "         0.21699465,  0.19834983],\n",
       "       [-0.09949666,  0.09830149, -0.05274394, -0.05659399, -0.05143445,\n",
       "        -0.01113685, -0.0003569 , -0.02382483, -0.02622839, -0.00881343,\n",
       "         0.01741045, -0.01183105, -0.0751985 ,  0.13664653,  0.1655802 ,\n",
       "         0.08264555,  0.0708328 ],\n",
       "       [-0.07074931, -0.01586313,  0.06556895,  0.02704267, -0.00533281,\n",
       "         0.06718484, -0.09350689, -0.08567821,  0.06959777, -0.10106248,\n",
       "         0.02021391, -0.05279909, -0.32354972,  0.20421716, -0.15971299,\n",
       "        -0.04992163, -0.20376085],\n",
       "       [ 0.02157938, -0.06532376,  0.00373727, -0.03813532, -0.08281851,\n",
       "         0.07323507, -0.0043885 ,  0.0665707 ,  0.0102789 ,  0.05220245,\n",
       "         0.10934107, -0.00257361,  0.1110011 , -0.0744794 , -0.01337069,\n",
       "        -0.09454567, -0.06106952],\n",
       "       [ 0.01916478, -0.0676502 ,  0.07206476, -0.07138934, -0.04373554,\n",
       "         0.03285624, -0.04999431,  0.02532788,  0.02642642,  0.06794179,\n",
       "         0.12306256,  0.04287776, -0.02896775,  0.18419539, -0.07152597,\n",
       "        -0.00411668, -0.20760546],\n",
       "       [ 0.00184029,  0.08854454,  0.00955638,  0.09179771,  0.0026134 ,\n",
       "         0.06523823,  0.00836251,  0.05809622, -0.03088303,  0.03106282,\n",
       "         0.05175546,  0.20969147,  0.02673513, -0.09186761, -0.03979775,\n",
       "        -0.04386012,  0.05392074],\n",
       "       [-0.02932463, -0.09198717,  0.06161007, -0.03176978,  0.07779642,\n",
       "         0.05076803,  0.0384828 , -0.00186316, -0.02130348,  0.10380191,\n",
       "         0.06131383, -0.0733768 ,  0.01972903,  0.0377367 , -0.09495332,\n",
       "         0.11526522,  0.22330967],\n",
       "       [-0.07986197,  0.04258353, -0.06609425,  0.05266625, -0.06044383,\n",
       "        -0.04149446, -0.02550459, -0.04147818,  0.00305708,  0.08736076,\n",
       "        -0.0217735 , -0.06759982,  0.0998643 ,  0.12151482, -0.05899208,\n",
       "        -0.02518502,  0.09606239],\n",
       "       [ 0.06925308, -0.09320282,  0.05486624,  0.04484662, -0.00941735,\n",
       "        -0.0022674 ,  0.0745192 ,  0.04713101,  0.09253489,  0.02370741,\n",
       "         0.02721741,  0.00146327, -0.00237623,  0.16930684,  0.00346948,\n",
       "         0.01487473, -0.0669359 ],\n",
       "       [ 0.03293153, -0.02481903, -0.01600752,  0.01407258,  0.02839917,\n",
       "        -0.0765233 ,  0.09077907, -0.008499  ,  0.09196977,  0.03645611,\n",
       "        -0.08124581, -0.0483215 , -0.04207286, -0.1137513 ,  0.15926182,\n",
       "         0.14744545, -0.087807  ],\n",
       "       [ 0.08631259, -0.07804264,  0.01031466,  0.03782094,  0.06964778,\n",
       "        -0.00194627, -0.07890599, -0.04352551, -0.06533041, -0.08224895,\n",
       "        -0.10686299, -0.03275346,  0.03659453,  0.11070138,  0.01049973,\n",
       "         0.04376266, -0.0523743 ],\n",
       "       [ 0.05126598, -0.0346859 , -0.028615  ,  0.00663723, -0.00282274,\n",
       "         0.08214837, -0.0600227 , -0.08912075,  0.23509793,  0.05565677,\n",
       "         0.17135995,  0.01313476,  0.06176417,  0.23391693, -0.10986731,\n",
       "        -0.16248301, -0.06794684],\n",
       "       [-0.01755948, -0.085767  ,  0.02966839, -0.09590169,  0.02852684,\n",
       "         0.08898095,  0.07387277,  0.09821779,  0.08408884,  0.10487749,\n",
       "        -0.15137726, -0.08006294, -0.00255912, -0.04152049,  0.06472098,\n",
       "        -0.06293222, -0.03976659],\n",
       "       [ 0.05228651, -0.06115686,  0.05252594, -0.03619118, -0.09278007,\n",
       "         0.04794796, -0.06336233,  0.06753949,  0.02491867,  0.05438554,\n",
       "        -0.09151443, -0.16443666, -0.05184264, -0.11537367,  0.03085473,\n",
       "        -0.0985335 , -0.00089153],\n",
       "       [ 0.03429593, -0.0159723 ,  0.09145049,  0.08292811, -0.00382521,\n",
       "         0.04393542, -0.02692655, -0.08855248, -0.06887513, -0.10581422,\n",
       "         0.01777741,  0.06972934,  0.04738586,  0.04657146,  0.0408375 ,\n",
       "        -0.15235705,  0.08100667],\n",
       "       [-0.08512468,  0.02198763, -0.09571275, -0.06955986,  0.09094123,\n",
       "         0.06093651, -0.05115398, -0.03496054, -0.10815398, -0.01797424,\n",
       "         0.03120789,  0.00618154, -0.02582737, -0.05156316,  0.01022971,\n",
       "        -0.16070072,  0.10839758],\n",
       "       [-0.02017982,  0.05612885,  0.05515058,  0.03112362,  0.09162397,\n",
       "        -0.08919413, -0.00064033,  0.0482882 ,  0.09148204,  0.19918677,\n",
       "         0.08253158,  0.02147543, -0.17428535, -0.10628276, -0.10013581,\n",
       "         0.13583768, -0.1589304 ],\n",
       "       [ 0.03157255,  0.09408048,  0.04048875,  0.06124509,  0.08742669,\n",
       "        -0.00264819, -0.00975986,  0.03129758,  0.11810173, -0.13890998,\n",
       "        -0.0560071 ,  0.10073533,  0.06805054, -0.04972005, -0.19308527,\n",
       "         0.18879324,  0.11575768],\n",
       "       [-0.0043013 , -0.03688148, -0.02589745,  0.04535128, -0.0449196 ,\n",
       "        -0.07803837,  0.08590865,  0.04113774, -0.03556388,  0.01651433,\n",
       "         0.00694611, -0.14512974,  0.19099485, -0.10782007, -0.00928456,\n",
       "        -0.25100501, -0.02544446],\n",
       "       [ 0.06688212,  0.0813707 , -0.04525338, -0.08435887, -0.02285672,\n",
       "        -0.05708495,  0.02080864, -0.09917897, -0.00223293, -0.039893  ,\n",
       "        -0.06363959,  0.07725826, -0.0864436 , -0.0338022 ,  0.15458058,\n",
       "        -0.11380083, -0.04520278],\n",
       "       [ 0.01036239,  0.07253003, -0.03500787,  0.02308717,  0.07275369,\n",
       "         0.04349065,  0.08698735,  0.06640277,  0.06178277,  0.00308233,\n",
       "        -0.10351648,  0.01817385, -0.13345668,  0.10198486,  0.04756706,\n",
       "         0.10049168, -0.09899656],\n",
       "       [ 0.08230628, -0.07743875,  0.04561758,  0.05669811, -0.01630426,\n",
       "         0.0483626 ,  0.09839028,  0.05247096,  0.01768804, -0.0108853 ,\n",
       "         0.14909893, -0.17798679, -0.1077295 ,  0.04907217,  0.09108788,\n",
       "        -0.08933373, -0.08240393],\n",
       "       [ 0.06411805,  0.03303909,  0.08001714, -0.07543665, -0.09505769,\n",
       "        -0.00357803, -0.07814407,  0.08089156,  0.05045367, -0.13338244,\n",
       "        -0.09048209, -0.00957156,  0.06125937,  0.05413909,  0.06761836,\n",
       "        -0.01661508,  0.07300537],\n",
       "       [ 0.00644291, -0.09028478,  0.04933193,  0.02678303,  0.03873832,\n",
       "        -0.02776982,  0.06568704,  0.09146425, -0.05683428, -0.07276596,\n",
       "        -0.07698699,  0.05913476, -0.04628303, -0.02893905,  0.05403786,\n",
       "        -0.15768688, -0.00418765],\n",
       "       [-0.04564781, -0.05022346, -0.03461047,  0.08096429,  0.0843266 ,\n",
       "         0.08997351, -0.0636753 , -0.09849033, -0.08368101,  0.04177252,\n",
       "        -0.18755853,  0.05984504, -0.09000052, -0.07024958,  0.17358934,\n",
       "         0.03219331, -0.00170596],\n",
       "       [ 0.02748416,  0.09583236, -0.02042894,  0.0397397 ,  0.08823797,\n",
       "        -0.06003368,  0.00590978,  0.06848948,  0.00372726, -0.00745811,\n",
       "         0.07287696,  0.02196521, -0.11516207,  0.01169202,  0.0309115 ,\n",
       "        -0.05429743,  0.01615713],\n",
       "       [ 0.00588847, -0.06897818,  0.05958745,  0.07650797,  0.04820236,\n",
       "         0.09087066,  0.02813911,  0.06597595,  0.10445316, -0.07765067,\n",
       "         0.11465384, -0.05932983, -0.12525198,  0.07091327, -0.00941834,\n",
       "         0.11270603,  0.04946201],\n",
       "       [-0.09481629,  0.04240542, -0.0281503 ,  0.0713371 ,  0.01370262,\n",
       "         0.04818732, -0.00838176, -0.08406531,  0.01656436, -0.04763075,\n",
       "         0.11801119,  0.08719545,  0.00560463, -0.06132175, -0.09047694,\n",
       "         0.06971257,  0.06350027],\n",
       "       [-0.00662346, -0.00966018,  0.04182487,  0.07728283, -0.04343491,\n",
       "         0.00759125, -0.02349474, -0.09460282, -0.12159493,  0.02565673,\n",
       "        -0.005712  ,  0.19466732, -0.21518722,  0.09484268,  0.06385924,\n",
       "        -0.08402355, -0.09455377],\n",
       "       [ 0.04570243,  0.02632647,  0.04821463,  0.0496856 ,  0.00607952,\n",
       "         0.08620466,  0.04087639,  0.07894612, -0.02537785,  0.02907959,\n",
       "         0.04455542,  0.00270629, -0.12623701, -0.20873685, -0.01121996,\n",
       "        -0.03040452,  0.0003684 ],\n",
       "       [ 0.07827258,  0.09250006,  0.0930128 ,  0.00754233, -0.05869608,\n",
       "         0.0709704 , -0.03006392, -0.05684671,  0.08559533, -0.02215073,\n",
       "         0.06156055, -0.02985007, -0.15415608,  0.11764372,  0.04543367,\n",
       "        -0.06799821,  0.02273791],\n",
       "       [-0.08616362,  0.00846665, -0.00170087,  0.01085832, -0.05253606,\n",
       "         0.0371697 ,  0.08755393, -0.00640639,  0.09161283,  0.24528719,\n",
       "         0.19442291, -0.11480551,  0.02084586, -0.03042102,  0.02439437,\n",
       "         0.02184662, -0.09714066],\n",
       "       [ 0.09575581, -0.05040901,  0.09669847,  0.04467764,  0.00551647,\n",
       "        -0.03766912, -0.05640604,  0.03696283, -0.03967054, -0.19037024,\n",
       "        -0.09009316, -0.02597578,  0.00539904, -0.07247166, -0.03623812,\n",
       "        -0.04118866,  0.03205922],\n",
       "       [ 0.06636368, -0.01739992,  0.01990112, -0.06364989, -0.04626989,\n",
       "         0.09161918, -0.08076118,  0.0129019 ,  0.06009536,  0.09115332,\n",
       "        -0.11585811,  0.16171577, -0.09253203,  0.04464284,  0.09051501,\n",
       "         0.14720357, -0.09708566],\n",
       "       [ 0.01467152,  0.0193164 , -0.03487985,  0.05212419,  0.09873448,\n",
       "         0.0132715 ,  0.05031061,  0.01371499,  0.05980473, -0.00852772,\n",
       "         0.06189536,  0.10435758,  0.13099795, -0.00958847, -0.01078396,\n",
       "         0.08832372,  0.03230203],\n",
       "       [ 0.0541284 , -0.07054089,  0.00719269, -0.08761646, -0.02619775,\n",
       "        -0.03546672, -0.03817574,  0.00855841,  0.04410998,  0.0177409 ,\n",
       "        -0.1450796 , -0.07710232,  0.07249841,  0.11809036,  0.06260711,\n",
       "        -0.03409022, -0.11081695],\n",
       "       [ 0.09027059,  0.02420192,  0.06796116,  0.05806604, -0.07031323,\n",
       "         0.05122706,  0.08376224,  0.06585176, -0.13615947,  0.00646094,\n",
       "        -0.11798238, -0.0110026 ,  0.24921462,  0.09350627, -0.10012587,\n",
       "        -0.06636537,  0.04901112],\n",
       "       [-0.04532699,  0.01730371,  0.01291288,  0.02474029,  0.08579494,\n",
       "        -0.09017014,  0.046341  , -0.01157335, -0.08666483, -0.06453342,\n",
       "        -0.11849258,  0.00397206, -0.07556864, -0.06813125,  0.15056875,\n",
       "         0.06181734, -0.10441278],\n",
       "       [-0.00768715,  0.06276043, -0.01316199,  0.07484234, -0.06328684,\n",
       "         0.02168712, -0.08778204, -0.09481359,  0.04445749, -0.02573709,\n",
       "         0.01342669, -0.0011849 ,  0.08056668, -0.12062817, -0.17462763,\n",
       "         0.06037188, -0.07179802],\n",
       "       [-0.06822783, -0.03802973, -0.01803157,  0.02907149,  0.05770357,\n",
       "        -0.02122791, -0.01923346,  0.03145504,  0.02063095, -0.10207664,\n",
       "        -0.11464133, -0.03794608,  0.06457197, -0.01127032, -0.09416581,\n",
       "        -0.14226905,  0.0711374 ],\n",
       "       [ 0.0815736 ,  0.03048357,  0.04444473, -0.05371899, -0.07397434,\n",
       "         0.07030074,  0.09367311, -0.06610532, -0.117976  ,  0.04561725,\n",
       "         0.10237232, -0.12374143, -0.09236603, -0.06140243,  0.02328244,\n",
       "        -0.11254434, -0.08343116],\n",
       "       [-0.05218477,  0.06485485, -0.09840157, -0.08145102, -0.04837923,\n",
       "         0.08655152, -0.095841  ,  0.0505346 , -0.04407161, -0.17535496,\n",
       "         0.16472008,  0.05252728, -0.08768991,  0.08352661, -0.19071207,\n",
       "         0.06091071,  0.17718508],\n",
       "       [ 0.03562865, -0.04266943,  0.02696016, -0.05041575, -0.03391426,\n",
       "         0.08488791, -0.04536513,  0.08115148, -0.08703744, -0.14136971,\n",
       "        -0.0276124 ,  0.11736023,  0.06939353, -0.0691    , -0.02823376,\n",
       "        -0.2800939 ,  0.02391015]])"
      ]
     },
     "execution_count": 12,
     "metadata": {},
     "output_type": "execute_result"
    }
   ],
   "source": [
    "obs"
   ]
  },
  {
   "cell_type": "code",
   "execution_count": 13,
   "metadata": {},
   "outputs": [
    {
     "data": {
      "text/plain": [
       "{'env_id': array([ 0,  5,  4,  2,  1,  6, 12, 10, 31, 27,  9, 35, 29, 11, 23, 32, 33,\n",
       "        30,  7,  3,  8, 40, 15, 42, 41, 22, 44, 39, 43, 24, 17, 38, 34, 20,\n",
       "        18, 16, 19, 13, 14, 36, 26, 25, 45, 37, 48, 46, 50, 47],\n",
       "       dtype=int32),\n",
       " 'players': {'env_id': array([ 0,  5,  4,  2,  1,  6, 12, 10, 31, 27,  9, 35, 29, 11, 23, 32, 33,\n",
       "         30,  7,  3,  8, 40, 15, 42, 41, 22, 44, 39, 43, 24, 17, 38, 34, 20,\n",
       "         18, 16, 19, 13, 14, 36, 26, 25, 45, 37, 48, 46, 50, 47],\n",
       "        dtype=int32)},\n",
       " 'reward_run': array([0., 0., 0., 0., 0., 0., 0., 0., 0., 0., 0., 0., 0., 0., 0., 0., 0.,\n",
       "        0., 0., 0., 0., 0., 0., 0., 0., 0., 0., 0., 0., 0., 0., 0., 0., 0.,\n",
       "        0., 0., 0., 0., 0., 0., 0., 0., 0., 0., 0., 0., 0., 0.]),\n",
       " 'reward_ctrl': array([-0., -0., -0., -0., -0., -0., -0., -0., -0., -0., -0., -0., -0.,\n",
       "        -0., -0., -0., -0., -0., -0., -0., -0., -0., -0., -0., -0., -0.,\n",
       "        -0., -0., -0., -0., -0., -0., -0., -0., -0., -0., -0., -0., -0.,\n",
       "        -0., -0., -0., -0., -0., -0., -0., -0., -0.]),\n",
       " 'x_position': array([0., 0., 0., 0., 0., 0., 0., 0., 0., 0., 0., 0., 0., 0., 0., 0., 0.,\n",
       "        0., 0., 0., 0., 0., 0., 0., 0., 0., 0., 0., 0., 0., 0., 0., 0., 0.,\n",
       "        0., 0., 0., 0., 0., 0., 0., 0., 0., 0., 0., 0., 0., 0.]),\n",
       " 'x_velocity': array([0., 0., 0., 0., 0., 0., 0., 0., 0., 0., 0., 0., 0., 0., 0., 0., 0.,\n",
       "        0., 0., 0., 0., 0., 0., 0., 0., 0., 0., 0., 0., 0., 0., 0., 0., 0.,\n",
       "        0., 0., 0., 0., 0., 0., 0., 0., 0., 0., 0., 0., 0., 0.]),\n",
       " 'elapsed_step': array([0, 0, 0, 0, 0, 0, 0, 0, 0, 0, 0, 0, 0, 0, 0, 0, 0, 0, 0, 0, 0, 0,\n",
       "        0, 0, 0, 0, 0, 0, 0, 0, 0, 0, 0, 0, 0, 0, 0, 0, 0, 0, 0, 0, 0, 0,\n",
       "        0, 0, 0, 0], dtype=int32)}"
      ]
     },
     "execution_count": 13,
     "metadata": {},
     "output_type": "execute_result"
    }
   ],
   "source": [
    "info\n"
   ]
  },
  {
   "cell_type": "code",
   "execution_count": 14,
   "metadata": {},
   "outputs": [],
   "source": [
    "device = \"cuda:5\""
   ]
  },
  {
   "cell_type": "code",
   "execution_count": 15,
   "metadata": {},
   "outputs": [
    {
     "name": "stderr",
     "output_type": "stream",
     "text": [
      "/home/kukjin/.conda/envs/test_env/lib/python3.10/site-packages/torch/cuda/__init__.py:497: UserWarning: Can't initialize NVML\n",
      "  warnings.warn(\"Can't initialize NVML\")\n"
     ]
    }
   ],
   "source": [
    "global_step = 0\n",
    "start_time = time.time()\n",
    "next_obs, info = envs.reset()\n",
    "next_obs = torch.Tensor(next_obs).to(device)\n",
    "next_done = torch.zeros(num_envs).to(device)\n"
   ]
  },
  {
   "cell_type": "code",
   "execution_count": 16,
   "metadata": {},
   "outputs": [],
   "source": [
    "total_timesteps = 1000000\n",
    "global_step = 0"
   ]
  },
  {
   "cell_type": "code",
   "execution_count": 17,
   "metadata": {},
   "outputs": [],
   "source": [
    "import inspect"
   ]
  },
  {
   "cell_type": "code",
   "execution_count": 18,
   "metadata": {},
   "outputs": [
    {
     "name": "stdout",
     "output_type": "stream",
     "text": [
      "(mask: 'None' = None) -> 'NDArray[Any]'\n"
     ]
    }
   ],
   "source": [
    "signature = inspect.signature(envs.action_space.sample)\n",
    "print(signature)"
   ]
  },
  {
   "cell_type": "code",
   "execution_count": 19,
   "metadata": {},
   "outputs": [
    {
     "name": "stdout",
     "output_type": "stream",
     "text": [
      "{}\n"
     ]
    }
   ],
   "source": [
    "signature = vars(envs.action_space.sample)\n",
    "print(signature)"
   ]
  },
  {
   "cell_type": "code",
   "execution_count": 20,
   "metadata": {},
   "outputs": [
    {
     "ename": "",
     "evalue": "",
     "output_type": "error",
     "traceback": [
      "\u001b[1;31mCanceled future for execute_request message before replies were done"
     ]
    },
    {
     "ename": "",
     "evalue": "",
     "output_type": "error",
     "traceback": [
      "\u001b[1;31m현재 셀 또는 이전 셀에서 코드를 실행하는 동안 Kernel이 충돌했습니다. 셀의 코드를 검토하여 오류의 가능한 원인을 식별하세요. 자세한 내용을 보려면 <a href='https://aka.ms/vscodeJupyterKernelCrash'> 여기 </a> 를 클릭하세요. 자세한 내용은 Jupyter <a href='command:jupyter.viewOutput'>로그</a>를 참조하세요."
     ]
    }
   ],
   "source": [
    "%%timeit\n",
    "total_rewards = 0\n",
    "obs, info = envs.reset()\n",
    "for step in range(0, 1000):\n",
    "    # action = envs.action_space.sample()\n",
    "    actions = np.stack([envs.action_space.sample() for i in range(num_envs)])\n",
    "    next_obs, reward, terminated, truncated, info = envs.step(actions)\n",
    "    total_rewards += np.mean(reward)\n",
    "    done = np.logical_or(terminated, truncated)\n",
    "    next_obs, next_done = torch.Tensor(next_obs).to(device), torch.Tensor(done).to(device)\n",
    "print(f\"total_rewards: {total_rewards}\")"
   ]
  },
  {
   "cell_type": "code",
   "execution_count": null,
   "metadata": {},
   "outputs": [],
   "source": [
    "def make_env(env_id):\n",
    "    def thunk():\n",
    "        env = gym.make(env_id)\n",
    "        return env\n",
    "    return thunk"
   ]
  },
  {
   "cell_type": "code",
   "execution_count": null,
   "metadata": {},
   "outputs": [
    {
     "name": "stderr",
     "output_type": "stream",
     "text": [
      "<frozen importlib._bootstrap>:283: DeprecationWarning: the load_module() method is deprecated and slated for removal in Python 3.12; use exec_module() instead\n"
     ]
    }
   ],
   "source": [
    "gym_envs = gym.vector.SyncVectorEnv(\n",
    "        [make_env(\"HalfCheetah-v4\") for i in range(num_envs)]\n",
    "    )"
   ]
  },
  {
   "cell_type": "code",
   "execution_count": null,
   "metadata": {},
   "outputs": [
    {
     "data": {
      "text/plain": [
       "(96, 6)"
      ]
     },
     "execution_count": 23,
     "metadata": {},
     "output_type": "execute_result"
    }
   ],
   "source": [
    "gym_envs.action_space.sample().shape"
   ]
  },
  {
   "cell_type": "code",
   "execution_count": null,
   "metadata": {},
   "outputs": [
    {
     "name": "stdout",
     "output_type": "stream",
     "text": [
      "total_rewards: -279.1630750078215\n",
      "total_rewards: -271.102743936323\n",
      "total_rewards: -298.7254640804569\n",
      "total_rewards: -287.2895548141525\n",
      "total_rewards: -292.94488184294244\n",
      "total_rewards: -263.3168568749372\n",
      "total_rewards: -283.7712929465664\n",
      "total_rewards: -281.5529480138204\n",
      "7.69 s ± 115 ms per loop (mean ± std. dev. of 7 runs, 1 loop each)\n"
     ]
    }
   ],
   "source": [
    "%%timeit\n",
    "total_rewards = 0\n",
    "obs, info = gym_envs.reset()\n",
    "for step in range(0, 1000):\n",
    "    actions = gym_envs.action_space.sample()\n",
    "    next_obs, reward, terminated, truncated, info = gym_envs.step(actions)\n",
    "    total_rewards += np.mean(reward)\n",
    "    done = np.logical_or(terminated, truncated)\n",
    "    next_obs, next_done = torch.Tensor(next_obs).to(device), torch.Tensor(done).to(device)\n",
    "print(f\"total_rewards: {total_rewards}\")\n"
   ]
  },
  {
   "cell_type": "code",
   "execution_count": 66,
   "metadata": {},
   "outputs": [],
   "source": [
    "from gym.spaces import Box, Discrete\n"
   ]
  },
  {
   "cell_type": "code",
   "execution_count": 70,
   "metadata": {},
   "outputs": [],
   "source": [
    "class FlattenObsWrapper(gym.Wrapper):\n",
    "    def __init__(self, env):\n",
    "        size, highs, lows = self.get_obs_space(env.observation_space)\n",
    "        self.observation_space = Box(low=lows, high=highs)\n",
    "        \n",
    "    def reset(self, **kwargs):\n",
    "        observations = super().reset(**kwargs)\n",
    "        if isinstance(type(observations, Dict)):\n",
    "            observations =  self.flatten_dict(observations)\n",
    "        return observations\n",
    "    \n",
    "    def flatten_dict(self, obs):\n",
    "        features = []\n",
    "        for key, values in obs.items():\n",
    "            features.append(values)\n",
    "        return np.concatenate(features, axis=-1)\n",
    "\n",
    "    def get_obs_space(self, observation_space):\n",
    "        shapes = []\n",
    "        highs = []\n",
    "        lows = []\n",
    "    \n",
    "        for key, box in observation_space.items():\n",
    "            shapes.append(box.shape)\n",
    "            highs.append(box.high)\n",
    "            lows.append(box.low)\n",
    "        size = (np.sum(shapes, dtype=np.int32))\n",
    "        highs = np.concatenate(highs, axis=-1)\n",
    "        lows = np.concatenate(lows, axis=-1)        \n",
    "        return size, highs, lows"
   ]
  },
  {
   "cell_type": "code",
   "execution_count": 76,
   "metadata": {},
   "outputs": [
    {
     "data": {
      "text/plain": [
       "tensor([0., 0., 0., 0., 0., 0., 0., 0., 0., 0.])"
      ]
     },
     "execution_count": 76,
     "metadata": {},
     "output_type": "execute_result"
    }
   ],
   "source": [
    "dones = torch.zeros(10)\n",
    "dones"
   ]
  },
  {
   "cell_type": "code",
   "execution_count": 79,
   "metadata": {},
   "outputs": [
    {
     "data": {
      "text/plain": [
       "tensor([0., 1., 1., 1., 1., 1., 1., 1., 1., 1.])"
      ]
     },
     "execution_count": 79,
     "metadata": {},
     "output_type": "execute_result"
    }
   ],
   "source": [
    "dones[1:] = 1\n",
    "dones"
   ]
  },
  {
   "cell_type": "code",
   "execution_count": 80,
   "metadata": {},
   "outputs": [
    {
     "data": {
      "text/plain": [
       "True"
      ]
     },
     "execution_count": 80,
     "metadata": {},
     "output_type": "execute_result"
    }
   ],
   "source": [
    "False in dones"
   ]
  },
  {
   "cell_type": "code",
   "execution_count": 81,
   "metadata": {},
   "outputs": [],
   "source": [
    "dones[0] = 1"
   ]
  },
  {
   "cell_type": "code",
   "execution_count": 82,
   "metadata": {},
   "outputs": [
    {
     "data": {
      "text/plain": [
       "False"
      ]
     },
     "execution_count": 82,
     "metadata": {},
     "output_type": "execute_result"
    }
   ],
   "source": [
    "False in dones"
   ]
  },
  {
   "cell_type": "code",
   "execution_count": 71,
   "metadata": {},
   "outputs": [],
   "source": [
    "# envpool_env = envpool.make(\"HopperHop-v1\", num_envs=1)\n",
    "envs = envpool.make(\n",
    "    \"HopperHop-v1\",\n",
    "    # \"CartpoleBalance-v1\", \n",
    "    env_type=\"gym\",\n",
    "    num_envs=5,\n",
    "    # num_threads=16,\n",
    "    seed=42,\n",
    ")\n",
    "\n",
    "# # if _ is in the original name\n",
    "# suite.load(\"ball_in_cup\", \"catch\")\n",
    "# # equal to\n",
    "# envpool.make_dm(\"BallInCupCatch-v1\", num_envs=1)"
   ]
  },
  {
   "cell_type": "code",
   "execution_count": 72,
   "metadata": {},
   "outputs": [
    {
     "name": "stderr",
     "output_type": "stream",
     "text": [
      "/home/kukjin/.conda/envs/test_env/lib/python3.10/site-packages/gym/spaces/box.py:84: UserWarning: \u001b[33mWARN: Box bound precision lowered by casting to float32\u001b[0m\n",
      "  logger.warn(f\"Box bound precision lowered by casting to {self.dtype}\")\n"
     ]
    }
   ],
   "source": [
    "flatten_envs = FlattenObsWrapper(envs)"
   ]
  },
  {
   "cell_type": "code",
   "execution_count": 73,
   "metadata": {},
   "outputs": [
    {
     "data": {
      "text/plain": [
       "Box(0.0, inf, (15,), float32)"
      ]
     },
     "execution_count": 73,
     "metadata": {},
     "output_type": "execute_result"
    }
   ],
   "source": [
    "flatten_envs.observation_space"
   ]
  },
  {
   "cell_type": "code",
   "execution_count": 74,
   "metadata": {},
   "outputs": [
    {
     "ename": "RecursionError",
     "evalue": "maximum recursion depth exceeded while calling a Python object",
     "output_type": "error",
     "traceback": [
      "\u001b[0;31m---------------------------------------------------------------------------\u001b[0m",
      "\u001b[0;31mRecursionError\u001b[0m                            Traceback (most recent call last)",
      "Cell \u001b[0;32mIn[74], line 1\u001b[0m\n\u001b[0;32m----> 1\u001b[0m obs \u001b[39m=\u001b[39m flatten_envs\u001b[39m.\u001b[39;49mreset()\n",
      "Cell \u001b[0;32mIn[70], line 7\u001b[0m, in \u001b[0;36mFlattenObsWrapper.reset\u001b[0;34m(self, **kwargs)\u001b[0m\n\u001b[1;32m      6\u001b[0m \u001b[39mdef\u001b[39;00m \u001b[39mreset\u001b[39m(\u001b[39mself\u001b[39m, \u001b[39m*\u001b[39m\u001b[39m*\u001b[39mkwargs):\n\u001b[0;32m----> 7\u001b[0m     observations \u001b[39m=\u001b[39m \u001b[39msuper\u001b[39;49m()\u001b[39m.\u001b[39;49mreset(\u001b[39m*\u001b[39;49m\u001b[39m*\u001b[39;49mkwargs)\n\u001b[1;32m      8\u001b[0m     \u001b[39mif\u001b[39;00m \u001b[39misinstance\u001b[39m(\u001b[39mtype\u001b[39m(observations, Dict)):\n\u001b[1;32m      9\u001b[0m         observations \u001b[39m=\u001b[39m  \u001b[39mself\u001b[39m\u001b[39m.\u001b[39mflatten_dict(observations)\n",
      "File \u001b[0;32m~/.conda/envs/test_env/lib/python3.10/site-packages/gym/core.py:283\u001b[0m, in \u001b[0;36mWrapper.reset\u001b[0;34m(self, **kwargs)\u001b[0m\n\u001b[1;32m    282\u001b[0m \u001b[39mdef\u001b[39;00m \u001b[39mreset\u001b[39m(\u001b[39mself\u001b[39m, \u001b[39m*\u001b[39m\u001b[39m*\u001b[39mkwargs) \u001b[39m-\u001b[39m\u001b[39m>\u001b[39m Union[ObsType, \u001b[39mtuple\u001b[39m[ObsType, \u001b[39mdict\u001b[39m]]:\n\u001b[0;32m--> 283\u001b[0m     \u001b[39mreturn\u001b[39;00m \u001b[39mself\u001b[39;49m\u001b[39m.\u001b[39;49menv\u001b[39m.\u001b[39mreset(\u001b[39m*\u001b[39m\u001b[39m*\u001b[39mkwargs)\n",
      "File \u001b[0;32m~/.conda/envs/test_env/lib/python3.10/site-packages/gym/core.py:229\u001b[0m, in \u001b[0;36mWrapper.__getattr__\u001b[0;34m(self, name)\u001b[0m\n\u001b[1;32m    227\u001b[0m \u001b[39mif\u001b[39;00m name\u001b[39m.\u001b[39mstartswith(\u001b[39m\"\u001b[39m\u001b[39m_\u001b[39m\u001b[39m\"\u001b[39m):\n\u001b[1;32m    228\u001b[0m     \u001b[39mraise\u001b[39;00m \u001b[39mAttributeError\u001b[39;00m(\u001b[39mf\u001b[39m\u001b[39m\"\u001b[39m\u001b[39mattempted to get missing private attribute \u001b[39m\u001b[39m'\u001b[39m\u001b[39m{\u001b[39;00mname\u001b[39m}\u001b[39;00m\u001b[39m'\u001b[39m\u001b[39m\"\u001b[39m)\n\u001b[0;32m--> 229\u001b[0m \u001b[39mreturn\u001b[39;00m \u001b[39mgetattr\u001b[39m(\u001b[39mself\u001b[39;49m\u001b[39m.\u001b[39;49menv, name)\n",
      "File \u001b[0;32m~/.conda/envs/test_env/lib/python3.10/site-packages/gym/core.py:229\u001b[0m, in \u001b[0;36mWrapper.__getattr__\u001b[0;34m(self, name)\u001b[0m\n\u001b[1;32m    227\u001b[0m \u001b[39mif\u001b[39;00m name\u001b[39m.\u001b[39mstartswith(\u001b[39m\"\u001b[39m\u001b[39m_\u001b[39m\u001b[39m\"\u001b[39m):\n\u001b[1;32m    228\u001b[0m     \u001b[39mraise\u001b[39;00m \u001b[39mAttributeError\u001b[39;00m(\u001b[39mf\u001b[39m\u001b[39m\"\u001b[39m\u001b[39mattempted to get missing private attribute \u001b[39m\u001b[39m'\u001b[39m\u001b[39m{\u001b[39;00mname\u001b[39m}\u001b[39;00m\u001b[39m'\u001b[39m\u001b[39m\"\u001b[39m)\n\u001b[0;32m--> 229\u001b[0m \u001b[39mreturn\u001b[39;00m \u001b[39mgetattr\u001b[39m(\u001b[39mself\u001b[39;49m\u001b[39m.\u001b[39;49menv, name)\n",
      "    \u001b[0;31m[... skipping similar frames: Wrapper.__getattr__ at line 229 (2967 times)]\u001b[0m\n",
      "File \u001b[0;32m~/.conda/envs/test_env/lib/python3.10/site-packages/gym/core.py:229\u001b[0m, in \u001b[0;36mWrapper.__getattr__\u001b[0;34m(self, name)\u001b[0m\n\u001b[1;32m    227\u001b[0m \u001b[39mif\u001b[39;00m name\u001b[39m.\u001b[39mstartswith(\u001b[39m\"\u001b[39m\u001b[39m_\u001b[39m\u001b[39m\"\u001b[39m):\n\u001b[1;32m    228\u001b[0m     \u001b[39mraise\u001b[39;00m \u001b[39mAttributeError\u001b[39;00m(\u001b[39mf\u001b[39m\u001b[39m\"\u001b[39m\u001b[39mattempted to get missing private attribute \u001b[39m\u001b[39m'\u001b[39m\u001b[39m{\u001b[39;00mname\u001b[39m}\u001b[39;00m\u001b[39m'\u001b[39m\u001b[39m\"\u001b[39m)\n\u001b[0;32m--> 229\u001b[0m \u001b[39mreturn\u001b[39;00m \u001b[39mgetattr\u001b[39m(\u001b[39mself\u001b[39;49m\u001b[39m.\u001b[39;49menv, name)\n",
      "File \u001b[0;32m~/.conda/envs/test_env/lib/python3.10/site-packages/gym/core.py:227\u001b[0m, in \u001b[0;36mWrapper.__getattr__\u001b[0;34m(self, name)\u001b[0m\n\u001b[1;32m    226\u001b[0m \u001b[39mdef\u001b[39;00m \u001b[39m__getattr__\u001b[39m(\u001b[39mself\u001b[39m, name):\n\u001b[0;32m--> 227\u001b[0m     \u001b[39mif\u001b[39;00m name\u001b[39m.\u001b[39;49mstartswith(\u001b[39m\"\u001b[39;49m\u001b[39m_\u001b[39;49m\u001b[39m\"\u001b[39;49m):\n\u001b[1;32m    228\u001b[0m         \u001b[39mraise\u001b[39;00m \u001b[39mAttributeError\u001b[39;00m(\u001b[39mf\u001b[39m\u001b[39m\"\u001b[39m\u001b[39mattempted to get missing private attribute \u001b[39m\u001b[39m'\u001b[39m\u001b[39m{\u001b[39;00mname\u001b[39m}\u001b[39;00m\u001b[39m'\u001b[39m\u001b[39m\"\u001b[39m)\n\u001b[1;32m    229\u001b[0m     \u001b[39mreturn\u001b[39;00m \u001b[39mgetattr\u001b[39m(\u001b[39mself\u001b[39m\u001b[39m.\u001b[39menv, name)\n",
      "\u001b[0;31mRecursionError\u001b[0m: maximum recursion depth exceeded while calling a Python object"
     ]
    }
   ],
   "source": [
    "obs = flatten_envs.reset()"
   ]
  },
  {
   "cell_type": "markdown",
   "metadata": {},
   "source": []
  },
  {
   "cell_type": "code",
   "execution_count": 16,
   "metadata": {},
   "outputs": [
    {
     "data": {
      "text/plain": [
       "Dict(position:Box(2.2250738585072014e-308, 1.7976931348623157e+308, (6,), float64), velocity:Box(2.2250738585072014e-308, 1.7976931348623157e+308, (7,), float64), touch:Box(2.2250738585072014e-308, 1.7976931348623157e+308, (2,), float64))"
      ]
     },
     "execution_count": 16,
     "metadata": {},
     "output_type": "execute_result"
    }
   ],
   "source": [
    "envs.observation_space"
   ]
  },
  {
   "cell_type": "code",
   "execution_count": 6,
   "metadata": {},
   "outputs": [
    {
     "data": {
      "text/plain": [
       "(6,)"
      ]
     },
     "execution_count": 6,
     "metadata": {},
     "output_type": "execute_result"
    }
   ],
   "source": [
    "envs.observation_space[\"position\"].shape"
   ]
  },
  {
   "cell_type": "code",
   "execution_count": 17,
   "metadata": {},
   "outputs": [
    {
     "name": "stdout",
     "output_type": "stream",
     "text": [
      "Box(2.2250738585072014e-308, 1.7976931348623157e+308, (6,), float64)\n",
      "[1.79769313e+308 1.79769313e+308 1.79769313e+308 1.79769313e+308\n",
      " 1.79769313e+308 1.79769313e+308]\n",
      "[2.22507386e-308 2.22507386e-308 2.22507386e-308 2.22507386e-308\n",
      " 2.22507386e-308 2.22507386e-308]\n",
      "Box(2.2250738585072014e-308, 1.7976931348623157e+308, (7,), float64)\n",
      "[1.79769313e+308 1.79769313e+308 1.79769313e+308 1.79769313e+308\n",
      " 1.79769313e+308 1.79769313e+308 1.79769313e+308]\n",
      "[2.22507386e-308 2.22507386e-308 2.22507386e-308 2.22507386e-308\n",
      " 2.22507386e-308 2.22507386e-308 2.22507386e-308]\n",
      "Box(2.2250738585072014e-308, 1.7976931348623157e+308, (2,), float64)\n",
      "[1.79769313e+308 1.79769313e+308]\n",
      "[2.22507386e-308 2.22507386e-308]\n"
     ]
    }
   ],
   "source": [
    "for key, value in envs.observation_space.items():\n",
    "    print(value)\n",
    "    print(value.high)\n",
    "    print(value.low)\n",
    "    "
   ]
  },
  {
   "cell_type": "code",
   "execution_count": 8,
   "metadata": {},
   "outputs": [
    {
     "data": {
      "text/plain": [
       "0.0"
      ]
     },
     "execution_count": 8,
     "metadata": {},
     "output_type": "execute_result"
    }
   ],
   "source": [
    "np.sum([])"
   ]
  },
  {
   "cell_type": "code",
   "execution_count": 18,
   "metadata": {},
   "outputs": [],
   "source": []
  },
  {
   "cell_type": "code",
   "execution_count": 53,
   "metadata": {},
   "outputs": [],
   "source": [
    "def get_obs_space(observation_space):\n",
    "    shapes = []\n",
    "    highs = []\n",
    "    lows = []\n",
    "    \n",
    "    for key, box in observation_space.items():\n",
    "        shapes.append(box.shape)\n",
    "        highs.append(box.high)\n",
    "        lows.append(box.low)\n",
    "    size = (np.sum(shapes, dtype=np.int32))\n",
    "    highs = np.concatenate(highs, axis=-1)\n",
    "    lows = np.concatenate(lows, axis=-1)        \n",
    "            \n",
    "    return size, highs, lows"
   ]
  },
  {
   "cell_type": "code",
   "execution_count": 54,
   "metadata": {},
   "outputs": [],
   "source": [
    "size, highs, lows = get_obs_space(envs.observation_space)"
   ]
  },
  {
   "cell_type": "code",
   "execution_count": 62,
   "metadata": {},
   "outputs": [
    {
     "data": {
      "text/plain": [
       "array([2.22507386e-308, 2.22507386e-308, 2.22507386e-308, 2.22507386e-308,\n",
       "       2.22507386e-308, 2.22507386e-308, 2.22507386e-308, 2.22507386e-308,\n",
       "       2.22507386e-308, 2.22507386e-308, 2.22507386e-308, 2.22507386e-308,\n",
       "       2.22507386e-308, 2.22507386e-308, 2.22507386e-308])"
      ]
     },
     "execution_count": 62,
     "metadata": {},
     "output_type": "execute_result"
    }
   ],
   "source": [
    "lows"
   ]
  },
  {
   "cell_type": "code",
   "execution_count": 58,
   "metadata": {},
   "outputs": [
    {
     "data": {
      "text/plain": [
       "15"
      ]
     },
     "execution_count": 58,
     "metadata": {},
     "output_type": "execute_result"
    }
   ],
   "source": [
    "size"
   ]
  },
  {
   "cell_type": "code",
   "execution_count": 56,
   "metadata": {},
   "outputs": [
    {
     "data": {
      "text/plain": [
       "array([1.79769313e+308, 1.79769313e+308, 1.79769313e+308, 1.79769313e+308,\n",
       "       1.79769313e+308, 1.79769313e+308, 1.79769313e+308, 1.79769313e+308,\n",
       "       1.79769313e+308, 1.79769313e+308, 1.79769313e+308, 1.79769313e+308,\n",
       "       1.79769313e+308, 1.79769313e+308, 1.79769313e+308])"
      ]
     },
     "execution_count": 56,
     "metadata": {},
     "output_type": "execute_result"
    }
   ],
   "source": [
    "highs"
   ]
  },
  {
   "cell_type": "code",
   "execution_count": 63,
   "metadata": {},
   "outputs": [
    {
     "name": "stderr",
     "output_type": "stream",
     "text": [
      "/home/kukjin/.conda/envs/test_env/lib/python3.10/site-packages/gym/spaces/box.py:84: UserWarning: \u001b[33mWARN: Box bound precision lowered by casting to float32\u001b[0m\n",
      "  logger.warn(f\"Box bound precision lowered by casting to {self.dtype}\")\n"
     ]
    }
   ],
   "source": [
    "a = Box(low=lows, high=highs)"
   ]
  },
  {
   "cell_type": "code",
   "execution_count": 64,
   "metadata": {},
   "outputs": [
    {
     "data": {
      "text/plain": [
       "array([0., 0., 0., 0., 0., 0., 0., 0., 0., 0., 0., 0., 0., 0., 0.],\n",
       "      dtype=float32)"
      ]
     },
     "execution_count": 64,
     "metadata": {},
     "output_type": "execute_result"
    }
   ],
   "source": [
    "a.low"
   ]
  },
  {
   "cell_type": "code",
   "execution_count": 72,
   "metadata": {},
   "outputs": [],
   "source": [
    "tuples = get_obs_space(envs.observation_space)"
   ]
  },
  {
   "cell_type": "code",
   "execution_count": 73,
   "metadata": {},
   "outputs": [],
   "source": [
    "total_tuple = ()\n",
    "for tuple_ in tuples:\n",
    "    total_tuple += tuple_"
   ]
  },
  {
   "cell_type": "code",
   "execution_count": 74,
   "metadata": {},
   "outputs": [
    {
     "data": {
      "text/plain": [
       "(6, 7, 2)"
      ]
     },
     "execution_count": 74,
     "metadata": {},
     "output_type": "execute_result"
    }
   ],
   "source": [
    "total_tuple"
   ]
  },
  {
   "cell_type": "code",
   "execution_count": 62,
   "metadata": {},
   "outputs": [
    {
     "ename": "TypeError",
     "evalue": "Box.__init__() missing 1 required positional argument: 'high'",
     "output_type": "error",
     "traceback": [
      "\u001b[0;31m---------------------------------------------------------------------------\u001b[0m",
      "\u001b[0;31mTypeError\u001b[0m                                 Traceback (most recent call last)",
      "Cell \u001b[0;32mIn[62], line 1\u001b[0m\n\u001b[0;32m----> 1\u001b[0m Box(\u001b[39m15\u001b[39;49m)\n",
      "\u001b[0;31mTypeError\u001b[0m: Box.__init__() missing 1 required positional argument: 'high'"
     ]
    }
   ],
   "source": [
    "Box(15)"
   ]
  },
  {
   "cell_type": "code",
   "execution_count": 51,
   "metadata": {},
   "outputs": [
    {
     "data": {
      "text/plain": [
       "Box(-1.0, 1.0, (4,), float64)"
      ]
     },
     "execution_count": 51,
     "metadata": {},
     "output_type": "execute_result"
    }
   ],
   "source": [
    "envs.action_space"
   ]
  },
  {
   "cell_type": "code",
   "execution_count": 47,
   "metadata": {},
   "outputs": [],
   "source": [
    "def flatten_dict(obs):\n",
    "    features = []\n",
    "    for key, values in obs.items():\n",
    "        features.append(values)\n",
    "    return np.concatenate(features, axis=-1)"
   ]
  },
  {
   "cell_type": "code",
   "execution_count": 48,
   "metadata": {},
   "outputs": [],
   "source": [
    "flatten = flatten_dict(obs)"
   ]
  },
  {
   "cell_type": "code",
   "execution_count": 49,
   "metadata": {},
   "outputs": [
    {
     "data": {
      "text/plain": [
       "(5, 15)"
      ]
     },
     "execution_count": 49,
     "metadata": {},
     "output_type": "execute_result"
    }
   ],
   "source": [
    "flatten.shape"
   ]
  },
  {
   "cell_type": "code",
   "execution_count": 39,
   "metadata": {},
   "outputs": [
    {
     "data": {
      "text/plain": [
       "{'position': array([[ 0.        ,  1.86323452, -0.33150631, -0.51758822,  1.59773153,\n",
       "         -0.08508571],\n",
       "        [ 0.        , -0.01972107, -0.41582669, -2.49967641,  0.52288706,\n",
       "          0.48857482],\n",
       "        [ 0.        , -0.42385296, -0.49032428, -0.9946092 ,  0.55397992,\n",
       "         -0.31985195],\n",
       "        [ 0.        , -1.22813377,  0.17957309, -1.6471557 ,  2.50981144,\n",
       "          0.65131587],\n",
       "        [ 0.        , -1.52023665,  0.19291191, -0.08515145,  0.60589868,\n",
       "          0.76919748]]),\n",
       " 'velocity': array([[0., 0., 0., 0., 0., 0., 0.],\n",
       "        [0., 0., 0., 0., 0., 0., 0.],\n",
       "        [0., 0., 0., 0., 0., 0., 0.],\n",
       "        [0., 0., 0., 0., 0., 0., 0.],\n",
       "        [0., 0., 0., 0., 0., 0., 0.]]),\n",
       " 'touch': array([[0., 0.],\n",
       "        [0., 0.],\n",
       "        [0., 0.],\n",
       "        [0., 0.],\n",
       "        [0., 0.]])}"
      ]
     },
     "execution_count": 39,
     "metadata": {},
     "output_type": "execute_result"
    }
   ],
   "source": [
    "obs = envs.reset()\n",
    "obs"
   ]
  },
  {
   "cell_type": "code",
   "execution_count": 40,
   "metadata": {},
   "outputs": [
    {
     "name": "stdout",
     "output_type": "stream",
     "text": [
      "(5, 6)\n",
      "(5, 7)\n",
      "(5, 2)\n"
     ]
    }
   ],
   "source": [
    "for key, values in obs.items():\n",
    "    print(values.shape)\n"
   ]
  },
  {
   "cell_type": "code",
   "execution_count": 36,
   "metadata": {},
   "outputs": [
    {
     "data": {
      "text/plain": [
       "{'position': array([[ 0.        ,  1.86323452, -0.33150631, -0.51758822,  1.59773153,\n",
       "         -0.08508571],\n",
       "        [ 0.        , -0.01972107, -0.41582669, -2.49967641,  0.52288706,\n",
       "          0.48857482]]),\n",
       " 'velocity': array([[0., 0., 0., 0., 0., 0., 0.],\n",
       "        [0., 0., 0., 0., 0., 0., 0.]]),\n",
       " 'touch': array([[0., 0.],\n",
       "        [0., 0.]])}"
      ]
     },
     "execution_count": 36,
     "metadata": {},
     "output_type": "execute_result"
    }
   ],
   "source": [
    "obs = envs.reset()\n",
    "obs"
   ]
  },
  {
   "cell_type": "code",
   "execution_count": 25,
   "metadata": {},
   "outputs": [
    {
     "ename": "AttributeError",
     "evalue": "'dict' object has no attribute 'joint_angles'",
     "output_type": "error",
     "traceback": [
      "\u001b[0;31m---------------------------------------------------------------------------\u001b[0m",
      "\u001b[0;31mAttributeError\u001b[0m                            Traceback (most recent call last)",
      "Cell \u001b[0;32mIn[25], line 1\u001b[0m\n\u001b[0;32m----> 1\u001b[0m obs\u001b[39m.\u001b[39;49mjoint_angles\n",
      "\u001b[0;31mAttributeError\u001b[0m: 'dict' object has no attribute 'joint_angles'"
     ]
    }
   ],
   "source": [
    "obs.joint_angles"
   ]
  },
  {
   "cell_type": "code",
   "execution_count": 23,
   "metadata": {},
   "outputs": [],
   "source": [
    "from torchvision.transforms.functional import to_tensor"
   ]
  },
  {
   "cell_type": "code",
   "execution_count": 24,
   "metadata": {},
   "outputs": [
    {
     "ename": "TypeError",
     "evalue": "pic should be PIL Image or ndarray. Got <class 'dict'>",
     "output_type": "error",
     "traceback": [
      "\u001b[0;31m---------------------------------------------------------------------------\u001b[0m",
      "\u001b[0;31mTypeError\u001b[0m                                 Traceback (most recent call last)",
      "Cell \u001b[0;32mIn[24], line 1\u001b[0m\n\u001b[0;32m----> 1\u001b[0m obs \u001b[39m=\u001b[39m to_tensor(obs)\n",
      "File \u001b[0;32m~/.conda/envs/test_env/lib/python3.10/site-packages/torchvision/transforms/functional.py:137\u001b[0m, in \u001b[0;36mto_tensor\u001b[0;34m(pic)\u001b[0m\n\u001b[1;32m    135\u001b[0m     _log_api_usage_once(to_tensor)\n\u001b[1;32m    136\u001b[0m \u001b[39mif\u001b[39;00m \u001b[39mnot\u001b[39;00m (F_pil\u001b[39m.\u001b[39m_is_pil_image(pic) \u001b[39mor\u001b[39;00m _is_numpy(pic)):\n\u001b[0;32m--> 137\u001b[0m     \u001b[39mraise\u001b[39;00m \u001b[39mTypeError\u001b[39;00m(\u001b[39mf\u001b[39m\u001b[39m\"\u001b[39m\u001b[39mpic should be PIL Image or ndarray. Got \u001b[39m\u001b[39m{\u001b[39;00m\u001b[39mtype\u001b[39m(pic)\u001b[39m}\u001b[39;00m\u001b[39m\"\u001b[39m)\n\u001b[1;32m    139\u001b[0m \u001b[39mif\u001b[39;00m _is_numpy(pic) \u001b[39mand\u001b[39;00m \u001b[39mnot\u001b[39;00m _is_numpy_image(pic):\n\u001b[1;32m    140\u001b[0m     \u001b[39mraise\u001b[39;00m \u001b[39mValueError\u001b[39;00m(\u001b[39mf\u001b[39m\u001b[39m\"\u001b[39m\u001b[39mpic should be 2/3 dimensional. Got \u001b[39m\u001b[39m{\u001b[39;00mpic\u001b[39m.\u001b[39mndim\u001b[39m}\u001b[39;00m\u001b[39m dimensions.\u001b[39m\u001b[39m\"\u001b[39m)\n",
      "\u001b[0;31mTypeError\u001b[0m: pic should be PIL Image or ndarray. Got <class 'dict'>"
     ]
    }
   ],
   "source": [
    "obs = to_tensor(obs)"
   ]
  },
  {
   "cell_type": "code",
   "execution_count": 21,
   "metadata": {},
   "outputs": [
    {
     "data": {
      "text/plain": [
       "dict"
      ]
     },
     "execution_count": 21,
     "metadata": {},
     "output_type": "execute_result"
    }
   ],
   "source": [
    "type(obs)"
   ]
  },
  {
   "cell_type": "code",
   "execution_count": 18,
   "metadata": {},
   "outputs": [
    {
     "name": "stdout",
     "output_type": "stream",
     "text": [
      "{'position': array([[ 0.        ,  1.86323452, -0.33150631, -0.51758822,  1.59773153,\n",
      "        -0.08508571]]), 'velocity': array([[0., 0., 0., 0., 0., 0., 0.]]), 'touch': array([[0., 0.]])}\n"
     ]
    }
   ],
   "source": [
    "def flatten_dict(obs_dict, parent_key='', sep='/'):\n",
    "    flattened_dict = {}\n",
    "    for key, value in obs_dict.items():\n",
    "        new_key = f\"{parent_key}{sep}{key}\" if parent_key else key\n",
    "        if isinstance(value, dict):\n",
    "            flattened_dict.update(flatten_dict(value, new_key, sep=sep))\n",
    "        else:\n",
    "            flattened_dict[new_key] = value\n",
    "    return flattened_dict\n",
    "\n",
    "# Example usage:\n",
    "# observation_dict = {\n",
    "#     'player': {\n",
    "#         'position': [1, 2, 3],\n",
    "#         'velocity': [0.5, 0.1, -0.3]\n",
    "#     },\n",
    "#     'world': {\n",
    "#         'time': 100,\n",
    "#         'score': 50\n",
    "#     }\n",
    "# }\n",
    "\n",
    "flattened_dict = flatten_dict(obs)\n",
    "print(flattened_dict)"
   ]
  }
 ],
 "metadata": {
  "kernelspec": {
   "display_name": "darl2",
   "language": "python",
   "name": "python3"
  },
  "language_info": {
   "codemirror_mode": {
    "name": "ipython",
    "version": 3
   },
   "file_extension": ".py",
   "mimetype": "text/x-python",
   "name": "python",
   "nbconvert_exporter": "python",
   "pygments_lexer": "ipython3",
   "version": "3.9.17"
  },
  "orig_nbformat": 4,
  "vscode": {
   "interpreter": {
    "hash": "3d0f7c561fd4fddb74f77a98fc61421c3dd937e1d9d3174b2ba2cda973dab991"
   }
  }
 },
 "nbformat": 4,
 "nbformat_minor": 2
}
