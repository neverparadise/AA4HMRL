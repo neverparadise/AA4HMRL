{
 "cells": [
  {
   "cell_type": "code",
   "execution_count": 6,
   "metadata": {},
   "outputs": [],
   "source": [
    "import torch\n",
    "from tensordict.tensordict import TensorDict\n",
    "from collections import defaultdict\n",
    "from functools import partial\n",
    "from pathlib import Path\n",
    "import shutil\n",
    "import sys\n",
    "import time\n",
    "from typing import Any, Dict, Optional, Tuple, OrderedDict\n",
    "import random\n",
    "import hydra\n",
    "from hydra.utils import instantiate\n",
    "from hydra.utils import get_original_cwd, to_absolute_path\n",
    "from omegaconf import DictConfig, OmegaConf, open_dict\n",
    "from torch.utils.tensorboard import SummaryWriter\n",
    "from collections import deque\n",
    "from tqdm import tqdm\n",
    "import wandb\n",
    "import ray\n",
    "\n",
    "import envpool\n",
    "# import gymnasium as gym\n",
    "import gym\n",
    "from gym.spaces import Box, Discrete\n",
    "from gym.spaces.dict import Dict as GymDict\n",
    "import numpy as np\n",
    "import torch\n",
    "import torch.nn as nn\n",
    "import torch.optim as optim\n",
    "import torch.func\n",
    "from modules.agent import Agent\n",
    "from modules.utils import set_seed, make_batched_env\n",
    "                            "
   ]
  },
  {
   "cell_type": "code",
   "execution_count": 7,
   "metadata": {},
   "outputs": [
    {
     "data": {
      "text/plain": [
       "{'defaults': [{'ppo': 'ppo'}, {'nn': 'nn'}, {'ccnn_img': 'ccnn_img'}, {'ccnn_seq': 'ccnn_seq'}, '_self_'], 'hydra': {'run': {'dir': 'outputs/${now:%Y-%m-%d/%H-%M-%S}'}}, 'experiment': {'seed': 42, 'max_episode_steps': 1000, 'num_rollout_steps': 2048, 'num_envs': 32, 'total_timesteps': 10000000, 'save_ckpt': False, 'num_checkpoints': 20, 'print_interval': 100, 'stop_after_epochs': 500, 'capture_video': False, 'device': 4, 'cuda': True, 'torch_deterministic': True, 'resume': False, 'resume_update_idx': 0, 'resume_dir': 'None', 'env_ids': ['CartPole-v1', 'Pendulum-v1', 'Acrobot-v1', 'BipedalWalker-v3', 'LunarLander-v2', 'HalfCheetah-v4', 'Ant-v4', 'Hopper-v4', 'Walker2d-v4']}, 'evaluation': {'eval_seed': 3142, 'every': 2, 'num_eval': 5, 'num_test_envs': 5}, 'wandb': {'mode': 'online', 'project': 'DomainAgnosticRL', 'entity': None, 'name': None, 'group': None, 'tags': None, 'notes': None}, 'paths': {'dir': 'outputs/${now:%Y-%m-%d/%H-%M-%S}', 'log': 'outputs/${now:%Y-%m-%d/%H-%M-%S}/runs', 'video': 'outputs/${now:%Y-%m-%d/%H-%M-%S}/videos', 'checkpoints': 'outputs/${now:%Y-%m-%d/%H-%M-%S}/checkpoints', 'src': 'outputs/${now:%Y-%m-%d/%H-%M-%S}/src', 'scripts': 'outputs/${now:%Y-%m-%d/%H-%M-%S}/scripts'}, 'nn': {'actor_critic': {'use_mlp': True, 'use_transformer': True, 'encoder_net_1d': 'rnn', 'encoder_net_2d': 'cnn', 'decoder_net': 'rnn', 'd_model': 256, 'activation': 'tanh', 'optimizer': 'adam', 'gradient_visualization': True, 'input_to_hidden': 'pooling', 'hidden_to_output': 'bmm', 'multivariate_normal': False}, 'mlp': {'depth': 2, 'hidden_dim': 256, 'expansion_factor': 128, 'dropout': 0.0, 'activation': 'gelu'}, 'transformer': {'dropout': 0.0, 'dim_feedforward': 256, 'num_heads': 1, 'num_encoder_layers': 2, 'activation': 'gelu'}, 'cnn': {'kernel_size': 3, 'stride': 1, 'num_layers': 5, 'mid_channels': 64}, 'rnn': {'final_activation': 'identity', 'num_layers': 2, 'bias': True}, 's4': {'d_state': 128, 'lr': 0.0001, 'num_layers': 3, 'dropout': 0.2, 'final_activation': 'identity', 'initializer': 'uniform'}, 'weight_decay': {'actor': 0.0, 'critic': 0.0}}, 'ppo': {'actor_encoder_lr': 0.0001, 'actor_decoder_lr': 0.0001, 'critic_encoder_lr': 0.0005, 'critic_decoder_lr': 0.0005, 'actor_encoder_weight_decay': 0.0, 'critic_encoder_weight_decay': 0.0, 'actor_decoder_weight_decay': 0.0, 'critic_decoder_weight_decay': 0.0, 'anneal_lr': False, 'update_epochs': 10, 'num_minibatches': 16, 'batch_size': 'None', 'minibatch_size': 'None', 'use_grad_clip': True, 'max_grad_norm': 0.5, 'norm_adv': True, 'norm_return': False, 'const_coef': 0.0, 'clip_coef': 0.2, 'clip_vloss': True, 'ent_coef': 0.0, 'vf_coef': 0.5, 'gamma': 0.99, 'gae_lambda': 0.95}, 'ccnn_seq': {'net': {'type': 'ResNet', 'no_hidden': 64, 'no_blocks': 2, 'no_stages': -1, 'data_dim': 2, 'dropout': 0.1, 'dropout_in': 0.0, 'dropout_type': 'Dropout2d', 'norm': 'BatchNorm', 'nonlinearity': 'GELU', 'block_width_factors': [0.0], 'block': {'type': 'S4', 'prenorm': True}, 'prenorm': True, 'downsampling': [], 'downsampling_size': -1}, 'kernel': {'type': 'MAGNet', 'bias': True, 'no_hidden': 64, 'no_layers': 2, 'omega_0': 2085.433586112234, 'input_scale': 0.0, 'size': 33, 'chang_initialize': True, 'norm': 'Identity', 'nonlinearity': 'Identity', 'init_spatial_value': 1.0, 'num_edges': -1, 'bottleneck_factor': -1}, 'mask': {'type': 'gaussian', 'init_value': 0.75, 'threshold': 0.1, 'temperature': 0, 'dynamic_cropping': True, 'learn_mean': False}, 'conv': {'bias': True, 'causal': False, 'type': 'SeparableFlexConv', 'use_fft': False, 'padding': 'same', 'stride': 1, 'cache': False}}, 'ccnn_img': {'net': {'type': 'ResNet', 'no_hidden': 32, 'no_blocks': 2, 'no_stages': -1, 'data_dim': 1, 'dropout': 0.1, 'dropout_in': 0.0, 'dropout_type': 'Dropout1d', 'norm': 'BatchNorm', 'nonlinearity': 'GELU', 'block_width_factors': [0.0], 'block': {'type': 'S4', 'prenorm': True}, 'prenorm': True, 'downsampling': [], 'downsampling_size': -1}, 'kernel': {'type': 'MAGNet', 'bias': True, 'no_hidden': 32, 'no_layers': 2, 'omega_0': 976.781, 'input_scale': 0.0, 'size': 33, 'chang_initialize': True, 'norm': 'Identity', 'nonlinearity': 'Identity', 'init_spatial_value': 1.0, 'num_edges': -1, 'bottleneck_factor': -1}, 'mask': {'type': 'gaussian', 'init_value': 0.075, 'threshold': 0.1, 'temperature': 0, 'dynamic_cropping': True, 'learn_mean': False}, 'conv': {'bias': True, 'causal': True, 'type': 'SeparableFlexConv', 'use_fft': True, 'padding': 'same', 'stride': 1, 'cache': False}}}"
      ]
     },
     "execution_count": 7,
     "metadata": {},
     "output_type": "execute_result"
    }
   ],
   "source": [
    "from omegaconf import OmegaConf\n",
    "\n",
    "cfg_path = \"/home/kukjin/Projects/DARL_transformer/configs/ppo_trainer.yaml\"\n",
    "nn_cfg_path = \"/home/kukjin/Projects/DARL_transformer/configs/nn/nn.yaml\"\n",
    "ppo_cfg_path = \"/home/kukjin/Projects/DARL_transformer/configs/ppo/ppo.yaml\"\n",
    "ccnn_cfg_img_path = \"/home/kukjin/Projects/DARL_transformer/configs/ccnn_img/ccnn_img.yaml\"\n",
    "ccnn_cfg_seq_path = \"/home/kukjin/Projects/DARL_transformer/configs/ccnn_seq/ccnn_seq.yaml\"\n",
    "\n",
    "cfg = OmegaConf.load(cfg_path)\n",
    "nn_cfg = OmegaConf.load(nn_cfg_path)\n",
    "ppo_cfg = OmegaConf.load(ppo_cfg_path)\n",
    "ccnn_seq_cfg = OmegaConf.load(ccnn_cfg_img_path)\n",
    "ccnn_img_cfg = OmegaConf.load(ccnn_cfg_seq_path)\n",
    "\n",
    "cfg.nn = nn_cfg\n",
    "cfg.ppo = ppo_cfg\n",
    "cfg.ccnn_seq = ccnn_seq_cfg\n",
    "cfg.ccnn_img = ccnn_img_cfg\n",
    "\n",
    "cfg"
   ]
  },
  {
   "cell_type": "code",
   "execution_count": 8,
   "metadata": {},
   "outputs": [
    {
     "name": "stdout",
     "output_type": "stream",
     "text": [
      "15\n",
      "6\n",
      "4\n",
      "15\n",
      "6\n",
      "4\n"
     ]
    }
   ],
   "source": [
    "agent = Agent(cfg)"
   ]
  },
  {
   "cell_type": "code",
   "execution_count": null,
   "metadata": {},
   "outputs": [],
   "source": [
    "def load_checkpoint(self) -> None:\n",
    "    exp_cfg = self.cfg.experiment\n",
    "    ckpt_str = exp_cfg.resume_dir + '/checkpoints/' + str(exp_cfg.resume_update_idx)\n",
    "    ckpt_dir = Path(ckpt_str)\n",
    "    self.start_update_idx = torch.load(ckpt_dir / 'epoch.pt') + 1\n",
    "    agent_state_dict = torch.load(ckpt_dir / 'agent.pt', map_location=self.device)\n",
    "    self.agent.load_state_dict(agent_state_dict['agent'])\n",
    "    # ckpt_opt = torch.load(ckpt_dir / 'optimizer.pt', map_location=self.device)\n",
    "    # self.agent_optimizer.load_state_dict(ckpt_opt['agent_optimizer'])\n",
    "    # logger.info(f'Successfully loaded models, optimizers from {ckpt_dir}.')\n",
    "    "
   ]
  },
  {
   "cell_type": "code",
   "execution_count": null,
   "metadata": {},
   "outputs": [],
   "source": [
    "device = 'cuda:4'"
   ]
  },
  {
   "cell_type": "code",
   "execution_count": 12,
   "metadata": {},
   "outputs": [
    {
     "data": {
      "text/plain": [
       "<All keys matched successfully>"
      ]
     },
     "execution_count": 12,
     "metadata": {},
     "output_type": "execute_result"
    }
   ],
   "source": [
    "ckpt_dir = \"/home/kukjin/Projects/DARL_transformer/outputs/2023-08-23/21-32-11/checkpoints/152/agent.pt\"\n",
    "agent_state_dict = torch.load(ckpt_dir, map_location=device)\n",
    "agent.load_state_dict(agent_state_dict['agent'])"
   ]
  },
  {
   "cell_type": "code",
   "execution_count": 13,
   "metadata": {},
   "outputs": [
    {
     "name": "stdout",
     "output_type": "stream",
     "text": [
      "Train env 1: CartPole-v1 is loaded\n",
      "1/9environment CartPole-v1 is loaded...\n",
      "Train env 2: Pendulum-v1 is loaded\n",
      "2/9environment Pendulum-v1 is loaded...\n",
      "Train env 3: Acrobot-v1 is loaded\n",
      "3/9environment Acrobot-v1 is loaded...\n",
      "Train env 4: BipedalWalker-v3 is loaded\n",
      "4/9environment BipedalWalker-v3 is loaded...\n",
      "Train env 5: LunarLander-v2 is loaded\n",
      "5/9environment LunarLander-v2 is loaded...\n"
     ]
    },
    {
     "name": "stderr",
     "output_type": "stream",
     "text": [
      "/mnt/harddisk1/anaconda3/envs/darl2/lib/python3.9/site-packages/gym/core.py:329: DeprecationWarning: \u001b[33mWARN: Initializing wrapper in old step API which returns one bool instead of two. It is recommended to set `new_step_api=True` to use new step API. This will be the default behaviour in future.\u001b[0m\n",
      "  deprecation(\n",
      "/mnt/harddisk1/anaconda3/envs/darl2/lib/python3.9/site-packages/gym/spaces/box.py:128: UserWarning: \u001b[33mWARN: Box bound precision lowered by casting to float32\u001b[0m\n",
      "  logger.warn(f\"Box bound precision lowered by casting to {self.dtype}\")\n"
     ]
    },
    {
     "name": "stdout",
     "output_type": "stream",
     "text": [
      "Train env 6: HalfCheetah-v4 is loaded\n",
      "6/9environment HalfCheetah-v4 is loaded...\n",
      "Train env 7: Ant-v4 is loaded\n",
      "7/9environment Ant-v4 is loaded...\n",
      "Train env 8: Hopper-v4 is loaded\n",
      "8/9environment Hopper-v4 is loaded...\n",
      "Train env 9: Walker2d-v4 is loaded\n",
      "9/9environment Walker2d-v4 is loaded...\n"
     ]
    }
   ],
   "source": [
    "env_ids = ['CartPole-v1',\n",
    " 'Pendulum-v1',\n",
    " 'Acrobot-v1',\n",
    "  'BipedalWalker-v3',\n",
    " 'LunarLander-v2',\n",
    "  'HalfCheetah-v4',\n",
    "  'Ant-v4',\n",
    " 'Hopper-v4',\n",
    "  'Walker2d-v4',]\n",
    "train_different_envs = []\n",
    "for j, env_id in enumerate(env_ids):\n",
    "    train_envs = make_batched_env(j, env_id, cfg, mode='train')\n",
    "    train_different_envs.append(train_envs)\n",
    "    print(f\"{j+1}/{len(env_ids)}environment {env_id} is loaded...\")\n"
   ]
  },
  {
   "cell_type": "code",
   "execution_count": 26,
   "metadata": {},
   "outputs": [],
   "source": [
    "envs_storages = TensorDict({}, batch_size=[2048, 32])\n",
    "for i, envs in enumerate(train_different_envs):\n",
    "    env_id = env_ids[i]\n",
    "    obs = torch.zeros((2048, 32) \\\n",
    "        + envs.single_observation_space.shape).to(device)\n",
    "    actions = torch.zeros((2048, 32) \\\n",
    "        + envs.single_action_space.shape).to(device)\n",
    "    logprobs = torch.zeros((2048, 32)).to(device)\n",
    "    rewards = torch.zeros((2048, 32)).to(device)\n",
    "    dones = torch.zeros((2048, 32)).to(device)\n",
    "    values = torch.zeros((2048, 32)).to(device)\n",
    "    storage = TensorDict({\n",
    "                \"obs\": obs,\n",
    "                \"actions\": actions,\n",
    "                \"logprobs\": logprobs,\n",
    "                \"rewards\": rewards,\n",
    "                \"dones\": dones,\n",
    "                \"values\": values\n",
    "                }, batch_size=[2048, 32])\n",
    "    envs_storages[env_id] = storage"
   ]
  },
  {
   "cell_type": "code",
   "execution_count": 27,
   "metadata": {},
   "outputs": [],
   "source": [
    "next_obs_dict = TensorDict({}, batch_size=cfg.experiment.num_envs)\n",
    "next_done_dict = TensorDict({}, batch_size=cfg.experiment.num_envs)\n",
    "for i, envs in enumerate(train_different_envs):\n",
    "    env_id = env_ids[i]\n",
    "    next_obs = envs.reset()\n",
    "    next_obs = torch.Tensor(next_obs).to(device)\n",
    "    next_done = torch.zeros(cfg.experiment.num_envs).to(device)\n",
    "    next_obs_dict[env_id] = next_obs\n",
    "    next_done_dict[env_id] = next_done"
   ]
  },
  {
   "cell_type": "code",
   "execution_count": 29,
   "metadata": {},
   "outputs": [],
   "source": [
    "envs_returns = dict()\n",
    "envs_lengths = dict()\n",
    "for i, envs in enumerate(train_different_envs):\n",
    "    env_id = env_ids[i]\n",
    "    print(env_id)\n",
    "    for step in range(0, cfg.experiment.num_rollout_steps):\n",
    "        envs_storages[env_id][\"obs\"][step] = next_obs_dict[env_id]\n",
    "        envs_storages[env_id][\"dones\"][step] = next_done_dict[env_id]\n",
    "\n",
    "        with torch.no_grad():\n",
    "            action, logprob, _, value = agent.get_action_and_value(envs.single_action_space, next_obs_dict[env_id])\n",
    "\n",
    "        envs_storages[env_id][\"values\"][step] = value.flatten()\n",
    "        envs_storages[env_id][\"actions\"][step] = action\n",
    "        envs_storages[env_id][\"logprobs\"][step] = logprob\n",
    "\n",
    "        # TRY NOT TO MODIFY: execute the game and log data.\n",
    "        next_obs, reward, done, infos = envs.step(action.cpu().numpy())\n",
    "        envs_storages[env_id][\"rewards\"][step] = torch.tensor(reward).to(device).view(-1)\n",
    "        next_obs, next_done = torch.Tensor(next_obs).to(device), torch.Tensor(done).to(device)\n",
    "        next_obs_dict[env_id] = next_obs\n",
    "        next_done_dict[env_id] = next_done\n",
    "            \n",
    "        for k, d in enumerate(done):\n",
    "            if d:\n",
    "                # logger.info(f\"[{update_idx}/{total_num_updates}] Train. env_name:{env_ids[i]}, global_step={global_step}, episodic_return={infos['r'][k]}\")\n",
    "                envs_returns[env_id+'/train'] = infos[\"r\"][k]\n",
    "                envs_lengths[env_id+'/train'] = infos[\"l\"][k]"
   ]
  },
  {
   "cell_type": "code",
   "execution_count": null,
   "metadata": {},
   "outputs": [],
   "source": [
    "# 한 번 롤아웃하는데 15분 정도 걸림\n",
    "# env_returns = {'CartPole-v1/train': 67.0,\n",
    "#  'Pendulum-v1/train': -1153.3905,\n",
    "#  'Acrobot-v1/train': -96.0,\n",
    "#  'BipedalWalker-v3/train': -11.827243,\n",
    "#  'LunarLander-v2/train': -529.5109,\n",
    "#  'HalfCheetah-v4/train': 1934.849,\n",
    "#  'Ant-v4/train': 1185.3798,\n",
    "#  'Hopper-v4/train': 275.2689,\n",
    "#  'Walker2d-v4/train': 444.75598}"
   ]
  },
  {
   "cell_type": "code",
   "execution_count": 35,
   "metadata": {},
   "outputs": [
    {
     "name": "stdout",
     "output_type": "stream",
     "text": [
      "CartPole-v1\n",
      "Pendulum-v1\n",
      "Acrobot-v1\n",
      "BipedalWalker-v3\n",
      "LunarLander-v2\n",
      "HalfCheetah-v4\n",
      "Ant-v4\n",
      "Hopper-v4\n",
      "Walker2d-v4\n"
     ]
    }
   ],
   "source": [
    "envs_returns = dict()\n",
    "envs_lengths = dict()\n",
    "for i, envs in enumerate(train_different_envs):\n",
    "    env_id = env_ids[i]\n",
    "    print(env_id)\n",
    "    is_break = False\n",
    "    for step in range(0, cfg.experiment.num_rollout_steps):\n",
    "        envs_storages[env_id][\"obs\"][step] = next_obs_dict[env_id]\n",
    "        envs_storages[env_id][\"dones\"][step] = next_done_dict[env_id]\n",
    "\n",
    "        with torch.no_grad():\n",
    "            action, logprob, _, value = agent.get_action_and_value(envs.single_action_space, next_obs_dict[env_id])\n",
    "\n",
    "        envs_storages[env_id][\"values\"][step] = value.flatten()\n",
    "        envs_storages[env_id][\"actions\"][step] = action\n",
    "        envs_storages[env_id][\"logprobs\"][step] = logprob\n",
    "\n",
    "        # TRY NOT TO MODIFY: execute the game and log data.\n",
    "        next_obs, reward, done, infos = envs.step(action.cpu().numpy())\n",
    "        envs_storages[env_id][\"rewards\"][step] = torch.tensor(reward).to(device).view(-1)\n",
    "        next_obs, next_done = torch.Tensor(next_obs).to(device), torch.Tensor(done).to(device)\n",
    "        next_obs_dict[env_id] = next_obs\n",
    "        next_done_dict[env_id] = next_done\n",
    "            \n",
    "        for k, d in enumerate(done):\n",
    "            if d:\n",
    "                # logger.info(f\"[{update_idx}/{total_num_updates}] Train. env_name:{env_ids[i]}, global_step={global_step}, episodic_return={infos['r'][k]}\")\n",
    "                envs_returns[env_id+'/train'] = infos[\"r\"][k]\n",
    "                envs_lengths[env_id+'/train'] = infos[\"l\"][k]\n",
    "                is_break = True\n",
    "        if is_break:\n",
    "            break"
   ]
  },
  {
   "cell_type": "code",
   "execution_count": 36,
   "metadata": {},
   "outputs": [
    {
     "data": {
      "text/plain": [
       "{'CartPole-v1/train': 13.0,\n",
       " 'Pendulum-v1/train': -1199.486,\n",
       " 'Acrobot-v1/train': -111.0,\n",
       " 'BipedalWalker-v3/train': -8.393649,\n",
       " 'LunarLander-v2/train': -137.25848,\n",
       " 'HalfCheetah-v4/train': 1733.8254,\n",
       " 'Ant-v4/train': 1559.7185,\n",
       " 'Hopper-v4/train': 359.4944,\n",
       " 'Walker2d-v4/train': 525.34174}"
      ]
     },
     "execution_count": 36,
     "metadata": {},
     "output_type": "execute_result"
    }
   ],
   "source": [
    "envs_returns"
   ]
  },
  {
   "cell_type": "code",
   "execution_count": 34,
   "metadata": {},
   "outputs": [
    {
     "data": {
      "text/plain": [
       "TensorDict(\n",
       "    fields={\n",
       "        Acrobot-v1: TensorDict(\n",
       "            fields={\n",
       "                actions: Tensor(shape=torch.Size([2048, 32]), device=cpu, dtype=torch.float32, is_shared=False),\n",
       "                dones: Tensor(shape=torch.Size([2048, 32]), device=cpu, dtype=torch.float32, is_shared=False),\n",
       "                logprobs: Tensor(shape=torch.Size([2048, 32]), device=cpu, dtype=torch.float32, is_shared=False),\n",
       "                obs: Tensor(shape=torch.Size([2048, 32, 6]), device=cpu, dtype=torch.float32, is_shared=False),\n",
       "                rewards: Tensor(shape=torch.Size([2048, 32]), device=cpu, dtype=torch.float32, is_shared=False),\n",
       "                values: Tensor(shape=torch.Size([2048, 32]), device=cpu, dtype=torch.float32, is_shared=False)},\n",
       "            batch_size=torch.Size([2048, 32]),\n",
       "            device=None,\n",
       "            is_shared=False),\n",
       "        Ant-v4: TensorDict(\n",
       "            fields={\n",
       "                actions: Tensor(shape=torch.Size([2048, 32, 8]), device=cpu, dtype=torch.float32, is_shared=False),\n",
       "                dones: Tensor(shape=torch.Size([2048, 32]), device=cpu, dtype=torch.float32, is_shared=False),\n",
       "                logprobs: Tensor(shape=torch.Size([2048, 32]), device=cpu, dtype=torch.float32, is_shared=False),\n",
       "                obs: Tensor(shape=torch.Size([2048, 32, 27]), device=cpu, dtype=torch.float32, is_shared=False),\n",
       "                rewards: Tensor(shape=torch.Size([2048, 32]), device=cpu, dtype=torch.float32, is_shared=False),\n",
       "                values: Tensor(shape=torch.Size([2048, 32]), device=cpu, dtype=torch.float32, is_shared=False)},\n",
       "            batch_size=torch.Size([2048, 32]),\n",
       "            device=None,\n",
       "            is_shared=False),\n",
       "        BipedalWalker-v3: TensorDict(\n",
       "            fields={\n",
       "                actions: Tensor(shape=torch.Size([2048, 32, 4]), device=cpu, dtype=torch.float32, is_shared=False),\n",
       "                dones: Tensor(shape=torch.Size([2048, 32]), device=cpu, dtype=torch.float32, is_shared=False),\n",
       "                logprobs: Tensor(shape=torch.Size([2048, 32]), device=cpu, dtype=torch.float32, is_shared=False),\n",
       "                obs: Tensor(shape=torch.Size([2048, 32, 24]), device=cpu, dtype=torch.float32, is_shared=False),\n",
       "                rewards: Tensor(shape=torch.Size([2048, 32]), device=cpu, dtype=torch.float32, is_shared=False),\n",
       "                values: Tensor(shape=torch.Size([2048, 32]), device=cpu, dtype=torch.float32, is_shared=False)},\n",
       "            batch_size=torch.Size([2048, 32]),\n",
       "            device=None,\n",
       "            is_shared=False),\n",
       "        CartPole-v1: TensorDict(\n",
       "            fields={\n",
       "                actions: Tensor(shape=torch.Size([2048, 32]), device=cpu, dtype=torch.float32, is_shared=False),\n",
       "                dones: Tensor(shape=torch.Size([2048, 32]), device=cpu, dtype=torch.float32, is_shared=False),\n",
       "                logprobs: Tensor(shape=torch.Size([2048, 32]), device=cpu, dtype=torch.float32, is_shared=False),\n",
       "                obs: Tensor(shape=torch.Size([2048, 32, 4]), device=cpu, dtype=torch.float32, is_shared=False),\n",
       "                rewards: Tensor(shape=torch.Size([2048, 32]), device=cpu, dtype=torch.float32, is_shared=False),\n",
       "                values: Tensor(shape=torch.Size([2048, 32]), device=cpu, dtype=torch.float32, is_shared=False)},\n",
       "            batch_size=torch.Size([2048, 32]),\n",
       "            device=None,\n",
       "            is_shared=False),\n",
       "        HalfCheetah-v4: TensorDict(\n",
       "            fields={\n",
       "                actions: Tensor(shape=torch.Size([2048, 32, 6]), device=cpu, dtype=torch.float32, is_shared=False),\n",
       "                dones: Tensor(shape=torch.Size([2048, 32]), device=cpu, dtype=torch.float32, is_shared=False),\n",
       "                logprobs: Tensor(shape=torch.Size([2048, 32]), device=cpu, dtype=torch.float32, is_shared=False),\n",
       "                obs: Tensor(shape=torch.Size([2048, 32, 17]), device=cpu, dtype=torch.float32, is_shared=False),\n",
       "                rewards: Tensor(shape=torch.Size([2048, 32]), device=cpu, dtype=torch.float32, is_shared=False),\n",
       "                values: Tensor(shape=torch.Size([2048, 32]), device=cpu, dtype=torch.float32, is_shared=False)},\n",
       "            batch_size=torch.Size([2048, 32]),\n",
       "            device=None,\n",
       "            is_shared=False),\n",
       "        Hopper-v4: TensorDict(\n",
       "            fields={\n",
       "                actions: Tensor(shape=torch.Size([2048, 32, 3]), device=cpu, dtype=torch.float32, is_shared=False),\n",
       "                dones: Tensor(shape=torch.Size([2048, 32]), device=cpu, dtype=torch.float32, is_shared=False),\n",
       "                logprobs: Tensor(shape=torch.Size([2048, 32]), device=cpu, dtype=torch.float32, is_shared=False),\n",
       "                obs: Tensor(shape=torch.Size([2048, 32, 11]), device=cpu, dtype=torch.float32, is_shared=False),\n",
       "                rewards: Tensor(shape=torch.Size([2048, 32]), device=cpu, dtype=torch.float32, is_shared=False),\n",
       "                values: Tensor(shape=torch.Size([2048, 32]), device=cpu, dtype=torch.float32, is_shared=False)},\n",
       "            batch_size=torch.Size([2048, 32]),\n",
       "            device=None,\n",
       "            is_shared=False),\n",
       "        LunarLander-v2: TensorDict(\n",
       "            fields={\n",
       "                actions: Tensor(shape=torch.Size([2048, 32]), device=cpu, dtype=torch.float32, is_shared=False),\n",
       "                dones: Tensor(shape=torch.Size([2048, 32]), device=cpu, dtype=torch.float32, is_shared=False),\n",
       "                logprobs: Tensor(shape=torch.Size([2048, 32]), device=cpu, dtype=torch.float32, is_shared=False),\n",
       "                obs: Tensor(shape=torch.Size([2048, 32, 8]), device=cpu, dtype=torch.float32, is_shared=False),\n",
       "                rewards: Tensor(shape=torch.Size([2048, 32]), device=cpu, dtype=torch.float32, is_shared=False),\n",
       "                values: Tensor(shape=torch.Size([2048, 32]), device=cpu, dtype=torch.float32, is_shared=False)},\n",
       "            batch_size=torch.Size([2048, 32]),\n",
       "            device=None,\n",
       "            is_shared=False),\n",
       "        Pendulum-v1: TensorDict(\n",
       "            fields={\n",
       "                actions: Tensor(shape=torch.Size([2048, 32, 1]), device=cpu, dtype=torch.float32, is_shared=False),\n",
       "                dones: Tensor(shape=torch.Size([2048, 32]), device=cpu, dtype=torch.float32, is_shared=False),\n",
       "                logprobs: Tensor(shape=torch.Size([2048, 32]), device=cpu, dtype=torch.float32, is_shared=False),\n",
       "                obs: Tensor(shape=torch.Size([2048, 32, 3]), device=cpu, dtype=torch.float32, is_shared=False),\n",
       "                rewards: Tensor(shape=torch.Size([2048, 32]), device=cpu, dtype=torch.float32, is_shared=False),\n",
       "                values: Tensor(shape=torch.Size([2048, 32]), device=cpu, dtype=torch.float32, is_shared=False)},\n",
       "            batch_size=torch.Size([2048, 32]),\n",
       "            device=None,\n",
       "            is_shared=False),\n",
       "        Walker2d-v4: TensorDict(\n",
       "            fields={\n",
       "                actions: Tensor(shape=torch.Size([2048, 32, 6]), device=cpu, dtype=torch.float32, is_shared=False),\n",
       "                dones: Tensor(shape=torch.Size([2048, 32]), device=cpu, dtype=torch.float32, is_shared=False),\n",
       "                logprobs: Tensor(shape=torch.Size([2048, 32]), device=cpu, dtype=torch.float32, is_shared=False),\n",
       "                obs: Tensor(shape=torch.Size([2048, 32, 17]), device=cpu, dtype=torch.float32, is_shared=False),\n",
       "                rewards: Tensor(shape=torch.Size([2048, 32]), device=cpu, dtype=torch.float32, is_shared=False),\n",
       "                values: Tensor(shape=torch.Size([2048, 32]), device=cpu, dtype=torch.float32, is_shared=False)},\n",
       "            batch_size=torch.Size([2048, 32]),\n",
       "            device=None,\n",
       "            is_shared=False)},\n",
       "    batch_size=torch.Size([2048, 32]),\n",
       "    device=None,\n",
       "    is_shared=False)"
      ]
     },
     "execution_count": 34,
     "metadata": {},
     "output_type": "execute_result"
    }
   ],
   "source": [
    "envs_storages\n"
   ]
  },
  {
   "cell_type": "code",
   "execution_count": 37,
   "metadata": {},
   "outputs": [],
   "source": [
    "step = 0\n",
    "env_id = 'HalfCheetah-v4'\n",
    "obs =  envs_storages[env_id][\"obs\"][step]\n",
    "h1 = agent.actor.obs_encoder_1d(obs)"
   ]
  },
  {
   "cell_type": "code",
   "execution_count": 169,
   "metadata": {},
   "outputs": [],
   "source": [
    "step = 100\n",
    "h_list = []\n",
    "h2_list = []\n",
    "h_ids = []\n",
    "for i, env_id in enumerate(env_ids):\n",
    "    obs =  envs_storages[env_id][\"obs\"][step]\n",
    "    h = agent.actor.obs_encoder_1d(obs)\n",
    "    h = torch.tanh(h)\n",
    "    h2 = agent.actor.res_mlp(h)\n",
    "    h2 = torch.tanh(h2)\n",
    "    \n",
    "    # h = h[0]\n",
    "    h = h.mean(1, keepdim=False)\n",
    "    h_list.append(h)\n",
    "    h2 = h2.mean(1, keepdim=False)\n",
    "    h2_list.append(h)\n",
    "    # h = h.view(-1)\n",
    "    h_ids.append([i for j in range(32)])"
   ]
  },
  {
   "cell_type": "code",
   "execution_count": 170,
   "metadata": {},
   "outputs": [
    {
     "data": {
      "text/plain": [
       "[tensor([[ 0.0517,  0.1780, -0.3957,  ..., -0.4723,  0.0366,  0.0726],\n",
       "         [-0.0208,  0.1089,  0.0606,  ..., -0.4082, -0.1452,  0.0962],\n",
       "         [-0.1900, -0.0439,  0.0514,  ...,  0.3115, -0.1348, -0.0900],\n",
       "         ...,\n",
       "         [ 0.1197,  0.1782, -0.0234,  ...,  0.0717, -0.3307, -0.2655],\n",
       "         [-0.2393, -0.0705,  0.1414,  ..., -0.0609, -0.2122, -0.1169],\n",
       "         [ 0.0470,  0.3902, -0.3310,  ..., -0.4757,  0.2127,  0.0079]],\n",
       "        grad_fn=<MeanBackward1>),\n",
       " tensor([[ 0.2198,  0.3310, -0.0777,  ..., -0.4780,  0.1929, -0.0788],\n",
       "         [-0.0082,  0.0420,  0.1520,  ...,  0.1733, -0.2826, -0.1743],\n",
       "         [ 0.2456,  0.2607, -0.1135,  ..., -0.3111, -0.0408, -0.0113],\n",
       "         ...,\n",
       "         [-0.1331,  0.2473, -0.3948,  ..., -0.3317,  0.1834, -0.1710],\n",
       "         [-0.0590, -0.2877,  0.0773,  ...,  0.3037, -0.0673,  0.0657],\n",
       "         [ 0.1503,  0.2127, -0.1618,  ..., -0.1887, -0.0953,  0.0364]],\n",
       "        grad_fn=<MeanBackward1>),\n",
       " tensor([[ 0.0509,  0.3830, -0.0530,  ..., -0.1899,  0.0453, -0.0304],\n",
       "         [-0.1120, -0.1967,  0.0843,  ..., -0.0259, -0.0814,  0.2269],\n",
       "         [-0.0247,  0.0077,  0.1544,  ...,  0.0496, -0.0573,  0.1554],\n",
       "         ...,\n",
       "         [-0.0477, -0.0424,  0.0148,  ..., -0.0123, -0.0124, -0.2009],\n",
       "         [-0.1358, -0.1661,  0.0014,  ...,  0.0828,  0.0553,  0.2226],\n",
       "         [-0.1160, -0.1680,  0.0637,  ...,  0.1610, -0.0389,  0.1635]],\n",
       "        grad_fn=<MeanBackward1>),\n",
       " tensor([[ 0.0062,  0.1984,  0.1970,  ..., -0.5594, -0.2414,  0.0671],\n",
       "         [ 0.0986,  0.1607,  0.1430,  ..., -0.6082, -0.0768, -0.1142],\n",
       "         [ 0.0351,  0.1858,  0.1651,  ..., -0.4400,  0.1331, -0.0356],\n",
       "         ...,\n",
       "         [ 0.1179,  0.1877,  0.0517,  ..., -0.5567, -0.1245, -0.0458],\n",
       "         [ 0.1237,  0.1403,  0.1433,  ..., -0.3887,  0.1935,  0.0639],\n",
       "         [-0.0125,  0.1204,  0.1206,  ..., -0.5736, -0.0660,  0.1123]],\n",
       "        grad_fn=<MeanBackward1>),\n",
       " tensor([[ 0.0756,  0.3594, -0.0873,  ...,  0.0369,  0.0475, -0.0306],\n",
       "         [ 0.0331, -0.0760, -0.1790,  ..., -0.0428,  0.0660, -0.0039],\n",
       "         [ 0.0395,  0.3070, -0.0288,  ...,  0.0014,  0.0469, -0.0186],\n",
       "         ...,\n",
       "         [-0.0589,  0.2473,  0.2020,  ..., -0.0379,  0.1709,  0.0615],\n",
       "         [-0.1145,  0.1013,  0.0560,  ...,  0.1149, -0.2260,  0.1706],\n",
       "         [-0.2442,  0.2743, -0.2079,  ...,  0.1293, -0.1910,  0.1643]],\n",
       "        grad_fn=<MeanBackward1>),\n",
       " tensor([[ 0.1035,  0.0893,  0.0176,  ..., -0.3469,  0.2730,  0.0109],\n",
       "         [ 0.0816,  0.1230,  0.0215,  ..., -0.3162, -0.1802,  0.0413],\n",
       "         [-0.1355,  0.3257,  0.0261,  ..., -0.4399, -0.0970,  0.0273],\n",
       "         ...,\n",
       "         [ 0.0488,  0.3464,  0.0195,  ..., -0.3714, -0.0695,  0.0248],\n",
       "         [ 0.0463,  0.1404,  0.0914,  ..., -0.5699, -0.1385, -0.1192],\n",
       "         [ 0.0237,  0.3042,  0.0168,  ..., -0.5210,  0.0464, -0.0227]],\n",
       "        grad_fn=<MeanBackward1>),\n",
       " tensor([[ 0.0393,  0.0876,  0.1150,  ..., -0.5912,  0.1219,  0.1738],\n",
       "         [ 0.1926,  0.3859,  0.0955,  ..., -0.6060,  0.2339,  0.1307],\n",
       "         [ 0.0033,  0.3686,  0.0726,  ..., -0.3968, -0.0011,  0.0674],\n",
       "         ...,\n",
       "         [ 0.0761,  0.3017,  0.1237,  ..., -0.4573,  0.1356,  0.1971],\n",
       "         [ 0.0421,  0.0603,  0.0510,  ..., -0.4992,  0.1316,  0.0030],\n",
       "         [ 0.1013,  0.0824,  0.0813,  ..., -0.5681,  0.2612,  0.0072]],\n",
       "        grad_fn=<MeanBackward1>),\n",
       " tensor([[ 0.1220, -0.1056,  0.1340,  ...,  0.0187, -0.1921, -0.0792],\n",
       "         [-0.0516,  0.1163,  0.2676,  ..., -0.2271, -0.2761,  0.0434],\n",
       "         [-0.2325,  0.0922,  0.2283,  ...,  0.0201, -0.3064,  0.3058],\n",
       "         ...,\n",
       "         [-0.2066,  0.1474, -0.0708,  ..., -0.0340, -0.2252,  0.0094],\n",
       "         [-0.0473, -0.1937, -0.0521,  ...,  0.1597, -0.1611, -0.1068],\n",
       "         [ 0.1103, -0.0885,  0.1287,  ...,  0.0243, -0.1790, -0.0322]],\n",
       "        grad_fn=<MeanBackward1>),\n",
       " tensor([[-0.1059,  0.2703, -0.0113,  ..., -0.2956, -0.1320,  0.0635],\n",
       "         [-0.0307,  0.2988,  0.0415,  ..., -0.4059,  0.0548,  0.0889],\n",
       "         [-0.0502,  0.0566,  0.1097,  ..., -0.5207, -0.1308, -0.0375],\n",
       "         ...,\n",
       "         [-0.1164, -0.1305,  0.2584,  ..., -0.2338, -0.1751,  0.0344],\n",
       "         [ 0.1189,  0.3271, -0.0902,  ..., -0.5878,  0.0760, -0.1436],\n",
       "         [-0.2272,  0.3015, -0.0764,  ..., -0.3958,  0.0931,  0.1887]],\n",
       "        grad_fn=<MeanBackward1>)]"
      ]
     },
     "execution_count": 170,
     "metadata": {},
     "output_type": "execute_result"
    }
   ],
   "source": [
    "h_list"
   ]
  },
  {
   "cell_type": "code",
   "execution_count": 171,
   "metadata": {},
   "outputs": [
    {
     "name": "stdout",
     "output_type": "stream",
     "text": [
      "torch.Size([32, 256])\n",
      "torch.Size([32, 256])\n",
      "torch.Size([32, 256])\n",
      "torch.Size([32, 256])\n",
      "torch.Size([32, 256])\n",
      "torch.Size([32, 256])\n",
      "torch.Size([32, 256])\n",
      "torch.Size([32, 256])\n",
      "torch.Size([32, 256])\n"
     ]
    }
   ],
   "source": [
    "for h in h_list:\n",
    "    print(h.shape)"
   ]
  },
  {
   "cell_type": "code",
   "execution_count": 172,
   "metadata": {},
   "outputs": [],
   "source": [
    "h_array = np.concatenate([h.cpu().detach().numpy() for h in h_list], axis=0)"
   ]
  },
  {
   "cell_type": "code",
   "execution_count": 173,
   "metadata": {},
   "outputs": [],
   "source": [
    "h2_array = np.concatenate([h.cpu().detach().numpy() for h in h2_list], axis=0)\n"
   ]
  },
  {
   "cell_type": "code",
   "execution_count": 174,
   "metadata": {},
   "outputs": [
    {
     "data": {
      "text/plain": [
       "(288,)"
      ]
     },
     "execution_count": 174,
     "metadata": {},
     "output_type": "execute_result"
    }
   ],
   "source": [
    "h_ids = np.array(h_ids).reshape(-1)\n",
    "h_ids.shape"
   ]
  },
  {
   "cell_type": "code",
   "execution_count": 175,
   "metadata": {},
   "outputs": [
    {
     "data": {
      "text/plain": [
       "array([0, 0, 0, 0, 0, 0, 0, 0, 0, 0, 0, 0, 0, 0, 0, 0, 0, 0, 0, 0, 0, 0,\n",
       "       0, 0, 0, 0, 0, 0, 0, 0, 0, 0, 1, 1, 1, 1, 1, 1, 1, 1, 1, 1, 1, 1,\n",
       "       1, 1, 1, 1, 1, 1, 1, 1, 1, 1, 1, 1, 1, 1, 1, 1, 1, 1, 1, 1, 2, 2,\n",
       "       2, 2, 2, 2, 2, 2, 2, 2, 2, 2, 2, 2, 2, 2, 2, 2, 2, 2, 2, 2, 2, 2,\n",
       "       2, 2, 2, 2, 2, 2, 2, 2, 3, 3, 3, 3, 3, 3, 3, 3, 3, 3, 3, 3, 3, 3,\n",
       "       3, 3, 3, 3, 3, 3, 3, 3, 3, 3, 3, 3, 3, 3, 3, 3, 3, 3, 4, 4, 4, 4,\n",
       "       4, 4, 4, 4, 4, 4, 4, 4, 4, 4, 4, 4, 4, 4, 4, 4, 4, 4, 4, 4, 4, 4,\n",
       "       4, 4, 4, 4, 4, 4, 5, 5, 5, 5, 5, 5, 5, 5, 5, 5, 5, 5, 5, 5, 5, 5,\n",
       "       5, 5, 5, 5, 5, 5, 5, 5, 5, 5, 5, 5, 5, 5, 5, 5, 6, 6, 6, 6, 6, 6,\n",
       "       6, 6, 6, 6, 6, 6, 6, 6, 6, 6, 6, 6, 6, 6, 6, 6, 6, 6, 6, 6, 6, 6,\n",
       "       6, 6, 6, 6, 7, 7, 7, 7, 7, 7, 7, 7, 7, 7, 7, 7, 7, 7, 7, 7, 7, 7,\n",
       "       7, 7, 7, 7, 7, 7, 7, 7, 7, 7, 7, 7, 7, 7, 8, 8, 8, 8, 8, 8, 8, 8,\n",
       "       8, 8, 8, 8, 8, 8, 8, 8, 8, 8, 8, 8, 8, 8, 8, 8, 8, 8, 8, 8, 8, 8,\n",
       "       8, 8])"
      ]
     },
     "execution_count": 175,
     "metadata": {},
     "output_type": "execute_result"
    }
   ],
   "source": [
    "h_ids"
   ]
  },
  {
   "cell_type": "code",
   "execution_count": 176,
   "metadata": {},
   "outputs": [
    {
     "data": {
      "text/plain": [
       "(288, 256)"
      ]
     },
     "execution_count": 176,
     "metadata": {},
     "output_type": "execute_result"
    }
   ],
   "source": [
    "h_array.shape"
   ]
  },
  {
   "cell_type": "code",
   "execution_count": 177,
   "metadata": {},
   "outputs": [
    {
     "data": {
      "text/plain": [
       "(288, 256)"
      ]
     },
     "execution_count": 177,
     "metadata": {},
     "output_type": "execute_result"
    }
   ],
   "source": [
    "h2_array.shape\n"
   ]
  },
  {
   "cell_type": "code",
   "execution_count": 178,
   "metadata": {},
   "outputs": [
    {
     "name": "stdout",
     "output_type": "stream",
     "text": [
      "(288, 2)\n"
     ]
    }
   ],
   "source": [
    "from sklearn.manifold import TSNE\n",
    "n_components = 2\n",
    "model = TSNE(n_components=n_components, perplexity=30)\n",
    "\n",
    "# 학습한 결과 2차원 공간 값 출력\n",
    "out = model.fit_transform(h_array)\n",
    "print(out.shape)"
   ]
  },
  {
   "cell_type": "code",
   "execution_count": 179,
   "metadata": {},
   "outputs": [],
   "source": [
    "import seaborn as sns\n",
    "import matplotlib.pyplot as plt"
   ]
  },
  {
   "cell_type": "code",
   "execution_count": 180,
   "metadata": {},
   "outputs": [
    {
     "data": {
      "text/plain": [
       "['CartPole-v1',\n",
       " 'Pendulum-v1',\n",
       " 'Acrobot-v1',\n",
       " 'BipedalWalker-v3',\n",
       " 'LunarLander-v2',\n",
       " 'HalfCheetah-v4',\n",
       " 'Ant-v4',\n",
       " 'Hopper-v4',\n",
       " 'Walker2d-v4']"
      ]
     },
     "execution_count": 180,
     "metadata": {},
     "output_type": "execute_result"
    }
   ],
   "source": [
    "env_ids"
   ]
  },
  {
   "cell_type": "code",
   "execution_count": 181,
   "metadata": {},
   "outputs": [
    {
     "name": "stderr",
     "output_type": "stream",
     "text": [
      "/tmp/ipykernel_176030/3931536085.py:3: UserWarning: The palette list has more values (10) than needed (9), which may not be intended.\n",
      "  sns.scatterplot(x=out[:,0], y=out[:,1], hue=h_ids, legend='full', palette=palette)\n"
     ]
    },
    {
     "data": {
      "image/png": "[encoded data removed]",
      "text/plain": [
       "<Figure size 640x480 with 1 Axes>"
      ]
     },
     "metadata": {},
     "output_type": "display_data"
    }
   ],
   "source": [
    "palette = sns.color_palette(\"bright\", 10)\n",
    "# sns.scatterplot(out)\n",
    "sns.scatterplot(x=out[:,0], y=out[:,1], hue=h_ids, legend='full', palette=palette)\n",
    "plt.show()"
   ]
  },
  {
   "cell_type": "code",
   "execution_count": 182,
   "metadata": {},
   "outputs": [
    {
     "name": "stdout",
     "output_type": "stream",
     "text": [
      "(288, 2)\n"
     ]
    }
   ],
   "source": [
    "from sklearn.manifold import TSNE\n",
    "n_components = 2\n",
    "model = TSNE(n_components=n_components, perplexity=30)\n",
    "\n",
    "# 학습한 결과 2차원 공간 값 출력\n",
    "out2 = model.fit_transform(h2_array)\n",
    "print(out2.shape)"
   ]
  },
  {
   "cell_type": "code",
   "execution_count": 183,
   "metadata": {},
   "outputs": [
    {
     "name": "stderr",
     "output_type": "stream",
     "text": [
      "/tmp/ipykernel_176030/518851400.py:3: UserWarning: The palette list has more values (10) than needed (9), which may not be intended.\n",
      "  sns.scatterplot(x=out2[:,0], y=out2[:,1], hue=h_ids, legend='full', palette=palette)\n"
     ]
    },
    {
     "data": {
      "image/png": "[encoded data removed]",
      "text/plain": [
       "<Figure size 640x480 with 1 Axes>"
      ]
     },
     "metadata": {},
     "output_type": "display_data"
    }
   ],
   "source": [
    "palette = sns.color_palette(\"bright\", 10)\n",
    "# sns.scatterplot(out)\n",
    "sns.scatterplot(x=out2[:,0], y=out2[:,1], hue=h_ids, legend='full', palette=palette)\n",
    "plt.show()"
   ]
  },
  {
   "cell_type": "code",
   "execution_count": 18,
   "metadata": {},
   "outputs": [
    {
     "name": "stdout",
     "output_type": "stream",
     "text": [
      "Train env 1: CartPole-v1 is loaded\n",
      "1/9environment CartPole-v1 is loaded...\n",
      "Train env 2: Pendulum-v1 is loaded\n",
      "2/9environment Pendulum-v1 is loaded...\n",
      "Train env 3: Acrobot-v1 is loaded\n",
      "3/9environment Acrobot-v1 is loaded...\n",
      "Train env 4: BipedalWalker-v3 is loaded\n",
      "4/9environment BipedalWalker-v3 is loaded...\n",
      "Train env 5: LunarLander-v2 is loaded\n",
      "5/9environment LunarLander-v2 is loaded...\n",
      "Train env 6: HalfCheetah-v4 is loaded\n",
      "6/9environment HalfCheetah-v4 is loaded...\n",
      "Train env 7: Ant-v4 is loaded\n",
      "7/9environment Ant-v4 is loaded...\n",
      "Train env 8: Hopper-v4 is loaded\n",
      "8/9environment Hopper-v4 is loaded...\n",
      "Train env 9: Walker2d-v4 is loaded\n",
      "9/9environment Walker2d-v4 is loaded...\n"
     ]
    },
    {
     "ename": "AttributeError",
     "evalue": "'int' object has no attribute 'dtype'",
     "output_type": "error",
     "traceback": [
      "\u001b[0;31m---------------------------------------------------------------------------\u001b[0m",
      "\u001b[0;31mAttributeError\u001b[0m                            Traceback (most recent call last)",
      "Cell \u001b[0;32mIn[18], line 20\u001b[0m\n\u001b[1;32m     18\u001b[0m     next_obs, reward, truncated, terminated, info \u001b[39m=\u001b[39m env\u001b[39m.\u001b[39mstep(action\u001b[39m.\u001b[39mcpu()\u001b[39m.\u001b[39mnumpy())\n\u001b[1;32m     19\u001b[0m \u001b[39melse\u001b[39;00m:\n\u001b[0;32m---> 20\u001b[0m     next_obs, reward, truncated, terminated, info \u001b[39m=\u001b[39m env\u001b[39m.\u001b[39;49mstep(action\u001b[39m.\u001b[39;49mcpu()\u001b[39m.\u001b[39;49mnumpy()\u001b[39m.\u001b[39;49mitem())\n\u001b[1;32m     22\u001b[0m done \u001b[39m=\u001b[39m np\u001b[39m.\u001b[39mlogical_or(truncated, terminated)\n\u001b[1;32m     23\u001b[0m next_obs \u001b[39m=\u001b[39m torch\u001b[39m.\u001b[39mTensor(next_obs)\u001b[39m.\u001b[39mto(device)\u001b[39m.\u001b[39mview(\u001b[39m1\u001b[39m, \u001b[39m-\u001b[39m\u001b[39m1\u001b[39m)\n",
      "File \u001b[0;32m~/Projects/DARL_transformer/modules/utils.py:361\u001b[0m, in \u001b[0;36mNormalizedFlattenRecordEpisodeStatistics.step\u001b[0;34m(self, action)\u001b[0m\n\u001b[1;32m    360\u001b[0m \u001b[39mdef\u001b[39;00m \u001b[39mstep\u001b[39m(\u001b[39mself\u001b[39m, action):\n\u001b[0;32m--> 361\u001b[0m     observations, rewards, dones, infos \u001b[39m=\u001b[39m \u001b[39msuper\u001b[39;49m()\u001b[39m.\u001b[39;49mstep(action)\n\u001b[1;32m    362\u001b[0m     \u001b[39mif\u001b[39;00m \u001b[39misinstance\u001b[39m(observations, Dict) \u001b[39mor\u001b[39;00m \\\n\u001b[1;32m    363\u001b[0m         \u001b[39misinstance\u001b[39m(observations, GymDict) \u001b[39mor\u001b[39;00m \\\n\u001b[1;32m    364\u001b[0m             \u001b[39misinstance\u001b[39m(observations, OrderedDict):\n\u001b[1;32m    365\u001b[0m         observations \u001b[39m=\u001b[39m \u001b[39mself\u001b[39m\u001b[39m.\u001b[39mflatten_dict(observations)\n",
      "File \u001b[0;32m/mnt/harddisk1/anaconda3/envs/darl2/lib/python3.9/site-packages/gym/core.py:423\u001b[0m, in \u001b[0;36mWrapper.step\u001b[0;34m(self, action)\u001b[0m\n\u001b[1;32m    418\u001b[0m \u001b[39m\u001b[39m\u001b[39m\"\"\"Steps through the environment with action.\"\"\"\u001b[39;00m\n\u001b[1;32m    419\u001b[0m \u001b[39mfrom\u001b[39;00m \u001b[39mgym\u001b[39;00m\u001b[39m.\u001b[39;00m\u001b[39mutils\u001b[39;00m\u001b[39m.\u001b[39;00m\u001b[39mstep_api_compatibility\u001b[39;00m \u001b[39mimport\u001b[39;00m (  \u001b[39m# avoid circular import\u001b[39;00m\n\u001b[1;32m    420\u001b[0m     step_api_compatibility,\n\u001b[1;32m    421\u001b[0m )\n\u001b[0;32m--> 423\u001b[0m \u001b[39mreturn\u001b[39;00m step_api_compatibility(\u001b[39mself\u001b[39;49m\u001b[39m.\u001b[39;49menv\u001b[39m.\u001b[39;49mstep(action), \u001b[39mself\u001b[39m\u001b[39m.\u001b[39mnew_step_api)\n",
      "File \u001b[0;32m/mnt/harddisk1/anaconda3/envs/darl2/lib/python3.9/site-packages/envpool/python/envpool.py:143\u001b[0m, in \u001b[0;36mEnvPoolMixin.step\u001b[0;34m(self, action, env_id)\u001b[0m\n\u001b[1;32m    137\u001b[0m \u001b[39mdef\u001b[39;00m \u001b[39mstep\u001b[39m(\n\u001b[1;32m    138\u001b[0m   \u001b[39mself\u001b[39m: EnvPool,\n\u001b[1;32m    139\u001b[0m   action: Union[Dict[\u001b[39mstr\u001b[39m, Any], np\u001b[39m.\u001b[39mndarray],\n\u001b[1;32m    140\u001b[0m   env_id: Optional[np\u001b[39m.\u001b[39mndarray] \u001b[39m=\u001b[39m \u001b[39mNone\u001b[39;00m,\n\u001b[1;32m    141\u001b[0m ) \u001b[39m-\u001b[39m\u001b[39m>\u001b[39m Union[TimeStep, Tuple]:\n\u001b[1;32m    142\u001b[0m \u001b[39m  \u001b[39m\u001b[39m\"\"\"Perform one step with multiple environments in EnvPool.\"\"\"\u001b[39;00m\n\u001b[0;32m--> 143\u001b[0m   \u001b[39mself\u001b[39;49m\u001b[39m.\u001b[39;49msend(action, env_id)\n\u001b[1;32m    144\u001b[0m   \u001b[39mreturn\u001b[39;00m \u001b[39mself\u001b[39m\u001b[39m.\u001b[39mrecv(reset\u001b[39m=\u001b[39m\u001b[39mFalse\u001b[39;00m, return_info\u001b[39m=\u001b[39m\u001b[39mTrue\u001b[39;00m)\n",
      "File \u001b[0;32m/mnt/harddisk1/anaconda3/envs/darl2/lib/python3.9/site-packages/envpool/python/envpool.py:121\u001b[0m, in \u001b[0;36mEnvPoolMixin.send\u001b[0;34m(self, action, env_id)\u001b[0m\n\u001b[1;32m    119\u001b[0m \u001b[39m\u001b[39m\u001b[39m\"\"\"Send actions into EnvPool.\"\"\"\u001b[39;00m\n\u001b[1;32m    120\u001b[0m action \u001b[39m=\u001b[39m \u001b[39mself\u001b[39m\u001b[39m.\u001b[39m_from(action, env_id)\n\u001b[0;32m--> 121\u001b[0m \u001b[39mself\u001b[39;49m\u001b[39m.\u001b[39;49m_check_action(action)\n\u001b[1;32m    122\u001b[0m \u001b[39mself\u001b[39m\u001b[39m.\u001b[39m_send(action)\n",
      "File \u001b[0;32m/mnt/harddisk1/anaconda3/envs/darl2/lib/python3.9/site-packages/envpool/python/envpool.py:38\u001b[0m, in \u001b[0;36mEnvPoolMixin._check_action\u001b[0;34m(self, actions)\u001b[0m\n\u001b[1;32m     36\u001b[0m \u001b[39mself\u001b[39m\u001b[39m.\u001b[39m_check_action_finished \u001b[39m=\u001b[39m \u001b[39mTrue\u001b[39;00m\n\u001b[1;32m     37\u001b[0m \u001b[39mfor\u001b[39;00m a, (k, v) \u001b[39min\u001b[39;00m \u001b[39mzip\u001b[39m(actions, \u001b[39mself\u001b[39m\u001b[39m.\u001b[39mspec\u001b[39m.\u001b[39maction_array_spec\u001b[39m.\u001b[39mitems()):\n\u001b[0;32m---> 38\u001b[0m   \u001b[39mif\u001b[39;00m v\u001b[39m.\u001b[39mdtype \u001b[39m!=\u001b[39m a\u001b[39m.\u001b[39;49mdtype:\n\u001b[1;32m     39\u001b[0m     \u001b[39mraise\u001b[39;00m \u001b[39mRuntimeError\u001b[39;00m(\n\u001b[1;32m     40\u001b[0m       \u001b[39mf\u001b[39m\u001b[39m\"\u001b[39m\u001b[39mExpected dtype \u001b[39m\u001b[39m{\u001b[39;00mv\u001b[39m.\u001b[39mdtype\u001b[39m}\u001b[39;00m\u001b[39m with action \u001b[39m\u001b[39m\\\"\u001b[39;00m\u001b[39m{\u001b[39;00mk\u001b[39m}\u001b[39;00m\u001b[39m\\\"\u001b[39;00m\u001b[39m, got \u001b[39m\u001b[39m{\u001b[39;00ma\u001b[39m.\u001b[39mdtype\u001b[39m}\u001b[39;00m\u001b[39m\"\u001b[39m\n\u001b[1;32m     41\u001b[0m     )\n\u001b[1;32m     42\u001b[0m   shape \u001b[39m=\u001b[39m \u001b[39mtuple\u001b[39m(v\u001b[39m.\u001b[39mshape)\n",
      "\u001b[0;31mAttributeError\u001b[0m: 'int' object has no attribute 'dtype'"
     ]
    }
   ],
   "source": [
    "test_envs_returns = dict()\n",
    "test_envs_lengths = dict()\n",
    "test_different_envs = []\n",
    "eval_seed = 3142\n",
    "for j, env_id in enumerate(env_ids):\n",
    "    test_envs = make_batched_env(j, env_id, cfg, mode='train')\n",
    "    test_different_envs.append(test_envs)\n",
    "    print(f\"{j+1}/{len(env_ids)}environment {env_id} is loaded...\")\n",
    "for i, env in enumerate(test_different_envs):\n",
    "    next_obs = env.reset()\n",
    "    next_obs = torch.Tensor(next_obs).to(device).view(1, -1)\n",
    "    done = False\n",
    "    while not done:\n",
    "        with torch.no_grad():\n",
    "            action, logprob, _, value = agent.get_action_and_value(env.action_space, next_obs)\n",
    "        if len(action.shape) > 1:\n",
    "            action = action.squeeze(0)\n",
    "            next_obs, reward, truncated, terminated, info = env.step(action.cpu().numpy())\n",
    "        else:\n",
    "            next_obs, reward, truncated, terminated, info = env.step(action.cpu().numpy().item())\n",
    "            \n",
    "        done = np.logical_or(truncated, terminated)\n",
    "        next_obs = torch.Tensor(next_obs).to(device).view(1, -1)\n",
    "        if done:\n",
    "            print(f\"Evaluation. env_name:{env_ids[i]}, episodic_return={info['episode']['r']}\")\n",
    "            test_envs_returns[env_ids[i]+'/eval'] = info[\"episode\"][\"r\"]\n",
    "            test_envs_lengths[env_ids[i]+'/eval'] = info[\"episode\"][\"l\"]\n"
   ]
  },
  {
   "cell_type": "code",
   "execution_count": null,
   "metadata": {},
   "outputs": [],
   "source": []
  }
 ],
 "metadata": {
  "kernelspec": {
   "display_name": "darl2",
   "language": "python",
   "name": "python3"
  },
  "language_info": {
   "codemirror_mode": {
    "name": "ipython",
    "version": 3
   },
   "file_extension": ".py",
   "mimetype": "text/x-python",
   "name": "python",
   "nbconvert_exporter": "python",
   "pygments_lexer": "ipython3",
   "version": "3.9.17"
  },
  "orig_nbformat": 4,
  "vscode": {
   "interpreter": {
    "hash": "3d0f7c561fd4fddb74f77a98fc61421c3dd937e1d9d3174b2ba2cda973dab991"
   }
  }
 },
 "nbformat": 4,
 "nbformat_minor": 2
}
