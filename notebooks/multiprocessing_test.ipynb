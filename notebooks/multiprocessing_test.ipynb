{
 "cells": [
  {
   "cell_type": "code",
   "execution_count": null,
   "metadata": {},
   "outputs": [],
   "source": [
    "import torch\n",
    "import torch.multiprocessing as mp\n",
    "from tensordict.tensordict import TensorDict\n"
   ]
  },
  {
   "cell_type": "code",
   "execution_count": null,
   "metadata": {},
   "outputs": [],
   "source": [
    "from collections import defaultdict\n",
    "from functools import partial\n",
    "from pathlib import Path\n",
    "import shutil\n",
    "import sys\n",
    "import time\n",
    "from typing import Any, Dict, Optional, Tuple, OrderedDict\n",
    "import random\n",
    "import hydra\n",
    "from hydra.utils import instantiate\n",
    "from hydra.utils import get_original_cwd, to_absolute_path\n",
    "from omegaconf import DictConfig, OmegaConf, open_dict\n",
    "from torch.utils.tensorboard import SummaryWriter\n",
    "from collections import deque\n",
    "from tqdm import tqdm\n",
    "import wandb\n",
    "import ray\n",
    "\n",
    "import envpool\n",
    "# import gymnasium as gym\n",
    "import gym\n",
    "from gym.spaces import Box, Discrete\n",
    "from gym.spaces.dict import Dict as GymDict\n",
    "import numpy as np\n",
    "import torch\n",
    "import torch.nn as nn\n",
    "import torch.optim as optim\n",
    "import torch.func\n",
    "from src.utils import set_seed, make_batched_env\n",
    "                            "
   ]
  },
  {
   "cell_type": "code",
   "execution_count": null,
   "metadata": {},
   "outputs": [],
   "source": [
    "from omegaconf import OmegaConf\n",
    "\n",
    "cfg_path = \"/home/kukjin/kukjin/Projects/MultiEnvRL/DARL_transformer/configs/ppo_trainer.yaml\"\n",
    "nn_cfg_path = \"/home/kukjin/kukjin/Projects/MultiEnvRL/DARL_transformer/configs/nn/nn.yaml\"\n",
    "ppo_cfg_path = \"/home/kukjin/kukjin/Projects/MultiEnvRL/DARL_transformer/configs/ppo/ppo.yaml\"\n",
    "ccnn_cfg_img_path = \"/home/kukjin/kukjin/Projects/MultiEnvRL/DARL_transformer/configs/ccnn_img/ccnn_img.yaml\"\n",
    "ccnn_cfg_seq_path = \"/home/kukjin/kukjin/Projects/MultiEnvRL/DARL_transformer/configs/ccnn_seq/ccnn_seq.yaml\"\n",
    "\n",
    "cfg = OmegaConf.load(cfg_path)\n",
    "nn_cfg = OmegaConf.load(nn_cfg_path)\n",
    "ppo_cfg = OmegaConf.load(ppo_cfg_path)\n",
    "ccnn_seq_cfg = OmegaConf.load(ccnn_cfg_img_path)\n",
    "ccnn_img_cfg = OmegaConf.load(ccnn_cfg_seq_path)\n",
    "\n",
    "cfg.nn = nn_cfg\n",
    "cfg.ppo = ppo_cfg\n",
    "cfg.ccnn_seq = ccnn_seq_cfg\n",
    "cfg.ccnn_img = ccnn_img_cfg\n",
    "\n",
    "cfg"
   ]
  },
  {
   "cell_type": "code",
   "execution_count": null,
   "metadata": {},
   "outputs": [],
   "source": [
    "env_ids = [\"CartPole-v1\", \"HalfCheetah-v4\"]\n",
    "train_different_envs = []\n",
    "for j, env_id in enumerate(env_ids):\n",
    "    train_envs = make_batched_env(j, env_id, cfg, mode='train')\n",
    "    train_different_envs.append(train_envs)\n",
    "    print(f\"{j+1}/{len(env_ids)}environment {env_id} is loaded...\")"
   ]
  },
  {
   "cell_type": "code",
   "execution_count": null,
   "metadata": {},
   "outputs": [],
   "source": [
    "device = 'cpu'\n",
    "envs_storages = TensorDict({}, batch_size=[128, 64])\n",
    "for i, envs in enumerate(train_different_envs):\n",
    "    env_id = env_ids[i]\n",
    "    obs = torch.zeros((128, 64) \\\n",
    "        + envs.single_observation_space.shape).to(device)\n",
    "    actions = torch.zeros((128, 64) \\\n",
    "        + envs.single_action_space.shape).to(device)\n",
    "    logprobs = torch.zeros((128, 64)).to(device)\n",
    "    rewards = torch.zeros((128, 64)).to(device)\n",
    "    dones = torch.zeros((128, 64)).to(device)\n",
    "    values = torch.zeros((128, 64)).to(device)\n",
    "    storage = TensorDict({\n",
    "                \"obs\": obs,\n",
    "                \"actions\": actions,\n",
    "                \"logprobs\": logprobs,\n",
    "                \"rewards\": rewards,\n",
    "                \"dones\": dones,\n",
    "                \"values\": values\n",
    "                }, batch_size=[128, 64])\n",
    "    envs_storages[env_id] = storage\n",
    "    "
   ]
  }
 ],
 "metadata": {
  "kernelspec": {
   "display_name": "darl2",
   "language": "python",
   "name": "python3"
  },
  "language_info": {
   "name": "python",
   "version": "3.9.17"
  },
  "orig_nbformat": 4,
  "vscode": {
   "interpreter": {
    "hash": "3d0f7c561fd4fddb74f77a98fc61421c3dd937e1d9d3174b2ba2cda973dab991"
   }
  }
 },
 "nbformat": 4,
 "nbformat_minor": 2
}
