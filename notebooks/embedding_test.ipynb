{
 "cells": [
  {
   "cell_type": "code",
   "execution_count": 20,
   "metadata": {},
   "outputs": [],
   "source": [
    "import torch\n",
    "import torch.nn as nn\n",
    "\n",
    "# 원래의 임베딩 레이어\n",
    "original_vocab_size = 8\n",
    "embedding_dim = 4\n",
    "original_embedding = nn.Embedding(original_vocab_size, embedding_dim)\n",
    "\n"
   ]
  },
  {
   "cell_type": "code",
   "execution_count": 21,
   "metadata": {},
   "outputs": [
    {
     "data": {
      "text/plain": [
       "torch.Size([8, 4])"
      ]
     },
     "execution_count": 21,
     "metadata": {},
     "output_type": "execute_result"
    }
   ],
   "source": [
    "original_embedding.weight.shape"
   ]
  },
  {
   "cell_type": "code",
   "execution_count": 22,
   "metadata": {},
   "outputs": [
    {
     "data": {
      "text/plain": [
       "torch.Size([11, 4])"
      ]
     },
     "execution_count": 22,
     "metadata": {},
     "output_type": "execute_result"
    }
   ],
   "source": [
    "\n",
    "# 새로운 임베딩 레이어\n",
    "new_vocab_size = 11  # 새로운 단어 5개 추가\n",
    "new_embedding = nn.Embedding(new_vocab_size, embedding_dim)\n",
    "new_embedding.weight.shape\n",
    "\n"
   ]
  },
  {
   "cell_type": "code",
   "execution_count": 23,
   "metadata": {},
   "outputs": [],
   "source": [
    "# 원래의 가중치를 복사\n",
    "with torch.no_grad():\n",
    "    new_embedding.weight[:original_vocab_size] = original_embedding.weight"
   ]
  },
  {
   "cell_type": "code",
   "execution_count": null,
   "metadata": {},
   "outputs": [],
   "source": [
    "#   File \"/home/kukjin/Projects/HMRL_final/modules/networks/actor_critic_specific.py\", line 104, in add_envionments\n",
    "#     new_task_embedding.weight[:pretrained_num_embeddings] = self.task_embedding.weight\n",
    "# RuntimeError: The expanded size of the tensor (11) must match the existing size (8) at non-singleton dimension 0.  Target sizes: [11, 256].  Tensor sizes: [8, 256]\n"
   ]
  },
  {
   "cell_type": "code",
   "execution_count": 6,
   "metadata": {},
   "outputs": [],
   "source": [
    "encoders_dict = nn.ModuleDict({})"
   ]
  },
  {
   "cell_type": "code",
   "execution_count": 7,
   "metadata": {},
   "outputs": [],
   "source": [
    "encoders_dict['linear'] = nn.Linear(4, 2)"
   ]
  },
  {
   "cell_type": "code",
   "execution_count": null,
   "metadata": {},
   "outputs": [],
   "source": [
    "pretrained_num_embeddings = 8\n",
    "env_ids = list(range(0,18))"
   ]
  },
  {
   "cell_type": "code",
   "execution_count": 26,
   "metadata": {},
   "outputs": [
    {
     "ename": "ImportError",
     "evalue": "cannot import name 'PPOAgent' from 'modules.ppo_agent' (/home/kukjin/Projects/HMRL/modules/ppo_agent.py)",
     "output_type": "error",
     "traceback": [
      "\u001b[0;31m---------------------------------------------------------------------------\u001b[0m",
      "\u001b[0;31mImportError\u001b[0m                               Traceback (most recent call last)",
      "Cell \u001b[0;32mIn[26], line 20\u001b[0m\n\u001b[1;32m     18\u001b[0m \u001b[39mfrom\u001b[39;00m \u001b[39mtorch\u001b[39;00m\u001b[39m.\u001b[39;00m\u001b[39mlinalg\u001b[39;00m \u001b[39mimport\u001b[39;00m matrix_norm\n\u001b[1;32m     19\u001b[0m \u001b[39mfrom\u001b[39;00m \u001b[39mtensordict\u001b[39;00m\u001b[39m.\u001b[39;00m\u001b[39mtensordict\u001b[39;00m \u001b[39mimport\u001b[39;00m TensorDict\n\u001b[0;32m---> 20\u001b[0m \u001b[39mfrom\u001b[39;00m \u001b[39mmodules\u001b[39;00m\u001b[39m.\u001b[39;00m\u001b[39mppo_agent\u001b[39;00m \u001b[39mimport\u001b[39;00m PPOAgent\n\u001b[1;32m     21\u001b[0m \u001b[39mfrom\u001b[39;00m \u001b[39mmodules\u001b[39;00m\u001b[39m.\u001b[39;00m\u001b[39mutils\u001b[39;00m \u001b[39mimport\u001b[39;00m set_seed, make_envpool_env\n\u001b[1;32m     22\u001b[0m \u001b[39mfrom\u001b[39;00m \u001b[39mitertools\u001b[39;00m \u001b[39mimport\u001b[39;00m combinations\n",
      "\u001b[0;31mImportError\u001b[0m: cannot import name 'PPOAgent' from 'modules.ppo_agent' (/home/kukjin/Projects/HMRL/modules/ppo_agent.py)"
     ]
    }
   ],
   "source": [
    "from pathlib import Path\n",
    "import shutil\n",
    "import time\n",
    "from typing import Dict\n",
    "import random\n",
    "import hydra\n",
    "from hydra.utils import get_original_cwd\n",
    "from omegaconf import OmegaConf, open_dict\n",
    "from torch.utils.tensorboard import SummaryWriter\n",
    "from collections import deque\n",
    "from tqdm import tqdm\n",
    "import wandb\n",
    "import pprint\n",
    "# import gymnasium as gym\n",
    "import gym\n",
    "import numpy as np\n",
    "import torch\n",
    "from torch.linalg import matrix_norm\n",
    "from tensordict.tensordict import TensorDict\n",
    "from modules.ppo_agent import PPOAgent\n",
    "from modules.utils import set_seed, make_envpool_env\n",
    "from itertools import combinations\n",
    "import logging\n",
    "import os\n",
    "import seaborn as sns\n",
    "import matplotlib.pyplot as plt\n",
    "from gym.spaces import Box as GymBox\n",
    "from gym.spaces import Discrete as GymDiscrete\n",
    "from gymnasium.spaces import Box as GymnasiumBox\n",
    "from gymnasium.spaces import Discrete as GymnasiumDiscrete\n"
   ]
  },
  {
   "cell_type": "code",
   "execution_count": 27,
   "metadata": {},
   "outputs": [],
   "source": [
    "from omegaconf import OmegaConf\n",
    "cfg_path = \"/home/kukjin/Projects/HMRL_final/configs/ddppo_trainer.yaml\"\n",
    "nn_cfg_path = \"/home/kukjin/Projects/HMRL_final/configs/nn/ppo_nn.yaml\"\n",
    "ppo_cfg_path = \"/home/kukjin/Projects/HMRL_final/configs/ppo/ppo.yaml\"\n",
    "cfg = OmegaConf.load(cfg_path)\n",
    "nn_cfg = OmegaConf.load(nn_cfg_path)\n",
    "ppo_cfg = OmegaConf.load(ppo_cfg_path)\n",
    "cfg.nn = nn_cfg\n",
    "cfg.ppo = ppo_cfg\n"
   ]
  },
  {
   "cell_type": "code",
   "execution_count": null,
   "metadata": {},
   "outputs": [],
   "source": [
    "from networks.actor"
   ]
  }
 ],
 "metadata": {
  "kernelspec": {
   "display_name": "HMRL",
   "language": "python",
   "name": "python3"
  },
  "language_info": {
   "codemirror_mode": {
    "name": "ipython",
    "version": 3
   },
   "file_extension": ".py",
   "mimetype": "text/x-python",
   "name": "python",
   "nbconvert_exporter": "python",
   "pygments_lexer": "ipython3",
   "version": "3.9.17"
  },
  "orig_nbformat": 4,
  "vscode": {
   "interpreter": {
    "hash": "8719e50d026025b94f58105440f85a6bf990a5dd7b0a32985b3fd4edbc65bfcb"
   }
  }
 },
 "nbformat": 4,
 "nbformat_minor": 2
}
