{
 "cells": [
  {
   "cell_type": "code",
   "execution_count": 189,
   "metadata": {},
   "outputs": [],
   "source": [
    "import torch\n",
    "import torchvision.datasets as dsets\n",
    "import torchvision.transforms as transforms\n",
    "from torch.utils.data import DataLoader\n",
    "import torch.nn as nn\n",
    "import matplotlib.pyplot as plt\n",
    "import random"
   ]
  },
  {
   "cell_type": "code",
   "execution_count": 2,
   "metadata": {},
   "outputs": [],
   "source": [
    "device = 'cuda' if torch.cuda.is_available() else 'cpu'\n",
    "\n",
    "# 랜덤 시드 고정\n",
    "torch.manual_seed(777)\n",
    "\n",
    "# GPU 사용 가능일 경우 랜덤 시드 고정\n",
    "if device == 'cuda':\n",
    "    torch.cuda.manual_seed_all(777)"
   ]
  },
  {
   "cell_type": "code",
   "execution_count": 173,
   "metadata": {},
   "outputs": [],
   "source": [
    "learning_rate = 0.0015\n",
    "training_epochs = 100\n",
    "batch_size = 1024"
   ]
  },
  {
   "cell_type": "code",
   "execution_count": 174,
   "metadata": {},
   "outputs": [],
   "source": [
    "mnist_train = dsets.MNIST(root='MNIST_data/', # 다운로드 경로 지정\n",
    "                          train=True, # True를 지정하면 훈련 데이터로 다운로드\n",
    "                          transform=transforms.ToTensor(), # 텐서로 변환\n",
    "                          download=True)\n",
    "\n",
    "mnist_test = dsets.MNIST(root='MNIST_data/', # 다운로드 경로 지정\n",
    "                         train=False, # False를 지정하면 테스트 데이터로 다운로드\n",
    "                         transform=transforms.ToTensor(), # 텐서로 변환\n",
    "                         download=True)"
   ]
  },
  {
   "cell_type": "code",
   "execution_count": 175,
   "metadata": {},
   "outputs": [],
   "source": [
    "data_loader = torch.utils.data.DataLoader(dataset=mnist_train,\n",
    "                                          batch_size=batch_size,\n",
    "                                          shuffle=True,\n",
    "                                          drop_last=True)"
   ]
  },
  {
   "cell_type": "code",
   "execution_count": 176,
   "metadata": {},
   "outputs": [],
   "source": [
    "def bmm_input(b_weight, b_input):\n",
    "    bmm = torch.einsum('bhwcf, bhwc -> bf', b_weight, b_input)\n",
    "    return bmm"
   ]
  },
  {
   "cell_type": "code",
   "execution_count": 177,
   "metadata": {},
   "outputs": [],
   "source": [
    "import numpy as np"
   ]
  },
  {
   "cell_type": "code",
   "execution_count": 195,
   "metadata": {},
   "outputs": [],
   "source": [
    "H_in = 3\n",
    "H_out = 7\n",
    "gru = nn.GRU(H_in, H_out, \n",
    "            num_layers=3, \n",
    "            batch_first=True, \n",
    "            bias=True,\n",
    "            bidirectional=True)\n",
    "\n",
    "sequence = torch.ones([32, 16, H_in])\n",
    "out, last_hidden = gru(sequence)"
   ]
  },
  {
   "cell_type": "code",
   "execution_count": 196,
   "metadata": {},
   "outputs": [
    {
     "data": {
      "text/plain": [
       "torch.Size([32, 16, 14])"
      ]
     },
     "execution_count": 196,
     "metadata": {},
     "output_type": "execute_result"
    }
   ],
   "source": [
    "out.shape"
   ]
  },
  {
   "cell_type": "code",
   "execution_count": 197,
   "metadata": {},
   "outputs": [
    {
     "data": {
      "text/plain": [
       "torch.Size([6, 32, 7])"
      ]
     },
     "execution_count": 197,
     "metadata": {},
     "output_type": "execute_result"
    }
   ],
   "source": [
    "last_hidden.shape"
   ]
  },
  {
   "cell_type": "code",
   "execution_count": 198,
   "metadata": {},
   "outputs": [],
   "source": [
    "# B = batch_size\n",
    "C = 1\n",
    "D = 64\n",
    "H = 28\n",
    "W = 28\n",
    "class BiLSTM2D(nn.Module):\n",
    "    def __init__(self):\n",
    "        super().__init__()\n",
    "        self.rnn_v = nn.GRU(C, D, \n",
    "                            num_layers=3, \n",
    "                            batch_first=True, \n",
    "                            bias=True,\n",
    "                            bidirectional=True)\n",
    "        self.rnn_h = nn.GRU(C, D, \n",
    "                            num_layers=3, \n",
    "                            batch_first=True, \n",
    "                            bias=True,\n",
    "                            bidirectional=True)\n",
    "        self.fc = nn.Linear(D, 10)\n",
    "        self.relu = nn.ReLU()\n",
    "        self.tanh= nn.Tanh()\n",
    "        \n",
    "    \n",
    "    def forward(self, x):\n",
    "        B = x.size(0)\n",
    "        v, _ = self.rnn_v(x.permute(0, 2, 1, 3).reshape(-1, H, C))\n",
    "        v = v.reshape(B, W, H, -1).permute(0, 2, 1, 3)\n",
    "        h, _ = self.rnn_h(x.reshape(-1, W, C))\n",
    "        h = h.reshape(B, H, W, -1)\n",
    "        weight = torch.cat([v, h], dim=-1)\n",
    "        # print(weight.shape)\n",
    "        weight = weight.reshape(*weight.shape[:-1], C, D, 4)\n",
    "        # print(weight.shape)\n",
    "        weight = weight.mean(dim=-1, keepdim=False)\n",
    "        # print(weight.shape)\n",
    "        hidden = self.relu(bmm_input(weight, x) / np.sqrt(W*H*4*D))\n",
    "        output = self.fc(hidden)\n",
    "        return output\n",
    "\n",
    "net = BiLSTM2D()"
   ]
  },
  {
   "cell_type": "code",
   "execution_count": null,
   "metadata": {},
   "outputs": [],
   "source": []
  },
  {
   "cell_type": "code",
   "execution_count": 199,
   "metadata": {},
   "outputs": [],
   "source": [
    "model = net.to(device)"
   ]
  },
  {
   "cell_type": "code",
   "execution_count": 200,
   "metadata": {},
   "outputs": [
    {
     "name": "stdout",
     "output_type": "stream",
     "text": [
      "350090\n"
     ]
    }
   ],
   "source": [
    "tot = 0\n",
    "for p in model.parameters():\n",
    "    tot += p.numel()\n",
    "print(tot)"
   ]
  },
  {
   "cell_type": "code",
   "execution_count": 202,
   "metadata": {},
   "outputs": [
    {
     "name": "stdout",
     "output_type": "stream",
     "text": [
      "총 배치의 수 : 58\n"
     ]
    }
   ],
   "source": [
    "total_batch = len(data_loader)\n",
    "print('총 배치의 수 : {}'.format(total_batch))"
   ]
  },
  {
   "cell_type": "code",
   "execution_count": 203,
   "metadata": {},
   "outputs": [],
   "source": [
    "criterion = torch.nn.CrossEntropyLoss().to(device)    # 비용 함수에 소프트맥스 함수 포함되어져 있음.\n",
    "optimizer = torch.optim.Adam(model.parameters(), lr=learning_rate)"
   ]
  },
  {
   "cell_type": "code",
   "execution_count": 204,
   "metadata": {},
   "outputs": [],
   "source": [
    "from torch.optim.lr_scheduler import CosineAnnealingLR"
   ]
  },
  {
   "cell_type": "code",
   "execution_count": 205,
   "metadata": {},
   "outputs": [],
   "source": [
    "# scheduler = torch.optim.lr_scheduler.CosineAnnealingLR(optimizer, T_max=training_epochs)"
   ]
  },
  {
   "cell_type": "code",
   "execution_count": 206,
   "metadata": {},
   "outputs": [
    {
     "name": "stdout",
     "output_type": "stream",
     "text": [
      "[Epoch:    1] cost = 2.15227437\n",
      "[Epoch:    2] cost = 1.45587003\n",
      "[Epoch:    3] cost = 0.93947494\n",
      "[Epoch:    4] cost = 0.700246453\n",
      "[Epoch:    5] cost = 0.585037947\n",
      "[Epoch:    6] cost = 0.524441481\n",
      "[Epoch:    7] cost = 0.479747891\n",
      "[Epoch:    8] cost = 0.442286879\n",
      "[Epoch:    9] cost = 0.423628092\n",
      "[Epoch:   10] cost = 0.39700529\n",
      "[Epoch:   11] cost = 0.381915927\n",
      "[Epoch:   12] cost = 0.358758658\n",
      "[Epoch:   13] cost = 0.348491758\n",
      "[Epoch:   14] cost = 0.330974966\n",
      "[Epoch:   15] cost = 0.318025887\n",
      "[Epoch:   16] cost = 0.313875794\n",
      "[Epoch:   17] cost = 0.298003763\n",
      "[Epoch:   18] cost = 0.286440462\n",
      "[Epoch:   19] cost = 0.27933535\n",
      "[Epoch:   20] cost = 0.268930823\n",
      "[Epoch:   21] cost = 0.257924199\n",
      "[Epoch:   22] cost = 0.25085938\n",
      "[Epoch:   23] cost = 0.250856817\n",
      "[Epoch:   24] cost = 0.238276303\n",
      "[Epoch:   25] cost = 0.238250315\n",
      "[Epoch:   26] cost = 0.225388452\n",
      "[Epoch:   27] cost = 0.221100703\n",
      "[Epoch:   28] cost = 0.217042059\n",
      "[Epoch:   29] cost = 0.212202728\n",
      "[Epoch:   30] cost = 0.203576922\n",
      "[Epoch:   31] cost = 0.202772722\n",
      "[Epoch:   32] cost = 0.196436897\n",
      "[Epoch:   33] cost = 0.193025008\n",
      "[Epoch:   34] cost = 0.188515678\n",
      "[Epoch:   35] cost = 0.185103387\n",
      "[Epoch:   36] cost = 0.183705136\n",
      "[Epoch:   37] cost = 0.182637587\n",
      "[Epoch:   38] cost = 0.175053552\n",
      "[Epoch:   39] cost = 0.170870334\n",
      "[Epoch:   40] cost = 0.169372216\n",
      "[Epoch:   41] cost = 0.168635696\n",
      "[Epoch:   42] cost = 0.164591953\n",
      "[Epoch:   43] cost = 0.165197983\n",
      "[Epoch:   44] cost = 0.15805234\n",
      "[Epoch:   45] cost = 0.158507049\n",
      "[Epoch:   46] cost = 0.154132485\n",
      "[Epoch:   47] cost = 0.157511085\n",
      "[Epoch:   48] cost = 0.150472954\n",
      "[Epoch:   49] cost = 0.154187381\n",
      "[Epoch:   50] cost = 0.149833381\n",
      "[Epoch:   51] cost = 0.147095218\n",
      "[Epoch:   52] cost = 0.146320939\n",
      "[Epoch:   53] cost = 0.143250883\n",
      "[Epoch:   54] cost = 0.141235054\n",
      "[Epoch:   55] cost = 0.138217524\n",
      "[Epoch:   56] cost = 0.138339311\n",
      "[Epoch:   57] cost = 0.135372534\n",
      "[Epoch:   58] cost = 0.130940348\n",
      "[Epoch:   59] cost = 0.132174537\n",
      "[Epoch:   60] cost = 0.131069481\n",
      "[Epoch:   61] cost = 0.126038209\n",
      "[Epoch:   62] cost = 0.127954289\n",
      "[Epoch:   63] cost = 0.125004813\n",
      "[Epoch:   64] cost = 0.122505255\n",
      "[Epoch:   65] cost = 0.123462528\n",
      "[Epoch:   66] cost = 0.122425683\n",
      "[Epoch:   67] cost = 0.11858137\n",
      "[Epoch:   68] cost = 0.12020345\n",
      "[Epoch:   69] cost = 0.117762685\n",
      "[Epoch:   70] cost = 0.118198209\n",
      "[Epoch:   71] cost = 0.115854263\n",
      "[Epoch:   72] cost = 0.119208768\n",
      "[Epoch:   73] cost = 0.111935928\n",
      "[Epoch:   74] cost = 0.110106297\n",
      "[Epoch:   75] cost = 0.11004287\n",
      "[Epoch:   76] cost = 0.107756257\n",
      "[Epoch:   77] cost = 0.109185793\n",
      "[Epoch:   78] cost = 0.107196353\n",
      "[Epoch:   79] cost = 0.103986047\n",
      "[Epoch:   80] cost = 0.105670087\n",
      "[Epoch:   81] cost = 0.102364622\n",
      "[Epoch:   82] cost = 0.102183275\n",
      "[Epoch:   83] cost = 0.0989315286\n",
      "[Epoch:   84] cost = 0.0983165726\n",
      "[Epoch:   85] cost = 0.102088399\n",
      "[Epoch:   86] cost = 0.0979960859\n",
      "[Epoch:   87] cost = 0.0964050442\n",
      "[Epoch:   88] cost = 0.0969271213\n",
      "[Epoch:   89] cost = 0.0942612663\n",
      "[Epoch:   90] cost = 0.0953680575\n",
      "[Epoch:   91] cost = 0.0914844349\n",
      "[Epoch:   92] cost = 0.0907251388\n",
      "[Epoch:   93] cost = 0.0924874917\n",
      "[Epoch:   94] cost = 0.0908838362\n",
      "[Epoch:   95] cost = 0.0890041962\n",
      "[Epoch:   96] cost = 0.0880625546\n",
      "[Epoch:   97] cost = 0.08491496\n",
      "[Epoch:   98] cost = 0.0832204372\n",
      "[Epoch:   99] cost = 0.0844345763\n",
      "[Epoch:  100] cost = 0.0845458284\n"
     ]
    }
   ],
   "source": [
    "for epoch in range(training_epochs):\n",
    "    avg_cost = 0\n",
    "\n",
    "    for X, Y in data_loader: # 미니 배치 단위로 꺼내온다. X는 미니 배치, Y느 ㄴ레이블.\n",
    "        # image is already size of (28x28), no reshape\n",
    "        # label is not one-hot encoded\n",
    "        X = X.to(device)\n",
    "        Y = Y.to(device)\n",
    "\n",
    "        optimizer.zero_grad()\n",
    "        hypothesis = model(X)\n",
    "        cost = criterion(hypothesis, Y)\n",
    "        cost.backward()\n",
    "        optimizer.step()\n",
    "\n",
    "        avg_cost += cost / total_batch\n",
    "    # scheduler.step()\n",
    "    print('[Epoch: {:>4}] cost = {:>.9}'.format(epoch + 1, avg_cost))"
   ]
  },
  {
   "cell_type": "code",
   "execution_count": 186,
   "metadata": {},
   "outputs": [
    {
     "name": "stdout",
     "output_type": "stream",
     "text": [
      "Accuracy: 0.242000013589859\n"
     ]
    }
   ],
   "source": [
    "with torch.no_grad():\n",
    "    X_test = mnist_test.test_data.view(len(mnist_test), 1, 28, 28).float().to(device)\n",
    "    Y_test = mnist_test.test_labels.to(device)\n",
    "    X_test = X_test[:1000]\n",
    "    Y_test = Y_test[:1000]\n",
    "    prediction = model(X_test)\n",
    "    correct_prediction = torch.argmax(prediction, 1) == Y_test\n",
    "    accuracy = correct_prediction.float().mean()\n",
    "    print('Accuracy:', accuracy.item())"
   ]
  },
  {
   "cell_type": "code",
   "execution_count": 283,
   "metadata": {},
   "outputs": [],
   "source": [
    "conv = nn.Conv2d(in_channels=4,\n",
    "          out_channels=512,\n",
    "          kernel_size=64,\n",
    "          stride=1,\n",
    "          bias=False)"
   ]
  },
  {
   "cell_type": "code",
   "execution_count": 284,
   "metadata": {},
   "outputs": [
    {
     "data": {
      "text/plain": [
       "torch.Size([512, 4, 64, 64])"
      ]
     },
     "execution_count": 284,
     "metadata": {},
     "output_type": "execute_result"
    }
   ],
   "source": [
    "conv.weight.shape"
   ]
  },
  {
   "cell_type": "code",
   "execution_count": 285,
   "metadata": {},
   "outputs": [
    {
     "data": {
      "text/plain": [
       "278528"
      ]
     },
     "execution_count": 285,
     "metadata": {},
     "output_type": "execute_result"
    }
   ],
   "source": [
    "17*4*64*64"
   ]
  },
  {
   "cell_type": "code",
   "execution_count": 286,
   "metadata": {},
   "outputs": [
    {
     "data": {
      "text/plain": [
       "8388608"
      ]
     },
     "execution_count": 286,
     "metadata": {},
     "output_type": "execute_result"
    }
   ],
   "source": [
    "np.prod(conv.weight.shape)"
   ]
  },
  {
   "cell_type": "code",
   "execution_count": 266,
   "metadata": {},
   "outputs": [
    {
     "data": {
      "text/plain": [
       "torch.Size([7, 4, 64, 64])"
      ]
     },
     "execution_count": 266,
     "metadata": {},
     "output_type": "execute_result"
    }
   ],
   "source": [
    "obs = torch.randn([7, 4, 64, 64])\n",
    "obs.shape"
   ]
  },
  {
   "cell_type": "code",
   "execution_count": 267,
   "metadata": {},
   "outputs": [
    {
     "data": {
      "text/plain": [
       "torch.Size([7, 512, 32, 32])"
      ]
     },
     "execution_count": 267,
     "metadata": {},
     "output_type": "execute_result"
    }
   ],
   "source": [
    "hidden = conv(obs)\n",
    "hidden.shape"
   ]
  },
  {
   "cell_type": "code",
   "execution_count": null,
   "metadata": {},
   "outputs": [],
   "source": []
  },
  {
   "cell_type": "code",
   "execution_count": 280,
   "metadata": {},
   "outputs": [],
   "source": [
    "network = nn.Sequential(\n",
    "            nn.Conv2d(4, 32, 8, stride=4),\n",
    "            nn.ReLU(),\n",
    "            nn.Conv2d(32, 64, 4, stride=2),\n",
    "            nn.ReLU(),\n",
    "            nn.Conv2d(64, 64, 3, stride=1),\n",
    "            nn.ReLU(),\n",
    "            nn.Flatten(),\n",
    "            # nn.Linear(64 * 7 * 7, 512),\n",
    "            nn.ReLU(),\n",
    "        )"
   ]
  },
  {
   "cell_type": "code",
   "execution_count": 281,
   "metadata": {},
   "outputs": [
    {
     "name": "stdout",
     "output_type": "stream",
     "text": [
      "77984\n"
     ]
    }
   ],
   "source": [
    "tot = 0\n",
    "for p in network.parameters():\n",
    "    tot += p.numel()\n",
    "print(tot)"
   ]
  },
  {
   "cell_type": "code",
   "execution_count": 282,
   "metadata": {},
   "outputs": [
    {
     "data": {
      "text/plain": [
       "1606144"
      ]
     },
     "execution_count": 282,
     "metadata": {},
     "output_type": "execute_result"
    }
   ],
   "source": [
    "1684128 - 77984"
   ]
  },
  {
   "cell_type": "code",
   "execution_count": null,
   "metadata": {},
   "outputs": [],
   "source": [
    "CNN: 77984\n",
    "FC: 1606144"
   ]
  }
 ],
 "metadata": {
  "kernelspec": {
   "display_name": "test_env",
   "language": "python",
   "name": "python3"
  },
  "language_info": {
   "codemirror_mode": {
    "name": "ipython",
    "version": 3
   },
   "file_extension": ".py",
   "mimetype": "text/x-python",
   "name": "python",
   "nbconvert_exporter": "python",
   "pygments_lexer": "ipython3",
   "version": "3.10.9"
  },
  "orig_nbformat": 4,
  "vscode": {
   "interpreter": {
    "hash": "a7ee91ee17640122f02738ad5b71799946a97252eaa170610250681b99b684d6"
   }
  }
 },
 "nbformat": 4,
 "nbformat_minor": 2
}
