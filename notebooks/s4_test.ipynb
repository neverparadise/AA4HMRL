{
 "cells": [
  {
   "cell_type": "code",
   "execution_count": 1,
   "metadata": {},
   "outputs": [],
   "source": [
    "from collections import defaultdict\n",
    "from functools import partial\n",
    "from pathlib import Path\n",
    "import shutil\n",
    "import sys\n",
    "import time\n",
    "from typing import Any, Dict, Optional, Tuple, OrderedDict\n",
    "import random\n",
    "import hydra\n",
    "from hydra.utils import instantiate\n",
    "from hydra.utils import get_original_cwd, to_absolute_path\n",
    "from omegaconf import DictConfig, OmegaConf, open_dict\n",
    "from torch.utils.tensorboard import SummaryWriter\n",
    "from collections import deque\n",
    "from tqdm import tqdm\n",
    "import wandb\n",
    "import ray\n",
    "\n",
    "import envpool\n",
    "# import gymnasium as gym\n",
    "import gym\n",
    "from gym.spaces import Box, Discrete\n",
    "from gym.spaces.dict import Dict as GymDict\n",
    "import numpy as np\n",
    "import torch\n",
    "import torch.nn as nn\n",
    "import torch.optim as optim"
   ]
  },
  {
   "cell_type": "code",
   "execution_count": 3,
   "metadata": {},
   "outputs": [],
   "source": [
    "from modules.networks.blocks import S4Layer"
   ]
  },
  {
   "cell_type": "code",
   "execution_count": null,
   "metadata": {},
   "outputs": [],
   "source": []
  },
  {
   "cell_type": "code",
   "execution_count": 2,
   "metadata": {},
   "outputs": [],
   "source": [
    "import torch\n",
    "# from src.models.sequence.modules.s4block import S4Block\n",
    "from models.s4.s4 import S4Block\n",
    "s4_block = S4Block(\n",
    "        d_model=32,\n",
    "        bottleneck=None,\n",
    "        gate=None,\n",
    "        gate_act=\"id\",\n",
    "        mult_act=None,\n",
    "        final_act=\"tanh\",\n",
    "        postact=None,\n",
    "        initializer='uniform',\n",
    "        weight_norm=False,\n",
    "        dropout=0.1,\n",
    "        tie_dropout=False,\n",
    "        transposed=False,\n",
    "                        )"
   ]
  },
  {
   "cell_type": "code",
   "execution_count": 1,
   "metadata": {},
   "outputs": [
    {
     "name": "stdout",
     "output_type": "stream",
     "text": [
      "[KeOps] Warning : Cuda libraries were not detected on the system ; using cpu only mode\n"
     ]
    }
   ],
   "source": [
    "from modules.networks.s4 import S4Model"
   ]
  },
  {
   "cell_type": "code",
   "execution_count": null,
   "metadata": {},
   "outputs": [],
   "source": []
  },
  {
   "cell_type": "code",
   "execution_count": 5,
   "metadata": {},
   "outputs": [],
   "source": [
    "model = S4Model(\n",
    "    d_input=1,\n",
    "    # d_output=32,\n",
    "    d_model=64,\n",
    "    n_layers=1,\n",
    "    dropout=0.1,\n",
    "    # prenorm=args.prenorm,\n",
    ").to('cuda:4')"
   ]
  },
  {
   "cell_type": "code",
   "execution_count": 6,
   "metadata": {},
   "outputs": [
    {
     "data": {
      "text/plain": [
       "16896"
      ]
     },
     "execution_count": 6,
     "metadata": {},
     "output_type": "execute_result"
    }
   ],
   "source": [
    "total_params = 0\n",
    "for name, p in model.named_parameters():\n",
    "    total_params += p.numel()\n",
    "total_params"
   ]
  },
  {
   "cell_type": "code",
   "execution_count": 5,
   "metadata": {},
   "outputs": [
    {
     "name": "stdout",
     "output_type": "stream",
     "text": [
      "torch.Size([55, 17, 32])\n"
     ]
    }
   ],
   "source": [
    "a = torch.ones([55, 17, 1])\n",
    "b = model(a)\n",
    "print(b.shape)"
   ]
  },
  {
   "cell_type": "code",
   "execution_count": 6,
   "metadata": {},
   "outputs": [],
   "source": [
    "cfg_path = \"/home/kukjin/kukjin/Projects/MultiEnvRL/DARL_transformer/configs/ppo_trainer.yaml\"\n",
    "nn_cfg_path = \"/home/kukjin/kukjin/Projects/MultiEnvRL/DARL_transformer/configs/nn/nn.yaml\"\n",
    "ppo_cfg_path = \"/home/kukjin/kukjin/Projects/MultiEnvRL/DARL_transformer/configs/ppo/ppo.yaml\""
   ]
  },
  {
   "cell_type": "code",
   "execution_count": 7,
   "metadata": {},
   "outputs": [
    {
     "data": {
      "text/plain": [
       "{'defaults': [{'ppo': 'ppo'}, {'nn': 'nn'}, '_self_'], 'hydra': {'run': {'dir': 'outputs/${now:%Y-%m-%d/%H-%M-%S}'}}, 'experiment': {'env_ids': ['HalfCheetah-v4'], 'seed': 42, 'max_episode_steps': 1000, 'num_rollout_steps': 128, 'num_train_envs': 64, 'num_envs': 64, 'total_timesteps': 10000000, 'save_ckpt': False, 'num_checkpoints': 20, 'print_interval': 100, 'stop_after_epochs': 500, 'capture_video': False, 'device': 0, 'cuda': True, 'torch_deterministic': True, 'resume': False, 'resume_update_idx': 0, 'resume_dir': 'None'}, 'evaluation': {'eval_seed': 3142, 'every': 8, 'num_eval': 5, 'num_test_envs': 5}, 'wandb': {'mode': 'online', 'project': 'DomainAgnosticRL', 'entity': None, 'name': None, 'group': None, 'tags': None, 'notes': None}, 'paths': {'dir': 'outputs/${now:%Y-%m-%d/%H-%M-%S}', 'log': 'outputs/${now:%Y-%m-%d/%H-%M-%S}/runs', 'video': 'outputs/${now:%Y-%m-%d/%H-%M-%S}/videos', 'checkpoints': 'outputs/${now:%Y-%m-%d/%H-%M-%S}/checkpoints', 'src': 'outputs/${now:%Y-%m-%d/%H-%M-%S}/src', 'scripts': 'outputs/${now:%Y-%m-%d/%H-%M-%S}/scripts'}, 'nn': {'lr': {'actor': 0.0001, 'critic': 0.0005}, 'weight_decay': {'actor': 0.0, 'critic': 0.0}, 'encoder_transformer': {'embed_net': 'rnn', 'd_model': 128, 'final_activation': 'identity', 'initializer': 'uniform', 'dropout': 0.2, 'dim_feedforward': 128, 'num_heads': 1, 's4_num_layers': 1, 'num_encoder_layers': 1, 'transformer_activation': 'gelu', 'bmm_activation': 'tanh'}, 'decoder_transformer': {'embed_net': 'rnn', 'final_activation': 'identity', 'initializer': 'uniform', 'dropout': 0.2, 'dim_feedforward': 128, 'num_heads': 1, 's4_num_layers': 1, 'num_encoder_layers': 1, 'transformer_activation': 'gelu', 'bmm_activation': 'tanh'}}, 'ppo': {'clip_logstd': False, 'clip_logstd_max': 3, 'clip_logstd_min': -5, 'anneal_lr': False, 'update_epochs': 10, 'num_minibatches': 8, 'batch_size': 'None', 'minibatch_size': 'None', 'max_grad_norm': 0.5, 'norm_adv': True, 'const_coef': 0.0, 'clip_coef': 0.2, 'clip_vloss': True, 'ent_coef': 0.0, 'vf_coef': 0.5, 'gamma': 0.99, 'gae_lambda': 0.95}}"
      ]
     },
     "execution_count": 7,
     "metadata": {},
     "output_type": "execute_result"
    }
   ],
   "source": [
    "cfg = OmegaConf.load(cfg_path)\n",
    "nn_cfg = OmegaConf.load(nn_cfg_path)\n",
    "ppo_cfg = OmegaConf.load(ppo_cfg_path)\n",
    "cfg.nn = nn_cfg\n",
    "cfg.ppo = ppo_cfg\n",
    "cfg"
   ]
  },
  {
   "cell_type": "code",
   "execution_count": 8,
   "metadata": {},
   "outputs": [],
   "source": [
    "from modules.networks.weight_generator import S4EncoderTransformer, S4DecoderTransformer\n",
    "from modules.networks.weight_generator import RNNEncoderTransformer, RNNDecoderTransformer\n",
    "\n",
    "\n"
   ]
  },
  {
   "cell_type": "code",
   "execution_count": 9,
   "metadata": {},
   "outputs": [],
   "source": [
    "s4_encoder_transformer = S4EncoderTransformer(cfg)\n",
    "s4_decoder_transformer = S4DecoderTransformer(cfg)\n",
    "rnn_encoder_transformer = RNNEncoderTransformer(cfg)\n",
    "rnn_decoder_transformer = RNNDecoderTransformer(cfg)\n"
   ]
  },
  {
   "cell_type": "code",
   "execution_count": 10,
   "metadata": {},
   "outputs": [
    {
     "data": {
      "text/plain": [
       "torch.Size([32, 17, 128])"
      ]
     },
     "execution_count": 10,
     "metadata": {},
     "output_type": "execute_result"
    }
   ],
   "source": [
    "obs = torch.ones([32, 17])\n",
    "out, _ = rnn_encoder_transformer(obs)\n",
    "out.shape\n"
   ]
  },
  {
   "cell_type": "code",
   "execution_count": 11,
   "metadata": {},
   "outputs": [
    {
     "name": "stdout",
     "output_type": "stream",
     "text": [
      "torch.Size([32, 17, 128])\n"
     ]
    }
   ],
   "source": [
    "out, _ = s4_encoder_transformer(obs)\n",
    "print(out.shape)"
   ]
  },
  {
   "cell_type": "code",
   "execution_count": null,
   "metadata": {},
   "outputs": [],
   "source": []
  }
 ],
 "metadata": {
  "kernelspec": {
   "display_name": "HMRL",
   "language": "python",
   "name": "python3"
  },
  "language_info": {
   "codemirror_mode": {
    "name": "ipython",
    "version": 3
   },
   "file_extension": ".py",
   "mimetype": "text/x-python",
   "name": "python",
   "nbconvert_exporter": "python",
   "pygments_lexer": "ipython3",
   "version": "3.9.17"
  },
  "orig_nbformat": 4,
  "vscode": {
   "interpreter": {
    "hash": "8719e50d026025b94f58105440f85a6bf990a5dd7b0a32985b3fd4edbc65bfcb"
   }
  }
 },
 "nbformat": 4,
 "nbformat_minor": 2
}
