{
 "cells": [
  {
   "cell_type": "code",
   "execution_count": 1,
   "metadata": {},
   "outputs": [],
   "source": [
    "import envpool\n",
    "# import gymnasium as gym\n",
    "import gym"
   ]
  },
  {
   "cell_type": "code",
   "execution_count": 2,
   "metadata": {},
   "outputs": [],
   "source": [
    "import argparse\n",
    "import os\n",
    "import random\n",
    "import time\n",
    "from collections import deque\n",
    "from distutils.util import strtobool"
   ]
  },
  {
   "cell_type": "code",
   "execution_count": 3,
   "metadata": {},
   "outputs": [
    {
     "name": "stderr",
     "output_type": "stream",
     "text": [
      "/home/kukjin/.conda/envs/test_env/lib/python3.10/site-packages/torch/utils/tensorboard/__init__.py:4: DeprecationWarning: distutils Version classes are deprecated. Use packaging.version instead.\n",
      "  if not hasattr(tensorboard, \"__version__\") or LooseVersion(\n"
     ]
    }
   ],
   "source": [
    "import numpy as np\n",
    "import torch\n",
    "import torch.nn as nn\n",
    "import torch.optim as optim\n",
    "from torch.distributions.categorical import Categorical\n",
    "from torch.utils.tensorboard import SummaryWriter"
   ]
  },
  {
   "cell_type": "code",
   "execution_count": 4,
   "metadata": {},
   "outputs": [],
   "source": [
    "from typing import Any, Dict, Optional, Tuple\n",
    "from gym.spaces import Box, Discrete\n"
   ]
  },
  {
   "cell_type": "code",
   "execution_count": 236,
   "metadata": {},
   "outputs": [],
   "source": [
    "class FlattenObsWrapper(gym.Wrapper):\n",
    "    def __init__(self, env):\n",
    "        if isinstance(type(env.observation_space), Dict):\n",
    "            size, highs, lows = self.get_obs_space(env.observation_space)\n",
    "            self.observation_space = Box(low=lows, high=highs)\n",
    "        \n",
    "    def reset(self, **kwargs):\n",
    "        observations = super().reset(**kwargs)\n",
    "        if isinstance(type(observations, Dict)):\n",
    "            observations =  self.flatten_dict(observations)\n",
    "        return observations\n",
    "    \n",
    "    def step(self, action):\n",
    "        observations, rewards, dones, infos = super().step(action)\n",
    "        if isinstance(type(observations, Dict)):\n",
    "            observations = self.flatten_dict(observations)\n",
    "        return (\n",
    "            observations,\n",
    "            rewards,\n",
    "            dones,\n",
    "            infos,\n",
    "        )\n",
    "    \n",
    "    def flatten_dict(self, obs):\n",
    "        obs_pieces = []\n",
    "        for v in obs.values():\n",
    "            flat = np.array([v]) if np.isscalar(v) else v.ravel()\n",
    "            obs_pieces.append(flat)\n",
    "        return np.concatenate(obs_pieces, axis=-1)\n",
    "\n",
    "    def get_obs_space(self, observation_space):\n",
    "        shapes = []\n",
    "        highs = []\n",
    "        lows = []\n",
    "        for key, box in observation_space.items():\n",
    "            shapes.append(box.shape)\n",
    "            highs.append(box.high)\n",
    "            lows.append(box.low)\n",
    "        size = (np.sum(shapes, dtype=np.int32))\n",
    "        highs = np.concatenate(highs, axis=-1)\n",
    "        lows = np.concatenate(lows, axis=-1)        \n",
    "        return size, highs, lows\n",
    "    \n",
    "class RecordEpisodeStatistics(gym.Wrapper):\n",
    "    def __init__(self, env, deque_size=100):\n",
    "        super().__init__(env)\n",
    "        self.num_envs = getattr(env, \"num_envs\", 1)\n",
    "        self.episode_returns = None\n",
    "        self.episode_lengths = None\n",
    "\n",
    "    def reset(self, **kwargs):\n",
    "        observations = super().reset(**kwargs)\n",
    "        self.episode_returns = np.zeros(self.num_envs, dtype=np.float32)\n",
    "        self.episode_lengths = np.zeros(self.num_envs, dtype=np.int32)\n",
    "        self.lives = np.zeros(self.num_envs, dtype=np.int32)\n",
    "        self.returned_episode_returns = np.zeros(self.num_envs, dtype=np.float32)\n",
    "        self.returned_episode_lengths = np.zeros(self.num_envs, dtype=np.int32)\n",
    "        return observations\n",
    "\n",
    "    def step(self, action):\n",
    "        observations, rewards, dones, infos = super().step(action)\n",
    "        self.episode_returns += rewards #infos[\"reward\"]\n",
    "        self.episode_lengths += 1\n",
    "        self.returned_episode_returns[:] = self.episode_returns\n",
    "        self.returned_episode_lengths[:] = self.episode_lengths\n",
    "        self.episode_returns *= 1 - dones # infos[\"terminated\"]\n",
    "        self.episode_lengths *= 1 - dones # infos[\"terminated\"]\n",
    "        infos[\"r\"] = self.returned_episode_returns\n",
    "        infos[\"l\"] = self.returned_episode_lengths\n",
    "        return (\n",
    "            observations,\n",
    "            rewards,\n",
    "            dones,\n",
    "            infos,\n",
    "        )"
   ]
  },
  {
   "cell_type": "code",
   "execution_count": 237,
   "metadata": {},
   "outputs": [],
   "source": [
    "from typing import Any, Dict, Optional, Tuple, OrderedDict\n",
    "from gym.spaces.dict import Dict as GymDict"
   ]
  },
  {
   "cell_type": "code",
   "execution_count": 255,
   "metadata": {},
   "outputs": [],
   "source": [
    "class FlattenRecordEpisodeStatistics(gym.Wrapper):\n",
    "    def __init__(self, env, deque_size=100):\n",
    "        super().__init__(env)\n",
    "        # print(f\"env obs space type:{type(env.observation_space)}\")\n",
    "        if isinstance(env.observation_space, GymDict) or \\\n",
    "            isinstance(env.observation_space, Dict) or \\\n",
    "            isinstance(env.observation_space, OrderedDict):\n",
    "        # if type(env.observation_space) == GymDict or \\\n",
    "            # type(env.observation_space) == Dict or \\\n",
    "            # type(env.observation_space) == dict or \\\n",
    "            #  type(env.observation_space) == OrderedDict :\n",
    "            size, highs, lows = self.get_obs_space(env.observation_space)\n",
    "            self.observation_space = Box(low=lows, high=highs)\n",
    "            # print(\"observation is changed\")\n",
    "        self.num_envs = getattr(env, \"num_envs\", 1)\n",
    "        self.episode_returns = None\n",
    "        self.episode_lengths = None\n",
    "\n",
    "    def reset(self, **kwargs):\n",
    "        observations = super().reset(**kwargs)\n",
    "        # if type(observations) == dict or \\\n",
    "        #     type(observations) == Dict or \\\n",
    "        #     type(observations) == GymDict or \\\n",
    "        #           type(observations) == OrderedDict: \n",
    "        if isinstance(observations, Dict) or \\\n",
    "            isinstance(observations, GymDict) or \\\n",
    "                isinstance(observations, OrderedDict):\n",
    "            observations =  self.flatten_dict(observations)\n",
    "        self.episode_returns = np.zeros(self.num_envs, dtype=np.float32)\n",
    "        self.episode_lengths = np.zeros(self.num_envs, dtype=np.int32)\n",
    "        self.lives = np.zeros(self.num_envs, dtype=np.int32)\n",
    "        self.returned_episode_returns = np.zeros(self.num_envs, dtype=np.float32)\n",
    "        self.returned_episode_lengths = np.zeros(self.num_envs, dtype=np.int32)\n",
    "        return observations\n",
    "\n",
    "    def step(self, action):\n",
    "        observations, rewards, dones, infos = super().step(action)\n",
    "        # if type(observations) == dict or \\\n",
    "            # type(observations) == GymDict or \\\n",
    "            # type(observations) == Dict or \\\n",
    "            #  type(observations) == OrderedDict :\n",
    "        if isinstance(observations, Dict) or \\\n",
    "            isinstance(observations, GymDict) or \\\n",
    "                isinstance(observations, OrderedDict):\n",
    "            observations = self.flatten_dict(observations)\n",
    "        self.episode_returns += rewards #infos[\"reward\"]\n",
    "        self.episode_lengths += 1\n",
    "        self.returned_episode_returns[:] = self.episode_returns\n",
    "        self.returned_episode_lengths[:] = self.episode_lengths\n",
    "        self.episode_returns *= 1 - dones # infos[\"terminated\"]\n",
    "        self.episode_lengths *= 1 - dones # infos[\"terminated\"]\n",
    "        infos[\"r\"] = self.returned_episode_returns\n",
    "        infos[\"l\"] = self.returned_episode_lengths\n",
    "        return (\n",
    "            observations,\n",
    "            rewards,\n",
    "            dones,\n",
    "            infos,\n",
    "        )\n",
    "        \n",
    "    def flatten_dict(self, obs):\n",
    "        obs_pieces = []\n",
    "        for v in obs.values():\n",
    "            flat = np.array([v]) if np.isscalar(v) else v.ravel()\n",
    "            obs_pieces.append(flat)\n",
    "        return np.concatenate(obs_pieces, axis=-1)\n",
    "\n",
    "    def get_obs_space(self, observation_space):\n",
    "        shapes = []\n",
    "        highs = []\n",
    "        lows = []\n",
    "        for key, box in observation_space.items():\n",
    "            if len(box.shape) == 0:\n",
    "                shapes.append(1)\n",
    "                # highs.append(np.expand_dims(box.high, axis=-1))\n",
    "                # lows.append(np.expand_dims(box.low, axis=-1))\n",
    "                highs += [*box.high]\n",
    "                lows += [*box.low]\n",
    "            elif len(box.shape) == 1:\n",
    "                shapes += [*box.shape]\n",
    "                highs += [*box.high]\n",
    "                lows += [*box.low]\n",
    "            elif len(box.shape) > 1:\n",
    "                print(box)\n",
    "                shapes += [np.prod(box.shape)]\n",
    "                highs += [*(box.high.reshape(-1))]\n",
    "                lows += [*(box.low.reshape(-1))]\n",
    "        print(shapes)\n",
    "        print(highs)\n",
    "        print(lows)\n",
    "        size = (np.sum(shapes, dtype=np.int32))\n",
    "        highs = np.array(highs)\n",
    "        lows = np.array(lows)        \n",
    "        return size, highs, lows\n",
    "\n"
   ]
  },
  {
   "cell_type": "code",
   "execution_count": 256,
   "metadata": {},
   "outputs": [
    {
     "data": {
      "text/plain": [
       "['Adventure-v5',\n",
       " 'AirRaid-v5',\n",
       " 'Alien-v5',\n",
       " 'Amidar-v5',\n",
       " 'Assault-v5',\n",
       " 'Asterix-v5',\n",
       " 'Asteroids-v5',\n",
       " 'Atlantis-v5',\n",
       " 'Atlantis2-v5',\n",
       " 'Backgammon-v5',\n",
       " 'BankHeist-v5',\n",
       " 'BasicMath-v5',\n",
       " 'BattleZone-v5',\n",
       " 'BeamRider-v5',\n",
       " 'Berzerk-v5',\n",
       " 'Blackjack-v5',\n",
       " 'Bowling-v5',\n",
       " 'Boxing-v5',\n",
       " 'Breakout-v5',\n",
       " 'Carnival-v5',\n",
       " 'Casino-v5',\n",
       " 'Centipede-v5',\n",
       " 'ChopperCommand-v5',\n",
       " 'CrazyClimber-v5',\n",
       " 'Crossbow-v5',\n",
       " 'Darkchambers-v5',\n",
       " 'Defender-v5',\n",
       " 'DemonAttack-v5',\n",
       " 'DonkeyKong-v5',\n",
       " 'DoubleDunk-v5',\n",
       " 'Earthworld-v5',\n",
       " 'ElevatorAction-v5',\n",
       " 'Enduro-v5',\n",
       " 'Entombed-v5',\n",
       " 'Et-v5',\n",
       " 'FishingDerby-v5',\n",
       " 'FlagCapture-v5',\n",
       " 'Freeway-v5',\n",
       " 'Frogger-v5',\n",
       " 'Frostbite-v5',\n",
       " 'Galaxian-v5',\n",
       " 'Gopher-v5',\n",
       " 'Gravitar-v5',\n",
       " 'Hangman-v5',\n",
       " 'HauntedHouse-v5',\n",
       " 'Hero-v5',\n",
       " 'HumanCannonball-v5',\n",
       " 'IceHockey-v5',\n",
       " 'Jamesbond-v5',\n",
       " 'JourneyEscape-v5',\n",
       " 'Kaboom-v5',\n",
       " 'Kangaroo-v5',\n",
       " 'KeystoneKapers-v5',\n",
       " 'KingKong-v5',\n",
       " 'Klax-v5',\n",
       " 'Koolaid-v5',\n",
       " 'Krull-v5',\n",
       " 'KungFuMaster-v5',\n",
       " 'LaserGates-v5',\n",
       " 'LostLuggage-v5',\n",
       " 'MarioBros-v5',\n",
       " 'MiniatureGolf-v5',\n",
       " 'MontezumaRevenge-v5',\n",
       " 'MrDo-v5',\n",
       " 'MsPacman-v5',\n",
       " 'NameThisGame-v5',\n",
       " 'Othello-v5',\n",
       " 'Pacman-v5',\n",
       " 'Phoenix-v5',\n",
       " 'Pitfall-v5',\n",
       " 'Pitfall2-v5',\n",
       " 'Pong-v5',\n",
       " 'Pooyan-v5',\n",
       " 'PrivateEye-v5',\n",
       " 'Qbert-v5',\n",
       " 'Riverraid-v5',\n",
       " 'RoadRunner-v5',\n",
       " 'Robotank-v5',\n",
       " 'Seaquest-v5',\n",
       " 'SirLancelot-v5',\n",
       " 'Skiing-v5',\n",
       " 'Solaris-v5',\n",
       " 'SpaceInvaders-v5',\n",
       " 'SpaceWar-v5',\n",
       " 'StarGunner-v5',\n",
       " 'Superman-v5',\n",
       " 'Surround-v5',\n",
       " 'Tennis-v5',\n",
       " 'Tetris-v5',\n",
       " 'TicTacToe3d-v5',\n",
       " 'TimePilot-v5',\n",
       " 'Trondead-v5',\n",
       " 'Turmoil-v5',\n",
       " 'Tutankham-v5',\n",
       " 'UpNDown-v5',\n",
       " 'Venture-v5',\n",
       " 'VideoCheckers-v5',\n",
       " 'VideoChess-v5',\n",
       " 'VideoCube-v5',\n",
       " 'VideoPinball-v5',\n",
       " 'WizardOfWor-v5',\n",
       " 'WordZapper-v5',\n",
       " 'YarsRevenge-v5',\n",
       " 'Zaxxon-v5',\n",
       " 'CarRacing-v2',\n",
       " 'BipedalWalker-v3',\n",
       " 'BipedalWalkerHardcore-v3',\n",
       " 'LunarLander-v2',\n",
       " 'LunarLanderContinuous-v2',\n",
       " 'CartPole-v0',\n",
       " 'CartPole-v1',\n",
       " 'Pendulum-v0',\n",
       " 'Pendulum-v1',\n",
       " 'MountainCar-v0',\n",
       " 'MountainCarContinuous-v0',\n",
       " 'Acrobot-v1',\n",
       " 'AcrobotSwingup-v1',\n",
       " 'AcrobotSwingupSparse-v1',\n",
       " 'BallInCupCatch-v1',\n",
       " 'CartpoleBalance-v1',\n",
       " 'CartpoleBalanceSparse-v1',\n",
       " 'CartpoleSwingup-v1',\n",
       " 'CartpoleSwingupSparse-v1',\n",
       " 'CartpoleThreePoles-v1',\n",
       " 'CartpoleTwoPoles-v1',\n",
       " 'CheetahRun-v1',\n",
       " 'FingerSpin-v1',\n",
       " 'FingerTurnEasy-v1',\n",
       " 'FingerTurnHard-v1',\n",
       " 'FishSwim-v1',\n",
       " 'FishUpright-v1',\n",
       " 'HopperHop-v1',\n",
       " 'HopperStand-v1',\n",
       " 'HumanoidRun-v1',\n",
       " 'HumanoidRunPureState-v1',\n",
       " 'HumanoidStand-v1',\n",
       " 'HumanoidWalk-v1',\n",
       " 'HumanoidCMURun-v1',\n",
       " 'HumanoidCMUStand-v1',\n",
       " 'ManipulatorBringBall-v1',\n",
       " 'ManipulatorBringPeg-v1',\n",
       " 'ManipulatorInsertBall-v1',\n",
       " 'ManipulatorInsertPeg-v1',\n",
       " 'PendulumSwingup-v1',\n",
       " 'PointMassEasy-v1',\n",
       " 'PointMassHard-v1',\n",
       " 'ReacherEasy-v1',\n",
       " 'ReacherHard-v1',\n",
       " 'SwimmerSwimmer6-v1',\n",
       " 'SwimmerSwimmer15-v1',\n",
       " 'WalkerRun-v1',\n",
       " 'WalkerStand-v1',\n",
       " 'WalkerWalk-v1',\n",
       " 'Ant-v3',\n",
       " 'Ant-v4',\n",
       " 'HalfCheetah-v3',\n",
       " 'HalfCheetah-v4',\n",
       " 'Hopper-v3',\n",
       " 'Hopper-v4',\n",
       " 'Humanoid-v3',\n",
       " 'Humanoid-v4',\n",
       " 'HumanoidStandup-v2',\n",
       " 'HumanoidStandup-v4',\n",
       " 'InvertedDoublePendulum-v2',\n",
       " 'InvertedDoublePendulum-v4',\n",
       " 'InvertedPendulum-v2',\n",
       " 'InvertedPendulum-v4',\n",
       " 'Pusher-v2',\n",
       " 'Pusher-v4',\n",
       " 'Reacher-v2',\n",
       " 'Reacher-v4',\n",
       " 'Swimmer-v3',\n",
       " 'Swimmer-v4',\n",
       " 'Walker2d-v3',\n",
       " 'Walker2d-v4',\n",
       " 'BigfishEasy-v0',\n",
       " 'BigfishHard-v0',\n",
       " 'BossfightEasy-v0',\n",
       " 'BossfightHard-v0',\n",
       " 'CaveflyerEasy-v0',\n",
       " 'CaveflyerHard-v0',\n",
       " 'CaveflyerMemory-v0',\n",
       " 'ChaserEasy-v0',\n",
       " 'ChaserHard-v0',\n",
       " 'ChaserExtreme-v0',\n",
       " 'ClimberEasy-v0',\n",
       " 'ClimberHard-v0',\n",
       " 'CoinrunEasy-v0',\n",
       " 'CoinrunHard-v0',\n",
       " 'DodgeballEasy-v0',\n",
       " 'DodgeballHard-v0',\n",
       " 'DodgeballExtreme-v0',\n",
       " 'DodgeballMemory-v0',\n",
       " 'FruitbotEasy-v0',\n",
       " 'FruitbotHard-v0',\n",
       " 'HeistEasy-v0',\n",
       " 'HeistHard-v0',\n",
       " 'HeistMemory-v0',\n",
       " 'JumperEasy-v0',\n",
       " 'JumperHard-v0',\n",
       " 'JumperMemory-v0',\n",
       " 'LeaperEasy-v0',\n",
       " 'LeaperHard-v0',\n",
       " 'LeaperExtreme-v0',\n",
       " 'MazeEasy-v0',\n",
       " 'MazeHard-v0',\n",
       " 'MazeMemory-v0',\n",
       " 'MinerEasy-v0',\n",
       " 'MinerHard-v0',\n",
       " 'MinerMemory-v0',\n",
       " 'NinjaEasy-v0',\n",
       " 'NinjaHard-v0',\n",
       " 'PlunderEasy-v0',\n",
       " 'PlunderHard-v0',\n",
       " 'StarpilotEasy-v0',\n",
       " 'StarpilotHard-v0',\n",
       " 'StarpilotExtreme-v0',\n",
       " 'Catch-v0',\n",
       " 'FrozenLake-v1',\n",
       " 'FrozenLake8x8-v1',\n",
       " 'Taxi-v3',\n",
       " 'NChain-v0',\n",
       " 'CliffWalking-v0',\n",
       " 'Blackjack-v1',\n",
       " 'D1Basic-v1',\n",
       " 'D2Navigation-v1',\n",
       " 'D3Battle-v1',\n",
       " 'D4Battle2-v1',\n",
       " 'Basic-v1',\n",
       " 'Cig-v1',\n",
       " 'DeadlyCorridor-v1',\n",
       " 'Deathmatch-v1',\n",
       " 'DefendTheCenter-v1',\n",
       " 'DefendTheLine-v1',\n",
       " 'HealthGathering-v1',\n",
       " 'HealthGatheringSupreme-v1',\n",
       " 'MultiDuel-v1',\n",
       " 'MyWayHome-v1',\n",
       " 'PredictPosition-v1',\n",
       " 'RocketBasic-v1',\n",
       " 'SimplerBasic-v1',\n",
       " 'TakeCover-v1',\n",
       " 'VizdoomCustom-v1']"
      ]
     },
     "execution_count": 256,
     "metadata": {},
     "output_type": "execute_result"
    }
   ],
   "source": [
    "envpool.list_all_envs()"
   ]
  },
  {
   "cell_type": "code",
   "execution_count": 257,
   "metadata": {},
   "outputs": [],
   "source": [
    "# env_ids = [\"CartPole-v1\", \"Hopper-v4\"]\n",
    "env_ids = ['ManipulatorBringBall-v1', ]#'HumanoidCMUStand-v1']\n"
   ]
  },
  {
   "cell_type": "code",
   "execution_count": 258,
   "metadata": {},
   "outputs": [],
   "source": [
    "def flatten_dict(dictionary, parent_key='', sep='_'):\n",
    "    flattened_list = []\n",
    "    for key, value in dictionary.items():\n",
    "        new_key = parent_key + sep + key if parent_key else key\n",
    "        if isinstance(value, dict):\n",
    "            flattened_dict.update(flatten_dict(value, new_key, sep))\n",
    "        else:\n",
    "            flattened_dict[new_key] = value\n",
    "    return flattened_dict"
   ]
  },
  {
   "cell_type": "code",
   "execution_count": 259,
   "metadata": {},
   "outputs": [
    {
     "name": "stdout",
     "output_type": "stream",
     "text": [
      "{'key1': 1, 'key2_subkey1': 2, 'key2_subkey2_subsubkey1': 3, 'key3': 4}\n"
     ]
    }
   ],
   "source": [
    "nested_dict = {\n",
    "    'key1': 1,\n",
    "    'key2': {\n",
    "        'subkey1': 2,\n",
    "        'subkey2': {\n",
    "            'subsubkey1': 3\n",
    "        }\n",
    "    },\n",
    "    'key3': 4\n",
    "}\n",
    "\n",
    "flattened_dict = flatten_dict(nested_dict)\n",
    "print(flattened_dict)"
   ]
  },
  {
   "cell_type": "code",
   "execution_count": 260,
   "metadata": {},
   "outputs": [],
   "source": [
    "original_env = envpool.make(\n",
    "                        env_ids[0],\n",
    "                        env_type=\"gym\",\n",
    "                        num_envs=10,\n",
    "                        seed=3142,\n",
    "                    )"
   ]
  },
  {
   "cell_type": "code",
   "execution_count": 261,
   "metadata": {},
   "outputs": [
    {
     "data": {
      "text/plain": [
       "Dict(arm_pos:Box(2.2250738585072014e-308, 1.7976931348623157e+308, (8, 2), float64), arm_vel:Box(2.2250738585072014e-308, 1.7976931348623157e+308, (8,), float64), touch:Box(2.2250738585072014e-308, 1.7976931348623157e+308, (5,), float64), hand_pos:Box(2.2250738585072014e-308, 1.7976931348623157e+308, (4,), float64), object_pos:Box(2.2250738585072014e-308, 1.7976931348623157e+308, (4,), float64), object_vel:Box(2.2250738585072014e-308, 1.7976931348623157e+308, (3,), float64), target_pos:Box(2.2250738585072014e-308, 1.7976931348623157e+308, (4,), float64))"
      ]
     },
     "execution_count": 261,
     "metadata": {},
     "output_type": "execute_result"
    }
   ],
   "source": [
    "original_env.observation_space"
   ]
  },
  {
   "cell_type": "code",
   "execution_count": 262,
   "metadata": {},
   "outputs": [
    {
     "name": "stdout",
     "output_type": "stream",
     "text": [
      "Box(2.2250738585072014e-308, 1.7976931348623157e+308, (8, 2), float64)\n"
     ]
    }
   ],
   "source": [
    "for key, box in original_env.observation_space.items():\n",
    "    print(box)\n",
    "    break"
   ]
  },
  {
   "cell_type": "code",
   "execution_count": 263,
   "metadata": {},
   "outputs": [
    {
     "data": {
      "text/plain": [
       "(8, 2)"
      ]
     },
     "execution_count": 263,
     "metadata": {},
     "output_type": "execute_result"
    }
   ],
   "source": [
    "box.shape"
   ]
  },
  {
   "cell_type": "code",
   "execution_count": null,
   "metadata": {},
   "outputs": [],
   "source": []
  },
  {
   "cell_type": "code",
   "execution_count": 264,
   "metadata": {},
   "outputs": [
    {
     "data": {
      "text/plain": [
       "array([[1.79769313e+308, 1.79769313e+308],\n",
       "       [1.79769313e+308, 1.79769313e+308],\n",
       "       [1.79769313e+308, 1.79769313e+308],\n",
       "       [1.79769313e+308, 1.79769313e+308],\n",
       "       [1.79769313e+308, 1.79769313e+308],\n",
       "       [1.79769313e+308, 1.79769313e+308],\n",
       "       [1.79769313e+308, 1.79769313e+308],\n",
       "       [1.79769313e+308, 1.79769313e+308]])"
      ]
     },
     "execution_count": 264,
     "metadata": {},
     "output_type": "execute_result"
    }
   ],
   "source": [
    "box.high"
   ]
  },
  {
   "cell_type": "code",
   "execution_count": 265,
   "metadata": {},
   "outputs": [
    {
     "data": {
      "text/plain": [
       "array([[2.22507386e-308, 2.22507386e-308],\n",
       "       [2.22507386e-308, 2.22507386e-308],\n",
       "       [2.22507386e-308, 2.22507386e-308],\n",
       "       [2.22507386e-308, 2.22507386e-308],\n",
       "       [2.22507386e-308, 2.22507386e-308],\n",
       "       [2.22507386e-308, 2.22507386e-308],\n",
       "       [2.22507386e-308, 2.22507386e-308],\n",
       "       [2.22507386e-308, 2.22507386e-308]])"
      ]
     },
     "execution_count": 265,
     "metadata": {},
     "output_type": "execute_result"
    }
   ],
   "source": [
    "box.low"
   ]
  },
  {
   "cell_type": "code",
   "execution_count": 266,
   "metadata": {},
   "outputs": [
    {
     "data": {
      "text/plain": [
       "array([2.22507386e-308, 2.22507386e-308, 2.22507386e-308, 2.22507386e-308,\n",
       "       2.22507386e-308, 2.22507386e-308, 2.22507386e-308, 2.22507386e-308,\n",
       "       2.22507386e-308, 2.22507386e-308, 2.22507386e-308, 2.22507386e-308,\n",
       "       2.22507386e-308, 2.22507386e-308, 2.22507386e-308, 2.22507386e-308])"
      ]
     },
     "execution_count": 266,
     "metadata": {},
     "output_type": "execute_result"
    }
   ],
   "source": [
    "reshaped_low = box.low.reshape(-1)\n",
    "reshaped_low"
   ]
  },
  {
   "cell_type": "code",
   "execution_count": 267,
   "metadata": {},
   "outputs": [
    {
     "name": "stdout",
     "output_type": "stream",
     "text": [
      "2.2250738585072014e-308 2.2250738585072014e-308 2.2250738585072014e-308 2.2250738585072014e-308 2.2250738585072014e-308 2.2250738585072014e-308 2.2250738585072014e-308 2.2250738585072014e-308 2.2250738585072014e-308 2.2250738585072014e-308 2.2250738585072014e-308 2.2250738585072014e-308 2.2250738585072014e-308 2.2250738585072014e-308 2.2250738585072014e-308 2.2250738585072014e-308\n"
     ]
    }
   ],
   "source": [
    "print(*reshaped_low)"
   ]
  },
  {
   "cell_type": "code",
   "execution_count": 268,
   "metadata": {},
   "outputs": [
    {
     "data": {
      "text/plain": [
       "Box(-1.0, 1.0, (5,), float64)"
      ]
     },
     "execution_count": 268,
     "metadata": {},
     "output_type": "execute_result"
    }
   ],
   "source": [
    "original_env.action_space"
   ]
  },
  {
   "cell_type": "code",
   "execution_count": 269,
   "metadata": {},
   "outputs": [
    {
     "name": "stdout",
     "output_type": "stream",
     "text": [
      "Box(2.2250738585072014e-308, 1.7976931348623157e+308, (8, 2), float64)\n",
      "[16, 8, 5, 4, 4, 3, 4]\n",
      "[1.7976931348623157e+308, 1.7976931348623157e+308, 1.7976931348623157e+308, 1.7976931348623157e+308, 1.7976931348623157e+308, 1.7976931348623157e+308, 1.7976931348623157e+308, 1.7976931348623157e+308, 1.7976931348623157e+308, 1.7976931348623157e+308, 1.7976931348623157e+308, 1.7976931348623157e+308, 1.7976931348623157e+308, 1.7976931348623157e+308, 1.7976931348623157e+308, 1.7976931348623157e+308, 1.7976931348623157e+308, 1.7976931348623157e+308, 1.7976931348623157e+308, 1.7976931348623157e+308, 1.7976931348623157e+308, 1.7976931348623157e+308, 1.7976931348623157e+308, 1.7976931348623157e+308, 1.7976931348623157e+308, 1.7976931348623157e+308, 1.7976931348623157e+308, 1.7976931348623157e+308, 1.7976931348623157e+308, 1.7976931348623157e+308, 1.7976931348623157e+308, 1.7976931348623157e+308, 1.7976931348623157e+308, 1.7976931348623157e+308, 1.7976931348623157e+308, 1.7976931348623157e+308, 1.7976931348623157e+308, 1.7976931348623157e+308, 1.7976931348623157e+308, 1.7976931348623157e+308, 1.7976931348623157e+308, 1.7976931348623157e+308, 1.7976931348623157e+308, 1.7976931348623157e+308]\n",
      "[2.2250738585072014e-308, 2.2250738585072014e-308, 2.2250738585072014e-308, 2.2250738585072014e-308, 2.2250738585072014e-308, 2.2250738585072014e-308, 2.2250738585072014e-308, 2.2250738585072014e-308, 2.2250738585072014e-308, 2.2250738585072014e-308, 2.2250738585072014e-308, 2.2250738585072014e-308, 2.2250738585072014e-308, 2.2250738585072014e-308, 2.2250738585072014e-308, 2.2250738585072014e-308, 2.2250738585072014e-308, 2.2250738585072014e-308, 2.2250738585072014e-308, 2.2250738585072014e-308, 2.2250738585072014e-308, 2.2250738585072014e-308, 2.2250738585072014e-308, 2.2250738585072014e-308, 2.2250738585072014e-308, 2.2250738585072014e-308, 2.2250738585072014e-308, 2.2250738585072014e-308, 2.2250738585072014e-308, 2.2250738585072014e-308, 2.2250738585072014e-308, 2.2250738585072014e-308, 2.2250738585072014e-308, 2.2250738585072014e-308, 2.2250738585072014e-308, 2.2250738585072014e-308, 2.2250738585072014e-308, 2.2250738585072014e-308, 2.2250738585072014e-308, 2.2250738585072014e-308, 2.2250738585072014e-308, 2.2250738585072014e-308, 2.2250738585072014e-308, 2.2250738585072014e-308]\n"
     ]
    }
   ],
   "source": [
    "test_different_envs = []\n",
    "for env_id in env_ids:\n",
    "    test_envs = envpool.make(\n",
    "                        env_id,\n",
    "                        env_type=\"gym\",\n",
    "                        num_envs=10,\n",
    "                        seed=3142,\n",
    "                    )\n",
    "    test_envs.num_envs = 10\n",
    "    # test_envs = RecordEpisodeStatistics(test_envs)\n",
    "    test_envs = FlattenRecordEpisodeStatistics(test_envs)\n",
    "    test_different_envs.append(test_envs)"
   ]
  },
  {
   "cell_type": "code",
   "execution_count": null,
   "metadata": {},
   "outputs": [],
   "source": []
  },
  {
   "cell_type": "code",
   "execution_count": 270,
   "metadata": {},
   "outputs": [],
   "source": [
    "test_envs_returns = dict()\n",
    "test_envs_lengths = dict()"
   ]
  },
  {
   "cell_type": "code",
   "execution_count": 271,
   "metadata": {},
   "outputs": [],
   "source": [
    "test_envs_returns = dict()\n",
    "for i, test_envs in enumerate(test_different_envs):\n",
    "    ith_test_episodic_returns = []\n",
    "    ith_test_episodic_lengths = []\n",
    "    next_obs = test_envs.reset()\n",
    "    next_obs = torch.Tensor(next_obs)\n",
    "    dones = torch.zeros(1)\n",
    "    while len(ith_test_episodic_returns) < 10:\n",
    "        actions = np.array([test_envs.action_space.sample() for i in range(10)])\n",
    "        next_obs, reward, dones, info = test_envs.step(actions)\n",
    "        # print(info)\n",
    "        if True in dones:\n",
    "            done_env_indices = np.where(dones==True)\n",
    "            total_return = info['r'][done_env_indices]\n",
    "            total_length = info['l'][done_env_indices]\n",
    "            ith_test_episodic_returns += [*total_return]\n",
    "            ith_test_episodic_lengths += [*total_length]\n",
    "    ith_test_episodic_returns = np.array(ith_test_episodic_returns)\n",
    "    test_envs_returns[env_ids[i]] = ith_test_episodic_returns"
   ]
  },
  {
   "cell_type": "code",
   "execution_count": 272,
   "metadata": {},
   "outputs": [
    {
     "data": {
      "text/plain": [
       "{'ManipulatorBringBall-v1': array([0.0000000e+00, 2.1965659e-34, 4.9636367e-07, 6.0298610e+00,\n",
       "        6.1756853e-22, 0.0000000e+00, 6.0298610e+00, 9.1594962e-35,\n",
       "        0.0000000e+00, 0.0000000e+00], dtype=float32)}"
      ]
     },
     "execution_count": 272,
     "metadata": {},
     "output_type": "execute_result"
    },
    {
     "ename": "",
     "evalue": "",
     "output_type": "error",
     "traceback": [
      "\u001b[1;31m현재 셀 또는 이전 셀에서 코드를 실행하는 동안 Kernel이 충돌했습니다. 셀의 코드를 검토하여 오류의 가능한 원인을 식별하세요. 자세한 내용을 보려면 <a href='https://aka.ms/vscodeJupyterKernelCrash'> 여기 </a> 를 클릭하세요. 자세한 내용은 Jupyter <a href='command:jupyter.viewOutput'>로그</a>를 참조하세요."
     ]
    }
   ],
   "source": [
    "test_envs_returns"
   ]
  },
  {
   "cell_type": "code",
   "execution_count": null,
   "metadata": {},
   "outputs": [],
   "source": []
  },
  {
   "cell_type": "code",
   "execution_count": 59,
   "metadata": {},
   "outputs": [
    {
     "data": {
      "text/plain": [
       "20.9"
      ]
     },
     "execution_count": 59,
     "metadata": {},
     "output_type": "execute_result"
    }
   ],
   "source": [
    "test_envs_returns[\"CartPole-v1\"].mean()\n"
   ]
  },
  {
   "cell_type": "code",
   "execution_count": 55,
   "metadata": {},
   "outputs": [
    {
     "data": {
      "text/plain": [
       "[12.026357,\n",
       " 13.051925,\n",
       " 12.034881,\n",
       " 13.6669035,\n",
       " 11.130557,\n",
       " 15.382595,\n",
       " 23.922834,\n",
       " 7.8448334,\n",
       " 9.577665,\n",
       " 22.375751]"
      ]
     },
     "execution_count": 55,
     "metadata": {},
     "output_type": "execute_result"
    }
   ],
   "source": [
    "ith_test_episodic_returns"
   ]
  },
  {
   "cell_type": "code",
   "execution_count": 56,
   "metadata": {},
   "outputs": [
    {
     "data": {
      "text/plain": [
       "10"
      ]
     },
     "execution_count": 56,
     "metadata": {},
     "output_type": "execute_result"
    }
   ],
   "source": [
    "len(ith_test_episodic_returns)"
   ]
  },
  {
   "cell_type": "code",
   "execution_count": 47,
   "metadata": {},
   "outputs": [
    {
     "data": {
      "text/plain": [
       "(array([0]),)"
      ]
     },
     "execution_count": 47,
     "metadata": {},
     "output_type": "execute_result"
    }
   ],
   "source": []
  },
  {
   "cell_type": "code",
   "execution_count": 34,
   "metadata": {},
   "outputs": [
    {
     "data": {
      "text/plain": [
       "array([False])"
      ]
     },
     "execution_count": 34,
     "metadata": {},
     "output_type": "execute_result"
    }
   ],
   "source": [
    "dones"
   ]
  },
  {
   "cell_type": "code",
   "execution_count": null,
   "metadata": {},
   "outputs": [],
   "source": []
  }
 ],
 "metadata": {
  "kernelspec": {
   "display_name": "test_env",
   "language": "python",
   "name": "python3"
  },
  "language_info": {
   "codemirror_mode": {
    "name": "ipython",
    "version": 3
   },
   "file_extension": ".py",
   "mimetype": "text/x-python",
   "name": "python",
   "nbconvert_exporter": "python",
   "pygments_lexer": "ipython3",
   "version": "3.10.9"
  },
  "orig_nbformat": 4,
  "vscode": {
   "interpreter": {
    "hash": "a7ee91ee17640122f02738ad5b71799946a97252eaa170610250681b99b684d6"
   }
  }
 },
 "nbformat": 4,
 "nbformat_minor": 2
}
