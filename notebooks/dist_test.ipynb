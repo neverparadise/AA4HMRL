{
 "cells": [
  {
   "cell_type": "code",
   "execution_count": 7,
   "metadata": {},
   "outputs": [],
   "source": [
    "from torch.distributions import Normal, Categorical, MultivariateNormal\n",
    "import torch\n",
    "import torch.nn as nn\n",
    "import math\n",
    "import numpy as np\n",
    "import torch.nn.functional as F\n",
    "from omegaconf import DictConfig, OmegaConf\n",
    "from typing import Callable, Tuple"
   ]
  },
  {
   "cell_type": "code",
   "execution_count": 8,
   "metadata": {},
   "outputs": [],
   "source": [
    "mean = torch.randn([32, 6])\n",
    "cov_mat = torch.randn([32, 6, 6])"
   ]
  },
  {
   "cell_type": "code",
   "execution_count": 11,
   "metadata": {},
   "outputs": [
    {
     "ename": "ValueError",
     "evalue": "Expected parameter covariance_matrix (Tensor of shape (32, 6, 6)) of distribution MultivariateNormal(loc: torch.Size([32, 6]), covariance_matrix: torch.Size([32, 6, 6])) to satisfy the constraint PositiveDefinite(), but found invalid values:\ntensor([[[ 1.9723e+00,  6.0091e-01, -5.1511e-01, -4.8192e-01, -1.2684e+00,\n           2.6382e-02],\n         [ 1.8013e+00, -8.6261e-01,  1.3035e+00,  5.0069e-01,  1.9043e+00,\n          -1.3135e+00],\n         [-1.4896e+00, -1.3342e+00, -1.1746e+00,  1.3202e+00,  2.4394e+00,\n          -8.4092e-01],\n         [ 1.1432e+00,  9.9702e-01,  5.2175e-01,  2.1806e-01, -4.6252e-01,\n           1.8806e+00],\n         [-9.7731e-01, -1.3886e+00, -3.4189e-01, -9.1484e-01, -9.4250e-01,\n           8.8338e-01],\n         [ 1.5996e+00,  1.3126e+00,  5.3150e-01, -1.3218e+00, -9.5113e-01,\n           6.0364e-01]],\n\n        [[-1.3758e+00,  3.2939e-01,  5.9285e-01, -4.3282e-01, -4.3947e-02,\n           2.0383e+00],\n         [ 1.0210e+00, -6.4260e-01, -3.0261e-01,  1.8713e+00,  7.7304e-01,\n           2.4573e-01],\n         [-2.6584e+00, -2.6956e-01,  4.8661e-01, -1.9831e-01,  1.1000e+00,\n           1.6978e+00],\n         [-1.3801e+00,  4.1825e-01,  6.4444e-01,  2.3245e+00, -1.6190e+00,\n           1.1455e+00],\n         [ 1.9521e-01,  8.0146e-01,  6.0527e-01, -1.6981e+00,  2.7819e+00,\n          -1.3613e+00],\n         [ 5.9900e-01,  4.7082e-01, -1.4367e+00, -5.5909e-01, -1.3962e+00,\n          -1.7694e-02]],\n\n        [[ 3.4377e-01,  2.8919e-01,  2.0544e+00, -1.6134e+00, -8.1247e-02,\n           6.9154e-01],\n         [ 6.7934e-01,  1.1416e+00,  6.0357e-01, -5.1133e-01,  2.7383e-01,\n          -9.7961e-01],\n         [ 2.2647e+00, -4.8915e-01, -2.5546e-01,  2.7698e-01, -2.8507e-01,\n           1.2907e+00],\n         [-1.7652e-01, -2.1714e-01, -2.3404e+00,  9.0828e-01, -2.0315e+00,\n           9.5438e-01],\n         [ 1.7533e-01, -1.7376e-01, -7.6875e-01,  2.5328e+00,  8.1856e-01,\n          -9.6774e-02],\n         [ 4.2668e-01,  6.7751e-02, -8.9125e-01, -6.3191e-01, -2.0975e-01,\n           1.5054e+00]],\n\n        ...,\n\n        [[ 2.9741e-02,  7.2611e-01,  7.4580e-01,  1.7901e-01,  1.3190e-02,\n          -9.7059e-01],\n         [ 1.1321e+00, -7.2682e-01, -2.4414e-01, -1.0068e+00,  5.5859e-01,\n           4.9168e-01],\n         [ 8.6009e-02, -3.1971e+00, -1.1297e+00, -1.2314e+00, -5.2434e-01,\n           8.5692e-01],\n         [-3.2400e-02,  9.8246e-01, -2.1269e+00, -1.7050e+00, -8.0496e-01,\n          -6.6962e-01],\n         [ 2.0429e+00,  9.8610e-01,  1.0157e+00, -8.4830e-02,  1.1642e+00,\n           2.5912e-01],\n         [ 4.0877e-01,  1.9274e-01, -1.9805e-01, -8.5299e-01, -1.2847e+00,\n           1.3186e+00]],\n\n        [[-2.7251e-01,  6.5512e-01, -4.4933e-01,  9.3118e-01,  6.3062e-02,\n          -7.6927e-02],\n         [ 7.0668e-01, -1.3001e+00, -9.6989e-01,  4.0002e-01, -1.5408e-01,\n          -1.2805e+00],\n         [-1.0574e+00,  2.4606e-01,  1.1059e+00,  8.0741e-01,  1.5363e-01,\n           3.0985e-01],\n         [-2.7440e+00, -1.1357e+00,  2.8835e-01,  1.4145e+00, -9.6065e-01,\n          -7.4829e-01],\n         [ 8.1842e-02, -7.6208e-01,  5.6854e-01,  7.6921e-01, -5.1942e-01,\n           2.4988e-01],\n         [ 1.6733e+00,  9.8664e-01, -2.6294e-01,  9.7938e-01,  1.2377e-01,\n          -1.2547e+00]],\n\n        [[ 3.6928e-01,  1.7799e+00,  1.4388e+00,  1.0113e+00, -2.2036e+00,\n           9.5402e-01],\n         [ 1.4444e-01, -1.2575e+00, -1.9345e-01, -7.1768e-01,  1.0666e+00,\n          -1.7974e-02],\n         [-1.8452e+00,  6.9035e-01, -4.6788e-01,  5.5788e-01,  5.7663e-01,\n           7.4002e-01],\n         [ 7.1676e-01, -7.0784e-04,  3.8948e-01, -1.2364e+00, -1.9541e-01,\n          -6.9456e-01],\n         [-4.2071e-01, -1.3509e+00,  4.1939e-01,  8.4406e-01,  1.3390e+00,\n           5.6596e-01],\n         [-6.4742e-01,  1.0541e+00, -2.7064e+00,  2.8100e+00,  5.8211e-01,\n           2.3162e-01]]])",
     "output_type": "error",
     "traceback": [
      "\u001b[0;31m---------------------------------------------------------------------------\u001b[0m",
      "\u001b[0;31mValueError\u001b[0m                                Traceback (most recent call last)",
      "Cell \u001b[0;32mIn[11], line 1\u001b[0m\n\u001b[0;32m----> 1\u001b[0m dist \u001b[39m=\u001b[39m MultivariateNormal(loc\u001b[39m=\u001b[39;49mmean, covariance_matrix\u001b[39m=\u001b[39;49mcov_mat)\n",
      "File \u001b[0;32m~/.conda/envs/darl2/lib/python3.10/site-packages/torch/distributions/multivariate_normal.py:150\u001b[0m, in \u001b[0;36mMultivariateNormal.__init__\u001b[0;34m(self, loc, covariance_matrix, precision_matrix, scale_tril, validate_args)\u001b[0m\n\u001b[1;32m    147\u001b[0m \u001b[39mself\u001b[39m\u001b[39m.\u001b[39mloc \u001b[39m=\u001b[39m loc\u001b[39m.\u001b[39mexpand(batch_shape \u001b[39m+\u001b[39m (\u001b[39m-\u001b[39m\u001b[39m1\u001b[39m,))\n\u001b[1;32m    149\u001b[0m event_shape \u001b[39m=\u001b[39m \u001b[39mself\u001b[39m\u001b[39m.\u001b[39mloc\u001b[39m.\u001b[39mshape[\u001b[39m-\u001b[39m\u001b[39m1\u001b[39m:]\n\u001b[0;32m--> 150\u001b[0m \u001b[39msuper\u001b[39;49m()\u001b[39m.\u001b[39;49m\u001b[39m__init__\u001b[39;49m(batch_shape, event_shape, validate_args\u001b[39m=\u001b[39;49mvalidate_args)\n\u001b[1;32m    152\u001b[0m \u001b[39mif\u001b[39;00m scale_tril \u001b[39mis\u001b[39;00m \u001b[39mnot\u001b[39;00m \u001b[39mNone\u001b[39;00m:\n\u001b[1;32m    153\u001b[0m     \u001b[39mself\u001b[39m\u001b[39m.\u001b[39m_unbroadcasted_scale_tril \u001b[39m=\u001b[39m scale_tril\n",
      "File \u001b[0;32m~/.conda/envs/darl2/lib/python3.10/site-packages/torch/distributions/distribution.py:62\u001b[0m, in \u001b[0;36mDistribution.__init__\u001b[0;34m(self, batch_shape, event_shape, validate_args)\u001b[0m\n\u001b[1;32m     60\u001b[0m         valid \u001b[39m=\u001b[39m constraint\u001b[39m.\u001b[39mcheck(value)\n\u001b[1;32m     61\u001b[0m         \u001b[39mif\u001b[39;00m \u001b[39mnot\u001b[39;00m valid\u001b[39m.\u001b[39mall():\n\u001b[0;32m---> 62\u001b[0m             \u001b[39mraise\u001b[39;00m \u001b[39mValueError\u001b[39;00m(\n\u001b[1;32m     63\u001b[0m                 \u001b[39mf\u001b[39m\u001b[39m\"\u001b[39m\u001b[39mExpected parameter \u001b[39m\u001b[39m{\u001b[39;00mparam\u001b[39m}\u001b[39;00m\u001b[39m \u001b[39m\u001b[39m\"\u001b[39m\n\u001b[1;32m     64\u001b[0m                 \u001b[39mf\u001b[39m\u001b[39m\"\u001b[39m\u001b[39m(\u001b[39m\u001b[39m{\u001b[39;00m\u001b[39mtype\u001b[39m(value)\u001b[39m.\u001b[39m\u001b[39m__name__\u001b[39m\u001b[39m}\u001b[39;00m\u001b[39m of shape \u001b[39m\u001b[39m{\u001b[39;00m\u001b[39mtuple\u001b[39m(value\u001b[39m.\u001b[39mshape)\u001b[39m}\u001b[39;00m\u001b[39m) \u001b[39m\u001b[39m\"\u001b[39m\n\u001b[1;32m     65\u001b[0m                 \u001b[39mf\u001b[39m\u001b[39m\"\u001b[39m\u001b[39mof distribution \u001b[39m\u001b[39m{\u001b[39;00m\u001b[39mrepr\u001b[39m(\u001b[39mself\u001b[39m)\u001b[39m}\u001b[39;00m\u001b[39m \u001b[39m\u001b[39m\"\u001b[39m\n\u001b[1;32m     66\u001b[0m                 \u001b[39mf\u001b[39m\u001b[39m\"\u001b[39m\u001b[39mto satisfy the constraint \u001b[39m\u001b[39m{\u001b[39;00m\u001b[39mrepr\u001b[39m(constraint)\u001b[39m}\u001b[39;00m\u001b[39m, \u001b[39m\u001b[39m\"\u001b[39m\n\u001b[1;32m     67\u001b[0m                 \u001b[39mf\u001b[39m\u001b[39m\"\u001b[39m\u001b[39mbut found invalid values:\u001b[39m\u001b[39m\\n\u001b[39;00m\u001b[39m{\u001b[39;00mvalue\u001b[39m}\u001b[39;00m\u001b[39m\"\u001b[39m\n\u001b[1;32m     68\u001b[0m             )\n\u001b[1;32m     69\u001b[0m \u001b[39msuper\u001b[39m()\u001b[39m.\u001b[39m\u001b[39m__init__\u001b[39m()\n",
      "\u001b[0;31mValueError\u001b[0m: Expected parameter covariance_matrix (Tensor of shape (32, 6, 6)) of distribution MultivariateNormal(loc: torch.Size([32, 6]), covariance_matrix: torch.Size([32, 6, 6])) to satisfy the constraint PositiveDefinite(), but found invalid values:\ntensor([[[ 1.9723e+00,  6.0091e-01, -5.1511e-01, -4.8192e-01, -1.2684e+00,\n           2.6382e-02],\n         [ 1.8013e+00, -8.6261e-01,  1.3035e+00,  5.0069e-01,  1.9043e+00,\n          -1.3135e+00],\n         [-1.4896e+00, -1.3342e+00, -1.1746e+00,  1.3202e+00,  2.4394e+00,\n          -8.4092e-01],\n         [ 1.1432e+00,  9.9702e-01,  5.2175e-01,  2.1806e-01, -4.6252e-01,\n           1.8806e+00],\n         [-9.7731e-01, -1.3886e+00, -3.4189e-01, -9.1484e-01, -9.4250e-01,\n           8.8338e-01],\n         [ 1.5996e+00,  1.3126e+00,  5.3150e-01, -1.3218e+00, -9.5113e-01,\n           6.0364e-01]],\n\n        [[-1.3758e+00,  3.2939e-01,  5.9285e-01, -4.3282e-01, -4.3947e-02,\n           2.0383e+00],\n         [ 1.0210e+00, -6.4260e-01, -3.0261e-01,  1.8713e+00,  7.7304e-01,\n           2.4573e-01],\n         [-2.6584e+00, -2.6956e-01,  4.8661e-01, -1.9831e-01,  1.1000e+00,\n           1.6978e+00],\n         [-1.3801e+00,  4.1825e-01,  6.4444e-01,  2.3245e+00, -1.6190e+00,\n           1.1455e+00],\n         [ 1.9521e-01,  8.0146e-01,  6.0527e-01, -1.6981e+00,  2.7819e+00,\n          -1.3613e+00],\n         [ 5.9900e-01,  4.7082e-01, -1.4367e+00, -5.5909e-01, -1.3962e+00,\n          -1.7694e-02]],\n\n        [[ 3.4377e-01,  2.8919e-01,  2.0544e+00, -1.6134e+00, -8.1247e-02,\n           6.9154e-01],\n         [ 6.7934e-01,  1.1416e+00,  6.0357e-01, -5.1133e-01,  2.7383e-01,\n          -9.7961e-01],\n         [ 2.2647e+00, -4.8915e-01, -2.5546e-01,  2.7698e-01, -2.8507e-01,\n           1.2907e+00],\n         [-1.7652e-01, -2.1714e-01, -2.3404e+00,  9.0828e-01, -2.0315e+00,\n           9.5438e-01],\n         [ 1.7533e-01, -1.7376e-01, -7.6875e-01,  2.5328e+00,  8.1856e-01,\n          -9.6774e-02],\n         [ 4.2668e-01,  6.7751e-02, -8.9125e-01, -6.3191e-01, -2.0975e-01,\n           1.5054e+00]],\n\n        ...,\n\n        [[ 2.9741e-02,  7.2611e-01,  7.4580e-01,  1.7901e-01,  1.3190e-02,\n          -9.7059e-01],\n         [ 1.1321e+00, -7.2682e-01, -2.4414e-01, -1.0068e+00,  5.5859e-01,\n           4.9168e-01],\n         [ 8.6009e-02, -3.1971e+00, -1.1297e+00, -1.2314e+00, -5.2434e-01,\n           8.5692e-01],\n         [-3.2400e-02,  9.8246e-01, -2.1269e+00, -1.7050e+00, -8.0496e-01,\n          -6.6962e-01],\n         [ 2.0429e+00,  9.8610e-01,  1.0157e+00, -8.4830e-02,  1.1642e+00,\n           2.5912e-01],\n         [ 4.0877e-01,  1.9274e-01, -1.9805e-01, -8.5299e-01, -1.2847e+00,\n           1.3186e+00]],\n\n        [[-2.7251e-01,  6.5512e-01, -4.4933e-01,  9.3118e-01,  6.3062e-02,\n          -7.6927e-02],\n         [ 7.0668e-01, -1.3001e+00, -9.6989e-01,  4.0002e-01, -1.5408e-01,\n          -1.2805e+00],\n         [-1.0574e+00,  2.4606e-01,  1.1059e+00,  8.0741e-01,  1.5363e-01,\n           3.0985e-01],\n         [-2.7440e+00, -1.1357e+00,  2.8835e-01,  1.4145e+00, -9.6065e-01,\n          -7.4829e-01],\n         [ 8.1842e-02, -7.6208e-01,  5.6854e-01,  7.6921e-01, -5.1942e-01,\n           2.4988e-01],\n         [ 1.6733e+00,  9.8664e-01, -2.6294e-01,  9.7938e-01,  1.2377e-01,\n          -1.2547e+00]],\n\n        [[ 3.6928e-01,  1.7799e+00,  1.4388e+00,  1.0113e+00, -2.2036e+00,\n           9.5402e-01],\n         [ 1.4444e-01, -1.2575e+00, -1.9345e-01, -7.1768e-01,  1.0666e+00,\n          -1.7974e-02],\n         [-1.8452e+00,  6.9035e-01, -4.6788e-01,  5.5788e-01,  5.7663e-01,\n           7.4002e-01],\n         [ 7.1676e-01, -7.0784e-04,  3.8948e-01, -1.2364e+00, -1.9541e-01,\n          -6.9456e-01],\n         [-4.2071e-01, -1.3509e+00,  4.1939e-01,  8.4406e-01,  1.3390e+00,\n           5.6596e-01],\n         [-6.4742e-01,  1.0541e+00, -2.7064e+00,  2.8100e+00,  5.8211e-01,\n           2.3162e-01]]])"
     ]
    }
   ],
   "source": [
    "dist = MultivariateNormal(loc=mean, covariance_matrix=cov_mat)"
   ]
  },
  {
   "cell_type": "code",
   "execution_count": 12,
   "metadata": {},
   "outputs": [],
   "source": [
    "µ = torch.tensor([-10.5,2.0])\n",
    "cov = torch.tensor([[12.0, 8.0], [8.0, 40.0]])\n",
    "dist = MultivariateNormal(loc=µ, covariance_matrix=cov)\n"
   ]
  },
  {
   "cell_type": "code",
   "execution_count": 13,
   "metadata": {},
   "outputs": [
    {
     "data": {
      "text/plain": [
       "MultivariateNormal(loc: torch.Size([2]), covariance_matrix: torch.Size([2, 2]))"
      ]
     },
     "execution_count": 13,
     "metadata": {},
     "output_type": "execute_result"
    }
   ],
   "source": [
    "dist"
   ]
  },
  {
   "cell_type": "code",
   "execution_count": 14,
   "metadata": {},
   "outputs": [],
   "source": [
    "def get_activation(activation_name: str):\n",
    "    if activation_name == 'tanh':\n",
    "        activation = nn.Tanh\n",
    "    elif activation_name == 'learnable':\n",
    "        pass\n",
    "    elif activation_name == 'relu':\n",
    "        activation = nn.ReLU\n",
    "    elif activation_name == 'leakyrelu':\n",
    "        activation = nn.LeakyReLU\n",
    "    elif activation_name == \"prelu\":\n",
    "        activation = nn.PReLU\n",
    "    elif activation_name == 'gelu':\n",
    "        activation = nn.GELU\n",
    "    elif activation_name == 'sigmoid':\n",
    "        activation = nn.Sigmoid\n",
    "    elif activation_name in [ None, 'id', 'identity', 'linear', 'none' ]:\n",
    "        activation = nn.Identity\n",
    "    elif activation_name == 'elu':\n",
    "        activation = nn.ELU\n",
    "    elif activation_name in ['swish', 'silu']:\n",
    "        activation = nn.SiLU\n",
    "    elif activation_name == 'softplus':\n",
    "        activation = nn.Softplus\n",
    "    else:\n",
    "        raise NotImplementedError(\"hidden activation '{}' is not implemented\".format(activation))\n",
    "    return activation"
   ]
  },
  {
   "cell_type": "code",
   "execution_count": 15,
   "metadata": {},
   "outputs": [],
   "source": [
    "class RNNEncoder(nn.Module):\n",
    "    def __init__(self):\n",
    "        super().__init__()\n",
    "        self.d_model = 256\n",
    "        self.final_act = \"identity\"\n",
    "        self.final_act_func = get_activation(self.final_act)()\n",
    "        self.embedding = nn.Linear(1, self.d_model)\n",
    "        self.rnn = nn.GRU(input_size=self.d_model,\n",
    "                          hidden_size=self.d_model,\n",
    "                          num_layers=1,\n",
    "                          bias=True,\n",
    "                          batch_first=True,\n",
    "                          bidirectional=True\n",
    "                          )\n",
    "                                                \n",
    "    def forward(self, x):\n",
    "        #  # x: [batch_size, feature_dim]\n",
    "        # print(x.storage())\n",
    "        batch_size = x.size(0)\n",
    "        feature_dim = x.size(1)\n",
    "        ux = x.unsqueeze(-1) # x: [batch_size, feature_dim, 1]\n",
    "        ux = self.embedding(ux) # ux: [batch_size, feature_dim, 32]\n",
    "        weights, h_n = self.rnn(ux) # weights shape: [batch_size, feature_dim, 2*d_model]\n",
    "        print(weights.shape)\n",
    "        weights = weights.reshape(batch_size, feature_dim, 2, self.d_model)\n",
    "        weights = weights.mean(dim=2, keepdim=False)\n",
    "        weights = self.final_act_func(weights)\n",
    "        return weights"
   ]
  },
  {
   "cell_type": "code",
   "execution_count": null,
   "metadata": {},
   "outputs": [],
   "source": []
  }
 ],
 "metadata": {
  "kernelspec": {
   "display_name": "darl2",
   "language": "python",
   "name": "python3"
  },
  "language_info": {
   "codemirror_mode": {
    "name": "ipython",
    "version": 3
   },
   "file_extension": ".py",
   "mimetype": "text/x-python",
   "name": "python",
   "nbconvert_exporter": "python",
   "pygments_lexer": "ipython3",
   "version": "3.10.12"
  },
  "orig_nbformat": 4,
  "vscode": {
   "interpreter": {
    "hash": "a9e147bd2cac9f8cba0aaeac8e3aa69463602115a7ce7416575bcd10d62ea995"
   }
  }
 },
 "nbformat": 4,
 "nbformat_minor": 2
}
