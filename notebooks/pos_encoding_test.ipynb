{
 "cells": [
  {
   "cell_type": "code",
   "execution_count": 2,
   "metadata": {},
   "outputs": [],
   "source": [
    "import torch\n",
    "import torch.nn as nn\n",
    "import math"
   ]
  },
  {
   "cell_type": "code",
   "execution_count": 26,
   "metadata": {},
   "outputs": [],
   "source": [
    "def positional_encoding(x, d_model, seq_len):\n",
    "    position = torch.arange(seq_len).unsqueeze(1)\n",
    "    div_term = torch.exp(torch.arange(0, d_model, 2) * (-math.log(10000.0) / d_model))\n",
    "    pe = torch.zeros(1, seq_len, d_model)\n",
    "    pe[0, :, 0::2] = torch.sin(position * div_term)\n",
    "    pe[0:, :, 1::2] = torch.cos(position * div_term)\n",
    "    return x + pe"
   ]
  },
  {
   "cell_type": "code",
   "execution_count": 30,
   "metadata": {},
   "outputs": [],
   "source": [
    "feature = torch.ones([32, 17, 4])\n",
    "h = positional_encoding(feature, 4, 17)"
   ]
  },
  {
   "cell_type": "code",
   "execution_count": 31,
   "metadata": {},
   "outputs": [
    {
     "name": "stdout",
     "output_type": "stream",
     "text": [
      "tensor([[1., 1., 1., 1.],\n",
      "        [1., 1., 1., 1.],\n",
      "        [1., 1., 1., 1.],\n",
      "        [1., 1., 1., 1.],\n",
      "        [1., 1., 1., 1.],\n",
      "        [1., 1., 1., 1.],\n",
      "        [1., 1., 1., 1.],\n",
      "        [1., 1., 1., 1.],\n",
      "        [1., 1., 1., 1.],\n",
      "        [1., 1., 1., 1.],\n",
      "        [1., 1., 1., 1.],\n",
      "        [1., 1., 1., 1.],\n",
      "        [1., 1., 1., 1.],\n",
      "        [1., 1., 1., 1.],\n",
      "        [1., 1., 1., 1.],\n",
      "        [1., 1., 1., 1.],\n",
      "        [1., 1., 1., 1.]])\n",
      "torch.Size([32, 17, 4])\n"
     ]
    }
   ],
   "source": [
    "print(feature[0])\n",
    "print(feature.shape)"
   ]
  },
  {
   "cell_type": "code",
   "execution_count": 32,
   "metadata": {},
   "outputs": [
    {
     "name": "stdout",
     "output_type": "stream",
     "text": [
      "tensor([[1.0000e+00, 2.0000e+00, 1.0000e+00, 2.0000e+00],\n",
      "        [1.8415e+00, 1.5403e+00, 1.0100e+00, 1.9999e+00],\n",
      "        [1.9093e+00, 5.8385e-01, 1.0200e+00, 1.9998e+00],\n",
      "        [1.1411e+00, 1.0008e-02, 1.0300e+00, 1.9996e+00],\n",
      "        [2.4320e-01, 3.4636e-01, 1.0400e+00, 1.9992e+00],\n",
      "        [4.1076e-02, 1.2837e+00, 1.0500e+00, 1.9988e+00],\n",
      "        [7.2058e-01, 1.9602e+00, 1.0600e+00, 1.9982e+00],\n",
      "        [1.6570e+00, 1.7539e+00, 1.0699e+00, 1.9976e+00],\n",
      "        [1.9894e+00, 8.5450e-01, 1.0799e+00, 1.9968e+00],\n",
      "        [1.4121e+00, 8.8870e-02, 1.0899e+00, 1.9960e+00],\n",
      "        [4.5598e-01, 1.6093e-01, 1.0998e+00, 1.9950e+00],\n",
      "        [9.7752e-06, 1.0044e+00, 1.1098e+00, 1.9940e+00],\n",
      "        [4.6343e-01, 1.8439e+00, 1.1197e+00, 1.9928e+00],\n",
      "        [1.4202e+00, 1.9074e+00, 1.1296e+00, 1.9916e+00],\n",
      "        [1.9906e+00, 1.1367e+00, 1.1395e+00, 1.9902e+00],\n",
      "        [1.6503e+00, 2.4031e-01, 1.1494e+00, 1.9888e+00],\n",
      "        [7.1210e-01, 4.2341e-02, 1.1593e+00, 1.9872e+00]])\n",
      "torch.Size([32, 17, 4])\n"
     ]
    }
   ],
   "source": [
    "print(h[0])\n",
    "print(h.shape)"
   ]
  },
  {
   "cell_type": "code",
   "execution_count": null,
   "metadata": {},
   "outputs": [],
   "source": []
  }
 ],
 "metadata": {
  "kernelspec": {
   "display_name": "HMRL",
   "language": "python",
   "name": "python3"
  },
  "language_info": {
   "codemirror_mode": {
    "name": "ipython",
    "version": 3
   },
   "file_extension": ".py",
   "mimetype": "text/x-python",
   "name": "python",
   "nbconvert_exporter": "python",
   "pygments_lexer": "ipython3",
   "version": "3.9.17"
  },
  "orig_nbformat": 4,
  "vscode": {
   "interpreter": {
    "hash": "8719e50d026025b94f58105440f85a6bf990a5dd7b0a32985b3fd4edbc65bfcb"
   }
  }
 },
 "nbformat": 4,
 "nbformat_minor": 2
}
